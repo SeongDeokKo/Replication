{
  "nbformat": 4,
  "nbformat_minor": 0,
  "metadata": {
    "accelerator": "GPU",
    "colab": {
      "name": "Krusell_Smith_Original",
      "provenance": [],
      "collapsed_sections": [],
      "machine_shape": "hm",
      "include_colab_link": true
    },
    "kernelspec": {
      "display_name": "Julia",
      "language": "julia",
      "name": "julia"
    },
    "language_info": {
      "file_extension": ".jl",
      "mimetype": "application/julia",
      "name": "julia"
    }
  },
  "cells": [
    {
      "cell_type": "markdown",
      "metadata": {
        "id": "view-in-github",
        "colab_type": "text"
      },
      "source": [
        "<a href=\"https://colab.research.google.com/github/SeongDeokKo/Replication/blob/master/Krusell_Smith_Original.ipynb\" target=\"_parent\"><img src=\"https://colab.research.google.com/assets/colab-badge.svg\" alt=\"Open In Colab\"/></a>"
      ]
    },
    {
      "cell_type": "markdown",
      "metadata": {
        "id": "6ew60wXrZM0W"
      },
      "source": [
        "## Running on Google Colab\n",
        "1. Work on a copy of this notebook: _File_ > _Save a copy in Drive_ (you will need a Google account). Alternatively, you can download the notebook using _File_ > _Download .ipynb_, then upload it to [Colab](https://colab.research.google.com/).\n",
        "2. Execute the following cell (click on it and press Ctrl+Enter) to install Julia, IJulia (the Jupyter kernel for Julia) and other packages. You can update `JULIA_VERSION` and the other parameters, if you know what you're doing. Installation takes 2-3 minutes.\n",
        "3. Reload this page (press Ctrl+R, or ⌘+R, or the F5 key) and continue to the _Checking the Installation_ section.\n",
        "\n",
        "* _Note_: If your Colab Runtime gets reset (e.g., due to inactivity), repeat steps 2 and 3."
      ]
    },
    {
      "cell_type": "code",
      "metadata": {
        "colab": {
          "base_uri": "https://localhost:8080/"
        },
        "id": "lfJZ4yEC1k1e",
        "outputId": "4080c48e-cacb-4b93-ae0f-81416f2d8a76"
      },
      "source": [
        "from google.colab import drive\n",
        "drive.mount('/content/drive')"
      ],
      "execution_count": null,
      "outputs": [
        {
          "output_type": "stream",
          "text": [
            "Mounted at /content/drive\n"
          ],
          "name": "stdout"
        }
      ]
    },
    {
      "cell_type": "code",
      "metadata": {
        "colab": {
          "base_uri": "https://localhost:8080/"
        },
        "id": "GIeFXS0F0zww",
        "outputId": "36918665-46a2-4b65-dd44-8a6947619bf4"
      },
      "source": [
        "%%shell\n",
        "set -e\n",
        "\n",
        "#---------------------------------------------------#\n",
        "JULIA_VERSION=\"1.6.0\" # any version ≥ 0.7.0\n",
        "JULIA_PACKAGES=\"IJulia BenchmarkTools PyCall PyPlot QuantEcon JLD2 Roots Random LinearAlgebra Plots Distributions Dierckx Optim Roots GLM StatsBase Parameters Interpolations\"\n",
        "JULIA_PACKAGES_IF_GPU=\"CUDA\"\n",
        "JULIA_NUM_THREADS=4\n",
        "#---------------------------------------------------#\n",
        "\n",
        "if [ -n \"$COLAB_GPU\" ] && [ -z `which julia` ]; then\n",
        "  # Install Julia\n",
        "  JULIA_VER=`cut -d '.' -f -2 <<< \"$JULIA_VERSION\"`\n",
        "  echo \"Installing Julia $JULIA_VERSION on the current Colab Runtime...\"\n",
        "  BASE_URL=\"https://julialang-s3.julialang.org/bin/linux/x64\"\n",
        "  URL=\"$BASE_URL/$JULIA_VER/julia-$JULIA_VERSION-linux-x86_64.tar.gz\"\n",
        "  wget -nv $URL -O /tmp/julia.tar.gz # -nv means \"not verbose\"\n",
        "  tar -x -f /tmp/julia.tar.gz -C /usr/local --strip-components 1\n",
        "  rm /tmp/julia.tar.gz\n",
        "\n",
        "  # Install Packages\n",
        "  if [ \"$COLAB_GPU\" = \"1\" ]; then\n",
        "      JULIA_PACKAGES=\"$JULIA_PACKAGES $JULIA_PACKAGES_IF_GPU\"\n",
        "  fi\n",
        "  for PKG in `echo $JULIA_PACKAGES`; do\n",
        "    echo \"Installing Julia package $PKG...\"\n",
        "    julia -e 'using Pkg; pkg\"add '$PKG'; precompile;\"' &> /dev/null\n",
        "  done\n",
        "\n",
        "  # Install kernel and rename it to \"julia\"\n",
        "  echo \"Installing IJulia kernel...\"\n",
        "  julia -e 'using IJulia; IJulia.installkernel(\"julia\", env=Dict(\n",
        "      \"JULIA_NUM_THREADS\"=>\"'\"$JULIA_NUM_THREADS\"'\"))'\n",
        "  KERNEL_DIR=`julia -e \"using IJulia; print(IJulia.kerneldir())\"`\n",
        "  KERNEL_NAME=`ls -d \"$KERNEL_DIR\"/julia*`\n",
        "  mv -f $KERNEL_NAME \"$KERNEL_DIR\"/julia  \n",
        "\n",
        "  echo ''\n",
        "  echo \"Successfully installed `julia -v`!\"\n",
        "  echo \"Please reload this page (press Ctrl+R, ⌘+R, or the F5 key) then\"\n",
        "  echo \"jump to the 'Checking the Installation' section.\"\n",
        "fi"
      ],
      "execution_count": null,
      "outputs": [
        {
          "output_type": "stream",
          "text": [
            "Installing Julia 1.6.0 on the current Colab Runtime...\n",
            "2021-07-13 04:12:36 URL:https://storage.googleapis.com/julialang2/bin/linux/x64/1.6/julia-1.6.0-linux-x86_64.tar.gz [112838927/112838927] -> \"/tmp/julia.tar.gz\" [1]\n",
            "Installing Julia package IJulia...\n",
            "Installing Julia package BenchmarkTools...\n",
            "Installing Julia package PyCall...\n",
            "Installing Julia package PyPlot...\n",
            "Installing Julia package QuantEcon...\n",
            "Installing Julia package JLD2...\n",
            "Installing Julia package Roots...\n",
            "Installing Julia package Random...\n",
            "Installing Julia package LinearAlgebra...\n",
            "Installing Julia package Plots...\n",
            "Installing Julia package Distributions...\n",
            "Installing Julia package Dierckx...\n",
            "Installing Julia package Optim...\n",
            "Installing Julia package Roots...\n",
            "Installing Julia package GLM...\n",
            "Installing Julia package StatsBase...\n",
            "Installing Julia package Parameters...\n",
            "Installing Julia package Interpolations...\n",
            "Installing Julia package CUDA...\n",
            "Installing IJulia kernel...\n",
            "\u001b[36m\u001b[1m[ \u001b[22m\u001b[39m\u001b[36m\u001b[1mInfo: \u001b[22m\u001b[39mInstalling julia kernelspec in /root/.local/share/jupyter/kernels/julia-1.6\n",
            "\n",
            "Successfully installed julia version 1.6.0!\n",
            "Please reload this page (press Ctrl+R, ⌘+R, or the F5 key) then\n",
            "jump to the 'Checking the Installation' section.\n"
          ],
          "name": "stdout"
        },
        {
          "output_type": "execute_result",
          "data": {
            "text/plain": [
              ""
            ]
          },
          "metadata": {
            "tags": []
          },
          "execution_count": 2
        }
      ]
    },
    {
      "cell_type": "code",
      "metadata": {
        "colab": {
          "base_uri": "https://localhost:8080/"
        },
        "id": "EEzvvzCl1i0F",
        "outputId": "5408d29a-b4a8-427e-904f-1956047b8cd3"
      },
      "source": [
        "versioninfo()"
      ],
      "execution_count": 1,
      "outputs": [
        {
          "output_type": "stream",
          "text": [
            "Julia Version 1.6.0\n",
            "Commit f9720dc2eb (2021-03-24 12:55 UTC)\n",
            "Platform Info:\n",
            "  OS: Linux (x86_64-pc-linux-gnu)\n",
            "  CPU: Intel(R) Xeon(R) CPU @ 2.20GHz\n",
            "  WORD_SIZE: 64\n",
            "  LIBM: libopenlibm\n",
            "  LLVM: libLLVM-11.0.1 (ORCJIT, broadwell)\n",
            "Environment:\n",
            "  JULIA_NUM_THREADS = 4\n"
          ],
          "name": "stdout"
        }
      ]
    },
    {
      "cell_type": "code",
      "metadata": {
        "id": "ppk5lWK43w68"
      },
      "source": [
        "using LinearAlgebra\n",
        "using QuantEcon\n",
        "using Roots\n",
        "using Dierckx\n",
        "using Optim\n",
        "using Parameters\n",
        "using StatsBase\n",
        "using GLM\n",
        "using Interpolations\n",
        "using Random\n",
        "using JLD2"
      ],
      "execution_count": 2,
      "outputs": []
    },
    {
      "cell_type": "code",
      "metadata": {
        "id": "aiY0el0neQAe",
        "colab": {
          "base_uri": "https://localhost:8080/"
        },
        "outputId": "861df03a-46f0-4066-ecca-f1dec3b86649"
      },
      "source": [
        "const β = 0.99\n",
        "const δ = 0.025\n",
        "const σ = 1\n",
        "const α = 0.36\n",
        "const zg = 1.01\n",
        "const zb = 0.99\n",
        "const ug = 0.04\n",
        "const ub = 0.1\n",
        "const nz = 2 # the number of aggregate states\n",
        "const zgrid = [zg, zb] # TFP grid\n",
        "const T = 3000 # final time period\n",
        "const T0 = 500 # discard all the points before this period\n",
        "const ne = 2\n",
        "# transition probabilities\n",
        "const πgg = 7/8 # good -> good\n",
        "const πgb = 1/8 # good -> bad\n",
        "const πbg = 1/8 # bad -> good\n",
        "const πbb = 7/8 # bad -> bad\n",
        "# constant unemployment rates in each state\n",
        "const ug = 0.04\n",
        "const ub = 0.1\n",
        "const L_bar = 0.3271 # Krusell Smith 논문에 이렇게 주어짐. \n",
        "const Lgrid = [1-ug, 1-ub] * L_bar # Aggregate Labor\n",
        "const mu = 0.15 # Fractrion of "
      ],
      "execution_count": 3,
      "outputs": [
        {
          "output_type": "execute_result",
          "data": {
            "text/plain": [
              "0.15"
            ]
          },
          "metadata": {
            "tags": []
          },
          "execution_count": 3
        }
      ]
    },
    {
      "cell_type": "code",
      "metadata": {
        "colab": {
          "base_uri": "https://localhost:8080/"
        },
        "id": "1k2oNJrodtCA",
        "outputId": "3b566bb4-f9f4-4226-c350-37c6741f12c0"
      },
      "source": [
        "kss=((1/β-(1-δ))/α)^(1/(α-1)) * L_bar"
      ],
      "execution_count": 4,
      "outputs": [
        {
          "output_type": "execute_result",
          "data": {
            "text/plain": [
              "12.426284832329591"
            ]
          },
          "metadata": {
            "tags": []
          },
          "execution_count": 4
        }
      ]
    },
    {
      "cell_type": "code",
      "metadata": {
        "id": "FeMEiityHxEp"
      },
      "source": [
        "α*zg*Kval^(α-1)*(Lgrid[1])^(1-α) - δ"
      ],
      "execution_count": null,
      "outputs": []
    },
    {
      "cell_type": "code",
      "metadata": {
        "colab": {
          "base_uri": "https://localhost:8080/"
        },
        "id": "vV_9crw7Hrqr",
        "outputId": "34f5ffea-b5f6-4ff8-9410-dbf373644f26"
      },
      "source": [
        "r_init = α*kss^(α-1) * L_bar^(1-α) - δ\n",
        "w_init = (1-α) * kss^α * (L_bar)^(-α)"
      ],
      "execution_count": 20,
      "outputs": [
        {
          "output_type": "execute_result",
          "data": {
            "text/plain": [
              "2.37059763941781"
            ]
          },
          "metadata": {
            "tags": []
          },
          "execution_count": 20
        }
      ]
    },
    {
      "cell_type": "code",
      "metadata": {
        "id": "OD02R0GWIi1u"
      },
      "source": [
        ""
      ],
      "execution_count": null,
      "outputs": []
    },
    {
      "cell_type": "code",
      "metadata": {
        "id": "qAe9ai3feQFZ"
      },
      "source": [
        "#=P = [P_GEGE P_GEGU P_GEBE P_GEBU ;\n",
        "      P_GUGE P_GUGU P_GUBE P_GUBU ;\n",
        "      P_BEGE P_BEGU P_BEBE P_BEBU ;\n",
        "      P_BUGE P_BUGU P_BUBE P_BUBU ] \n",
        "=##\n",
        "\n",
        "P = zeros(4,4); # Transition Matrix 저장할 곳 \n",
        "P[2,2] = 1/3 ;\n",
        "P[2,1] = 7/8 - P[2,2]\n",
        "P[4,4] = 0.6 ;\n",
        "P[4,3] = 7/8 - 0.6\n",
        "P[2,4] = 3/28 ; \n",
        "P[2,3] = 1/8 - P[2,4]\n",
        "P[4,2] = 1/28 ; \n",
        "P[4,1] = 1/8 - 1/28\n",
        "RHS12 =  ug - ug * P[2,2]/πgg ; \n",
        "LHS12 = (1-ug)/πgg\n",
        "P[1,2] = RHS12/LHS12 ; \n",
        "P[1,1] = 7/8 - P[1,2]\n",
        "RHS14 = ub - ug*P[2,4]/πgb ; \n",
        "LHS14 = (1-ug)/πgb\n",
        "P[1,4] = RHS14/LHS14 ; \n",
        "P[1,3] = 1/8 - P[1,4]\n",
        "RHS32 = 0.04 - P[4,2]*8*0.1 ; \n",
        "LHS32 = 0.9/(1/8)\n",
        "P[3,2] = RHS32/LHS32 ; \n",
        "P[3,1] = 1/8 - P[3,2]\n",
        "RHS34 = 0.1 - P[4,4]*8/7*0.1 ; \n",
        "LHS34 = 0.9/(7/8)\n",
        "P[3,4] = RHS34/LHS34 ; \n",
        "P[3,3] = 7/8 - P[3,4];\n"
      ],
      "execution_count": 5,
      "outputs": []
    },
    {
      "cell_type": "code",
      "metadata": {
        "colab": {
          "base_uri": "https://localhost:8080/"
        },
        "id": "adaALtLikwzw",
        "outputId": "d057b9e1-17be-4663-bac6-13dc7486f9e3"
      },
      "source": [
        "Random.seed!(12345)"
      ],
      "execution_count": 6,
      "outputs": [
        {
          "output_type": "execute_result",
          "data": {
            "text/plain": [
              "MersenneTwister(12345)"
            ]
          },
          "metadata": {
            "tags": []
          },
          "execution_count": 6
        }
      ]
    },
    {
      "cell_type": "code",
      "metadata": {
        "colab": {
          "base_uri": "https://localhost:8080/"
        },
        "id": "mgrA32o9eQCt",
        "outputId": "26f7edc7-a8bb-4f37-b3e4-9f4fdd5444a4"
      },
      "source": [
        "using Distributions\n",
        "function Generate_Shock(T::Int64,NH::Int64)\n",
        "    zseq = zeros(Int64,T)\n",
        "    zseq[1] = 0 # arbitrarily chosen\n",
        "    \n",
        "    P_GGEE = P[1,1] /(P[1,1] + P[1,2] )\n",
        "    P_GBEE = P[1,3] /(P[1,3] + P[1,4] )\n",
        "    P_GGUE = P[2,1] /(P[2,1] + P[2,2] )\n",
        "    P_GBUE = P[2,3] /(P[2,3] + P[2,3] )\n",
        "\n",
        "    P_BGEE = P[3,1] /(P[3,1] + P[3,2] ) \n",
        "    P_BBEE = P[3,3] /(P[3,3] + P[3,4] ) \n",
        "    P_BGUE = P[4,1] /(P[4,1] + P[4,2] ) \n",
        "    P_BBUE = P[4,3] /(P[4,4] + P[4,4] ) \n",
        "    for iter in 2:T\n",
        "        if zseq[iter-1] == 1\n",
        "            zseq[iter] = sample([1, 0], weights([πgg, πgb]))\n",
        "        elseif zseq[iter-1] == 0\n",
        "            zseq[iter] = sample([1, 0], weights([πbg, πbb]))\n",
        "        end\n",
        "    end\n",
        "\n",
        "    Zt = zeros(Float64,T);\n",
        "    for t in eachindex(zseq)\n",
        "        if zseq[t] == 1\n",
        "            Zt[t] = zgrid[1]\n",
        "        else\n",
        "            Zt[t] = zgrid[2]\n",
        "        end \n",
        "    end\n",
        "\n",
        "    Ind_shock = zeros(Int64,NH,T)\n",
        "    for NH_idx = 1:NH\n",
        "        u = rand(Uniform(0,1))\n",
        "        if zseq[1] == 0\n",
        "            if u < ub\n",
        "                Ind_shock[NH_idx,1] = 0\n",
        "            else\n",
        "                Ind_shock[NH_idx,1] = 1\n",
        "            end\n",
        "        else zseq[1] == 1\n",
        "            if u < ug\n",
        "                Ind_shock[NH_idx,1] = 0\n",
        "            else\n",
        "                Ind_shock[NH_idx,1] = 1\n",
        "            end\n",
        "        end\n",
        "    end\n",
        "    for t = 2:T\n",
        "        for NH_idx = 1:NH\n",
        "            u = rand(Uniform(0,1))\n",
        "            ## Good To Good \n",
        "            if zseq[t-1] == 1 && zseq[t] == 1\n",
        "                if Ind_shock[NH_idx,t-1] == 1\n",
        "                    if u < P_GGEE \n",
        "                        Ind_shock[NH_idx,t] = 1\n",
        "                    else \n",
        "                        Ind_shock[NH_idx,t] = 0\n",
        "                    end\n",
        "                else \n",
        "                    if u < P_GGUE \n",
        "                        Ind_shock[NH_idx,t] = 1\n",
        "                    else \n",
        "                        Ind_shock[NH_idx,t] = 0\n",
        "                    end\n",
        "                end\n",
        "            elseif zseq[t-1] == 1 && zseq[t] == 0\n",
        "            ## Good To Bad\n",
        "                if Ind_shock[NH_idx,t-1] == 1\n",
        "                    if u < P_GBEE\n",
        "                        Ind_shock[NH_idx,t] = 1\n",
        "                    else \n",
        "                        Ind_shock[NH_idx,t] = 0\n",
        "                    end\n",
        "                else \n",
        "                    if u < P_GBUE\n",
        "                        Ind_shock[NH_idx,t] = 1\n",
        "                    else \n",
        "                        Ind_shock[NH_idx,t] = 0\n",
        "                    end\n",
        "                end\n",
        "            elseif zseq[t-1] == 0 && zseq[t] == 1\n",
        "            ## Bad to Good\n",
        "                if Ind_shock[NH_idx,t-1] == 1\n",
        "                    if u < P_BGEE\n",
        "                        Ind_shock[NH_idx,t] = 1\n",
        "                    else \n",
        "                        Ind_shock[NH_idx,t] = 0\n",
        "                    end\n",
        "                else \n",
        "                    if u < P_BGUE \n",
        "                        Ind_shock[NH_idx,t] = 1\n",
        "                    else \n",
        "                        Ind_shock[NH_idx,t] = 0\n",
        "                    end\n",
        "                end\n",
        "            else\n",
        "            ## Bad to Bad\n",
        "                if Ind_shock[NH_idx,t-1] == 1\n",
        "                    if u < P_BBEE\n",
        "                        Ind_shock[NH_idx,t] = 1\n",
        "                    else \n",
        "                        Ind_shock[NH_idx,t] = 0\n",
        "                    end\n",
        "                else \n",
        "                    if u < P_BBUE \n",
        "                        Ind_shock[NH_idx,t] = 1\n",
        "                    else \n",
        "                        Ind_shock[NH_idx,t] = 0\n",
        "                    end\n",
        "                end\n",
        "            end\n",
        "        end\n",
        "    end\n",
        "\n",
        "    return zseq, Zt , Ind_shock\n",
        "\n",
        "end"
      ],
      "execution_count": 7,
      "outputs": [
        {
          "output_type": "execute_result",
          "data": {
            "text/plain": [
              "Generate_Shock (generic function with 1 method)"
            ]
          },
          "metadata": {
            "tags": []
          },
          "execution_count": 7
        }
      ]
    },
    {
      "cell_type": "code",
      "metadata": {
        "id": "z-Y0F1GF1sDr"
      },
      "source": [
        "NH = 10_000;\n",
        "zseq, Zt , Ind_shock=Generate_Shock(T,NH);"
      ],
      "execution_count": 8,
      "outputs": []
    },
    {
      "cell_type": "code",
      "metadata": {
        "colab": {
          "base_uri": "https://localhost:8080/"
        },
        "id": "eMRuA7cpmYKh",
        "outputId": "3515f671-4dcd-4cc7-9e45-6765431cb675"
      },
      "source": [
        "function U(x::Float64)\n",
        "    if x < 0\n",
        "        return -Inf\n",
        "    end\n",
        "    return log(x)\n",
        "end\n",
        "function U(x::Int64)\n",
        "    if x < 0\n",
        "        return -Inf\n",
        "    end\n",
        "    return log(x)\n",
        "end"
      ],
      "execution_count": 9,
      "outputs": [
        {
          "output_type": "execute_result",
          "data": {
            "text/plain": [
              "U (generic function with 2 methods)"
            ]
          },
          "metadata": {
            "tags": []
          },
          "execution_count": 9
        }
      ]
    },
    {
      "cell_type": "code",
      "metadata": {
        "id": "SC_sm9ktfeer"
      },
      "source": [
        "# capital grid\n",
        "Kmin = kss * 0.65\n",
        "Kmax = kss * 1.35\n",
        "nK = 4\n",
        "Kgrid = range(Kmin, Kmax, length=nK) |> collect ;"
      ],
      "execution_count": 10,
      "outputs": []
    },
    {
      "cell_type": "code",
      "metadata": {
        "id": "HCUPn9XinKuD"
      },
      "source": [
        "amin=0;                #   % minimum grid-value of capitala\n",
        "amax=1000;             #   % maximum grid-value of capital\n",
        "na= 100;                #% number of grid points\n",
        "x = range(0,0.5,length = na);# % generate a grid of ngridk points on [0,0.5] #   % interval  \n",
        "y = x.^7/maximum(x).^7\n",
        "\n",
        "agrid = amin .+ (amax - amin) * y;"
      ],
      "execution_count": 15,
      "outputs": []
    },
    {
      "cell_type": "code",
      "metadata": {
        "colab": {
          "base_uri": "https://localhost:8080/"
        },
        "id": "ME3ujHqzfkm3",
        "outputId": "36e70361-3f38-4aa9-9809-c909ed38faf1"
      },
      "source": [
        "# 초기값 \n",
        "Coef= [0.0 1.0;  0.0 1.0]"
      ],
      "execution_count": 16,
      "outputs": [
        {
          "output_type": "execute_result",
          "data": {
            "text/plain": [
              "2×2 Matrix{Float64}:\n",
              " 0.0  1.0\n",
              " 0.0  1.0"
            ]
          },
          "metadata": {
            "tags": []
          },
          "execution_count": 16
        }
      ]
    },
    {
      "cell_type": "code",
      "metadata": {
        "colab": {
          "base_uri": "https://localhost:8080/"
        },
        "id": "I0yvqai1tzzM",
        "outputId": "d591c48c-4aae-4856-e136-2e667c51bb85"
      },
      "source": [
        "function Neville(x::Array{Float64}, y::Array{Float64}, x0::Float64, N::Int64)   \n",
        "  \n",
        "    Q = zeros(N,N)\n",
        "    Q[:,1] .= y\n",
        "  \n",
        "    for i in 2:N \n",
        "        for j in 2:i\n",
        "            Q[i,j] = ((x0 - x[i-j+1]) * Q[i,j-1] - (x0 - x[i]) * Q[i-1,j-1]) / (x[i] - x[i-j+1])\n",
        "        end\n",
        "    end\n",
        "    return Q[N,N]\n",
        "end\n",
        "  \n",
        "function Neville(x::Array{Float64}, y::Array{Float64}, x0::Int64, N::Int64)   \n",
        "  \n",
        "    Q = zeros(N,N)\n",
        "    Q[:,1] .= y\n",
        "    for i in 2:N \n",
        "        for j in 2:i\n",
        "            Q[i,j] = ((x0 - x[i-j+1]) * Q[i,j-1] - (x0 - x[i]) * Q[i-1,j-1]) / (x[i] - x[i-j+1])\n",
        "        end\n",
        "    end\n",
        "    return Q[N,N]\n",
        "end"
      ],
      "execution_count": 31,
      "outputs": [
        {
          "output_type": "execute_result",
          "data": {
            "text/plain": [
              "Neville (generic function with 2 methods)"
            ]
          },
          "metadata": {
            "tags": []
          },
          "execution_count": 31
        }
      ]
    },
    {
      "cell_type": "code",
      "metadata": {
        "colab": {
          "base_uri": "https://localhost:8080/"
        },
        "id": "orr5smgjxucs",
        "outputId": "f73ff3b3-eef2-4a31-cf06-28aa40ec9d16"
      },
      "source": [
        "function TV( V::Array{Float64,4},\n",
        "    Kgrid::Array{Float64,1},\n",
        "    agrid::Array{Float64,1},\n",
        "    zgrid::Array{Float64,1},\n",
        "    P::Array{Float64,2},\n",
        "    na::Int64,\n",
        "    nK::Int64,\n",
        "    ne::Int64,\n",
        "    nz::Int64, Coef::Array{Float64,2},U,Neville; ITP = \"Cubic\")\n",
        "\n",
        "    Vnew = copy(V)\n",
        "    gg = zeros(na,nK,nz,ne)\n",
        "\n",
        "### Where to assign Interpolation Value\n",
        "    V_GE = zeros(na);\n",
        "    V_GU = zeros(na);\n",
        "    V_BE = zeros(na);\n",
        "    V_BU = zeros(na);\n",
        "###\n",
        "\n",
        "    for (Kidx, Kval) in enumerate(Kgrid)\n",
        "\n",
        "        r_g = α*zg*Kval^(α-1)*(Lgrid[1])^(1-α) - δ\n",
        "        w_g = (1-α) * zg * Kval^α * (Lgrid[1])^(-α)\n",
        "            \n",
        "        r_b = α*zb*Kval^(α-1)*(Lgrid[2])^(1-α) - δ\n",
        "        w_b = (1-α) * zb * Kval^α * (Lgrid[2])^(-α)\n",
        "\n",
        "        #tau_g = mu * ug / Lgrid[1]\n",
        "        #tau_b = mu * ub / Lgrid[2]\n",
        "\n",
        "        K_Prime_g = ( Coef[1,1] + Coef[1,2]*log(Kval) ) |> exp\n",
        "        K_Prime_b = ( Coef[2,1] + Coef[2,2]*log(Kval) ) |> exp\n",
        "        # 여기 파트에서 \n",
        "              \n",
        "        K_Prime_g = min(max(K_Prime_g, Kgrid[1]), Kgrid[end])\n",
        "        K_Prime_b = min(max(K_Prime_b, Kgrid[1]), Kgrid[end])\n",
        "        # Use Neville Interpolation\n",
        "\n",
        "        V_BU = map( x ->  Neville(Kgrid, V[x,:,1,1], K_Prime_b , nK), 1:na)\n",
        "        V_BE = map( x ->  Neville(Kgrid, V[x,:,1,2], K_Prime_b , nK), 1:na)\n",
        "        V_GU = map( x ->  Neville(Kgrid, V[x,:,2,1], K_Prime_g , nK), 1:na)\n",
        "        V_GE = map( x ->  Neville(Kgrid, V[x,:,2,2], K_Prime_g , nK), 1:na)\n",
        "\n",
        "        # na, nK, nz, ne\n",
        "        # Use Cubic Spline\n",
        "\n",
        "        if ITP == \"Linear\"\n",
        "            V_Next_GE = LinearInterpolation( agrid, V_GE) \n",
        "            V_Next_GU = LinearInterpolation( agrid, V_GU) \n",
        "            V_Next_BE = LinearInterpolation( agrid, V_BE) \n",
        "            V_Next_BU = LinearInterpolation( agrid, V_BU)\n",
        "        else #Cubic\n",
        "            V_Next_GE = Spline1D( agrid, V_GE ,k = 3) \n",
        "            V_Next_GU = Spline1D( agrid, V_GU ,k = 3) \n",
        "            V_Next_BE = Spline1D( agrid, V_BE ,k = 3) \n",
        "            V_Next_BU = Spline1D( agrid, V_BU ,k = 3) \n",
        "        end \n",
        "        for a_idx in eachindex(agrid)\n",
        "\n",
        "            ## Bad && Unemployed\n",
        "\n",
        "            obj_BU(a_prime) = -(  U(  (1 + r_b) * agrid[a_idx] - a_prime + eps() ) + \n",
        "                β* ( P[4,1] * V_Next_GE(a_prime) + P[4,2] * V_Next_GU(a_prime) +\n",
        "                P[4,3] * V_Next_BE(a_prime) + P[4,4] * V_Next_BU(a_prime))  )\n",
        "            ubd_BU = min.( ( 1 + r_b )*agrid[a_idx], agrid[end] )\n",
        "            res_BU = optimize(obj_BU, agrid[1], ubd_BU)       \n",
        "            gg[a_idx,Kidx,1,1] = res_BU.minimizer\n",
        "            Vnew[a_idx,Kidx,1,1] = (-1) * res_BU.minimum     \n",
        "\n",
        "            ## Bad && Employed\n",
        "\n",
        "            obj_BE(a_prime) = -(  U( w_b * L_bar + (1 + r_b) * agrid[a_idx] - a_prime + eps() ) + \n",
        "                β * ( P[3,1] * V_Next_GE(a_prime) + P[3,2] * V_Next_GU(a_prime) +\n",
        "                P[3,3] * V_Next_BE(a_prime) + P[3,4] * V_Next_BU(a_prime))    )\n",
        "            ubd_BE = min.( w_b * L_bar + (1 + r_b)*agrid[a_idx], agrid[end] )\n",
        "            res_BE = optimize(obj_BE, agrid[1], ubd_BE)       \n",
        "            gg[a_idx,Kidx,1,2] = res_BE.minimizer\n",
        "            Vnew[a_idx,Kidx,1,2] = (-1) * res_BE.minimum  \n",
        "\n",
        "            ## Good && Unemployed\n",
        "\n",
        "            obj_GU(a_prime) = -(  U(  (1 + r_g) * agrid[a_idx] - a_prime + eps() ) + \n",
        "                β* ( P[2,1] * V_Next_GE(a_prime) + P[2,2] * V_Next_GU(a_prime) +\n",
        "                P[2,3] * V_Next_BE(a_prime) + P[2,4] * V_Next_BU(a_prime))  )\n",
        "            ubd_GU = min.( (1 + r_g)*agrid[a_idx], agrid[end] )\n",
        "            res_GU = optimize(obj_GU, agrid[1], ubd_GU)       \n",
        "            gg[a_idx,Kidx,2,1] = res_GU.minimizer\n",
        "            Vnew[a_idx,Kidx,2,1] = (-1) * res_GU.minimum      \n",
        "\n",
        "\n",
        "            ## Good && Employed\n",
        "            obj_GE(a_prime) = -(  U( w_g*L_bar + (1 + r_g) * agrid[a_idx] - a_prime + eps() ) + \n",
        "                β* ( P[1,1] * V_Next_GE(a_prime) + P[1,2] * V_Next_GU(a_prime) +\n",
        "                P[1,3] * V_Next_BE(a_prime) + P[1,4] * V_Next_BU(a_prime))   )\n",
        "            ubd_GE = min.( w_g * L_bar + (1 + r_g)*agrid[a_idx], agrid[end] )\n",
        "            res_GE = optimize(obj_GE, agrid[1], ubd_GE)       \n",
        "            gg[a_idx,Kidx,2,2] = res_GE.minimizer\n",
        "            Vnew[a_idx,Kidx,2,2] = (-1) * res_GE.minimum\n",
        "        end\n",
        "    end\n",
        "\n",
        "    return Vnew, gg\n",
        "end"
      ],
      "execution_count": 84,
      "outputs": [
        {
          "output_type": "execute_result",
          "data": {
            "text/plain": [
              "TV (generic function with 1 method)"
            ]
          },
          "metadata": {
            "tags": []
          },
          "execution_count": 84
        }
      ]
    },
    {
      "cell_type": "code",
      "metadata": {
        "colab": {
          "base_uri": "https://localhost:8080/"
        },
        "id": "Ns9ujMmHfwDv",
        "outputId": "8faa4d99-2513-4f28-b115-9e30d3657350"
      },
      "source": [
        "function TV_Howard( V::Array{Float64,4},\n",
        "    gg::Array{Float64,4},\n",
        "    Kgrid::Array{Float64,1},\n",
        "    agrid::Array{Float64,1},\n",
        "    zgrid::Array{Float64,1},\n",
        "    P::Array{Float64,2},\n",
        "    na::Int64,\n",
        "    nK::Int64,\n",
        "    ne::Int64,\n",
        "    nz::Int64, \n",
        "    Coef::Array{Float64,2},\n",
        "    U,Neville; ITP = \"Cubic\")\n",
        "\n",
        "    Vnew = copy(V)\n",
        "    ### Where to assign Interpolation Value\n",
        "    V_GE = zeros(na)\n",
        "    V_GU = zeros(na)\n",
        "    V_BE = zeros(na)\n",
        "    V_BU = zeros(na)\n",
        "    ####################################\n",
        "\n",
        "    for (Kidx, Kval) in enumerate(Kgrid)\n",
        "            \n",
        "        r_g = α*zg*Kval^(α-1)*(Lgrid[1])^(1-α) - δ\n",
        "        w_g = (1-α) * zg * Kval^α * (Lgrid[1])^(-α)\n",
        "            \n",
        "        r_b = α*zb*Kval^(α-1)*(Lgrid[2])^(1-α) - δ\n",
        "        w_b = (1-α) * zb * Kval^α * (Lgrid[2])^(-α)\n",
        "\n",
        "        #tau_g = mu * ug / Lgrid[1]\n",
        "        #tau_b = mu * ub / Lgrid[2]\n",
        "            \n",
        "        K_Prime_g = ( Coef[1,1] + Coef[1,2]*log(Kval) ) |> exp\n",
        "        K_Prime_b = ( Coef[2,1] + Coef[2,2]*log(Kval) ) |> exp\n",
        "        # 여기 파트에서 \n",
        "              \n",
        "        K_Prime_g = min(max(K_Prime_g, Kgrid[1]), Kgrid[end])\n",
        "        K_Prime_b = min(max(K_Prime_b, Kgrid[1]), Kgrid[end])\n",
        "        \n",
        "        # Use Neville Interpolation\n",
        "\n",
        "        V_BU = map( x ->  Neville(Kgrid, V[x,:,1,1], K_Prime_b , nK), 1:na)\n",
        "        V_BE = map( x ->  Neville(Kgrid, V[x,:,1,2], K_Prime_b , nK), 1:na)\n",
        "        V_GU = map( x ->  Neville(Kgrid, V[x,:,2,1], K_Prime_g , nK), 1:na)\n",
        "        V_GE = map( x ->  Neville(Kgrid, V[x,:,2,2], K_Prime_g , nK), 1:na)\n",
        "\n",
        "        if ITP == \"Linear\"\n",
        "            V_Next_GE = LinearInterpolation( agrid, V_GE) \n",
        "            V_Next_GU = LinearInterpolation( agrid, V_GU) \n",
        "            V_Next_BE = LinearInterpolation( agrid, V_BE) \n",
        "            V_Next_BU = LinearInterpolation( agrid, V_BU)\n",
        "        else #Cubic\n",
        "            V_Next_GE = Spline1D( agrid, V_GE ,k = 3) \n",
        "            V_Next_GU = Spline1D( agrid, V_GU ,k = 3) \n",
        "            V_Next_BE = Spline1D( agrid, V_BE ,k = 3) \n",
        "            V_Next_BU = Spline1D( agrid, V_BU ,k = 3) \n",
        "        end  \n",
        "    \n",
        "        # Objective Functions \n",
        "    \n",
        "        # zidx = 1 이면 오늘 Good / = 2 이면 오늘 Bad\n",
        "        \n",
        "        ## Bad && Unemployed\n",
        "\n",
        "        Vnew[:,Kidx,1,1] = map( x ->  (  U( (1 + r_b ) * agrid[x] - gg[x,Kidx,1,1] + eps() ) + \n",
        "            β * ( P[4,1] * V_Next_GE(gg[x,Kidx,1,1]) + P[4,2] * V_Next_GU(gg[x,Kidx,1,1]) +\n",
        "            P[4,3] * V_Next_BE(gg[x,Kidx,1,1]) + P[4,4] * V_Next_BU(gg[x,Kidx,1,1]) ) ) , 1:na) \n",
        "\n",
        "        ## Bad && Employed\n",
        "\n",
        "        Vnew[:,Kidx,1,2] = map( x ->  (  U( w_b * L_bar  + (1 + r_b) * agrid[x] - gg[x,Kidx,1,2] + eps() ) + \n",
        "            β * ( P[3,1] * V_Next_GE( gg[x,Kidx,1,2] ) + P[3,2] * V_Next_GU( gg[x,Kidx,1,2] ) +\n",
        "            P[3,3] * V_Next_BE( gg[x,Kidx,1,2] ) + P[3,4] * V_Next_BU( gg[x,Kidx,1,2] ) ) ) , 1:na  ) \n",
        "\n",
        "        ## Good && Unemployed    \n",
        "        Vnew[:,Kidx,2,1] = map( x -> (  U((1 + r_g) * agrid[x] - gg[x,Kidx,2,1] + eps() ) + \n",
        "            β * ( P[2,1] * V_Next_GE(gg[x,Kidx,2,1]) + P[2,2] * V_Next_GU(gg[x,Kidx,2,1]) +\n",
        "            P[2,3] * V_Next_BE(gg[x,Kidx,2,1]) + P[2,4] * V_Next_BU(gg[x,Kidx,2,1])) )  , 1:na )    \n",
        "\n",
        "        ## Good && Employed\n",
        "            \n",
        "        Vnew[:,Kidx,2,2] = map( x ->  (  U( w_g*L_bar + (1 + r_g) * agrid[x] - gg[x,Kidx,2,2] + eps() ) + \n",
        "            β * ( P[1,1] * V_Next_GE(gg[x,Kidx,2,2]) + P[1,2] * V_Next_GU(gg[x,Kidx,2,2]) +\n",
        "            P[1,3] * V_Next_BE( gg[x,Kidx,2,2] ) + P[1,4] * V_Next_BU(gg[x,Kidx,2,2])) )  , 1:na )\n",
        "    end\n",
        "\n",
        "    return Vnew\n",
        "end"
      ],
      "execution_count": 85,
      "outputs": [
        {
          "output_type": "execute_result",
          "data": {
            "text/plain": [
              "TV_Howard (generic function with 1 method)"
            ]
          },
          "metadata": {
            "tags": []
          },
          "execution_count": 85
        }
      ]
    },
    {
      "cell_type": "code",
      "metadata": {
        "colab": {
          "base_uri": "https://localhost:8080/"
        },
        "id": "cGfBHYFitRaz",
        "outputId": "9e75128c-1b59-4252-cc25-1392047f3027"
      },
      "source": [
        "function VFI( Kgrid::Array{Float64,1},\n",
        "    zgrid::Array{Float64,1},\n",
        "    agrid::Array{Float64,1},\n",
        "    P::Array{Float64,2},\n",
        "    na::Int64,\n",
        "    nK::Int64,\n",
        "    ne::Int64,\n",
        "    nz::Int64,\n",
        "    U,Neville,\n",
        "    Coef::Array{Float64,2},\n",
        "    TV, TV_Howard ; Howard::Int64 = 1) \n",
        "    V_old = zeros(na,nK,nz,ne) # 순서는 철저히 논문의 순서를 따름\n",
        "    GG_old = zeros(na,nK,nz,ne)\n",
        "    GG_new = zeros(na,nK,nz,ne)\n",
        "    err_V = one(Float64)\n",
        "    err_G = one(Float64)\n",
        "    iter = zero(Int64)\n",
        "    V_new = copy(V_old)\n",
        "    ITP = \"Linear\"\n",
        "    while  err_V > 1e-6 \n",
        "\n",
        "        if iter % Howard == 0  \n",
        "            V_new, GG_new = TV( V_old,Kgrid,agrid,zgrid,P,na,nK,ne,nz,Coef,U,Neville ; ITP = ITP)\n",
        "            err_G = (GG_new .- GG_old) .|> abs |> maximum\n",
        "            copy!(GG_old,GG_new) \n",
        "        else \n",
        "            V_new = TV_Howard( V_old,GG_old,Kgrid,agrid,zgrid,P,na,nK,ne,nz,Coef,U,Neville ; ITP = ITP)\n",
        "        end\n",
        "        err_V = (V_new .- V_old) .|> abs |> maximum\n",
        "        copy!(V_old,V_new)\n",
        "        iter += 1\n",
        "\n",
        "        #if iter >=  Howard * 30 && err_G < 1e-5 \n",
        "        #    break\n",
        "        # end\n",
        "\n",
        "        if iter > 3_000\n",
        "            println(\"Something is Weird\")\n",
        "            break\n",
        "        end\n",
        "    end\n",
        "\n",
        "return V_new , GG_new, iter\n",
        "end"
      ],
      "execution_count": 99,
      "outputs": [
        {
          "output_type": "execute_result",
          "data": {
            "text/plain": [
              "VFI (generic function with 1 method)"
            ]
          },
          "metadata": {
            "tags": []
          },
          "execution_count": 99
        }
      ]
    },
    {
      "cell_type": "code",
      "metadata": {
        "colab": {
          "base_uri": "https://localhost:8080/"
        },
        "id": "yZOF1bz6vpT4",
        "outputId": "5bacba34-c22f-448b-a703-6b4eaee265b7"
      },
      "source": [
        "function VFI_Test( Kgrid::Array{Float64,1},\n",
        "    zgrid::Array{Float64,1},\n",
        "    agrid::Array{Float64,1},\n",
        "    P::Array{Float64,2},\n",
        "    na::Int64,\n",
        "    nK::Int64,\n",
        "    ne::Int64,\n",
        "    nz::Int64,\n",
        "    U,Neville,\n",
        "    Coef::Array{Float64,2},\n",
        "    TV, TV_Howard ; Howard::Int64 = 1) \n",
        "    V_old = zeros(na,nK,nz,ne) # 순서는 철저히 논문의 순서를 따름\n",
        "    GG_old = zeros(na,nK,nz,ne)\n",
        "    GG_new = zeros(na,nK,nz,ne)\n",
        "    err_V = one(Float64)\n",
        "    err_G = one(Float64)\n",
        "    V_new = copy(V_old)\n",
        "    ITP = \"Linear\"\n",
        "    for iter in 0:3000\n",
        "\n",
        "        if iter > 10\n",
        "            if iter % Howard == 0  \n",
        "                V_new, GG_new = TV( V_old,Kgrid,agrid,zgrid,P,na,nK,ne,nz,Coef,U,Neville; ITP = ITP)\n",
        "                err_G = (GG_new .- GG_old) .|> abs |> maximum\n",
        "                err_V = (V_new .- V_old) .|> abs |> maximum\n",
        "                copy!(GG_old,GG_new) \n",
        "                copy!(V_old,V_new)\n",
        "                else \n",
        "                    V_new = TV_Howard( V_new,GG_new,Kgrid,agrid,zgrid,P,na,nK,ne,nz,Coef,U,Neville; ITP = ITP)\n",
        "                    err_V = (V_new .- V_old) .|> abs |> maximum\n",
        "                copy!(V_old,V_new)\n",
        "            end\n",
        "        else \n",
        "            V_new, GG_new = TV( V_old,Kgrid,agrid,zgrid,P,na,nK,ne,nz,Coef,U,Neville ; ITP = ITP)\n",
        "            err_V = (V_new .- V_old) .|> abs |> maximum\n",
        "            err_G = (GG_new .- GG_old) .|> abs |> maximum\n",
        "            copy!(GG_old,GG_new)\n",
        "            copy!(V_old,V_new)\n",
        "        end\n",
        "        if iter % 100 == 0 \n",
        "            println(\"Iteration is $iter\")\n",
        "            println(\"Value Function Error is $err_V\")\n",
        "            println(\"Policy Function Error is $err_G\")\n",
        "        end\n",
        "        if err_V < 1e-6\n",
        "            break\n",
        "        end\n",
        "    end\n",
        "\n",
        "return V_new , GG_new\n",
        "end"
      ],
      "execution_count": 88,
      "outputs": [
        {
          "output_type": "execute_result",
          "data": {
            "text/plain": [
              "VFI_Test (generic function with 1 method)"
            ]
          },
          "metadata": {
            "tags": []
          },
          "execution_count": 88
        }
      ]
    },
    {
      "cell_type": "code",
      "metadata": {
        "id": "0F-ex6fmR-7F"
      },
      "source": [
        "using BenchmarkTools"
      ],
      "execution_count": 73,
      "outputs": []
    },
    {
      "cell_type": "code",
      "metadata": {
        "colab": {
          "base_uri": "https://localhost:8080/"
        },
        "id": "aii84PhiGhV7",
        "outputId": "ed655fd6-0da3-47a9-e161-753a043620ed"
      },
      "source": [
        "function OLS(Y,X ;add_constant = 0 , print = 0 )\n",
        "    # Input Y : Dependent Variable\n",
        "    # Input X : Covariates\n",
        "    # Input add_constant : 1 if we add one vector \n",
        "    # Output Estimator      : OLS Estimator \n",
        "    # Output SE             : Standard Error \n",
        "    # Output SE_robust      : Robust Standard Error \n",
        "    # Output sigma2         : Standard Error of Regression\n",
        "    # Output fitted         : Fitted Value by model \n",
        "\n",
        "    Y = reshape(Y,length(Y),1);\n",
        "    # Reshape data if X is one dimensional vector \n",
        "    if ndims(X) == 1\n",
        "        X = reshape(X,length(X),1);\n",
        "    end\n",
        "    \n",
        "nobs , nvar = size(X);\n",
        "    \n",
        "    if add_constant == 1\n",
        "        X = [ones(nobs,1) X];\n",
        "        nvar += 1;\n",
        "    end\n",
        "\n",
        "df = nobs - nvar;                # Degree of Freedom\n",
        "XX = X'*X;\n",
        "estimator = (XX)\\(X'*Y);\n",
        "fitted = X * estimator;\n",
        "resid = Y - fitted;\n",
        "SSR = sum(resid.^2);\n",
        "sigma2 = SSR / (nobs-nvar);\n",
        "inv_XX = inv(XX);\n",
        "cov_mat = sigma2*inv_XX ;\n",
        "SE = sqrt.(diag(cov_mat));\n",
        "\n",
        "t_stat = estimator ./ SE;\n",
        "\n",
        "Y_demean = Y .- mean(Y);\n",
        "R2 = 1-SSR/sum(Y_demean.^2);\n",
        "log_like = -nobs/2 * (1 + log(2*pi) + log(SSR/nobs) );\n",
        "DW = sum(diff(resid, dims = 1).^2) ./ SSR; # Durbin Watson \n",
        "    if print == 1\n",
        "    println(\" \")\n",
        "    println(\"Number of observations   \" , nobs  )\n",
        "    println(\"Number of regressors     \" ,nvar)\n",
        "    println(\"result\")\n",
        "        \n",
        "    println(\"R-square     :    \", R2)\n",
        "    println(\"Variance of s2:    \",sigma2)\n",
        "    println(\"Log likelihood:    \",log_like)\n",
        "    println(\"D-W statistics:    \",DW)\n",
        "    end \n",
        "    \n",
        "    return estimator\n",
        "end"
      ],
      "execution_count": 92,
      "outputs": [
        {
          "output_type": "execute_result",
          "data": {
            "text/plain": [
              "OLS (generic function with 1 method)"
            ]
          },
          "metadata": {
            "tags": []
          },
          "execution_count": 92
        }
      ]
    },
    {
      "cell_type": "code",
      "metadata": {
        "colab": {
          "base_uri": "https://localhost:8080/"
        },
        "id": "nm8zA4lvHVUC",
        "outputId": "3da7b90c-4790-415e-c44c-0c9ae2761b43"
      },
      "source": [
        "update_weight = 0.1\n",
        "ERR = one(Float64)\n",
        "iter = 0"
      ],
      "execution_count": 93,
      "outputs": [
        {
          "output_type": "execute_result",
          "data": {
            "text/plain": [
              "0"
            ]
          },
          "metadata": {
            "tags": []
          },
          "execution_count": 93
        }
      ]
    },
    {
      "cell_type": "code",
      "metadata": {
        "id": "fnTka5nlpJp2"
      },
      "source": [
        "A_Ind = zeros(NH,T)\n",
        "A_Ind[:,1] .= kss;\n",
        "Kt = zeros(T);\n",
        "Lseq = zeros(T)\n",
        "for t = 1:T \n",
        "    if zseq[t] == 1\n",
        "        Lseq[t] = Lgrid[1]\n",
        "    else\n",
        "        Lseq[t] = Lgrid[2]\n",
        "    end\n",
        "end"
      ],
      "execution_count": 94,
      "outputs": []
    },
    {
      "cell_type": "code",
      "metadata": {
        "id": "zZpQbBxhQdCm"
      },
      "source": [
        "Yt = zeros(T);"
      ],
      "execution_count": 95,
      "outputs": []
    },
    {
      "cell_type": "code",
      "metadata": {
        "colab": {
          "base_uri": "https://localhost:8080/"
        },
        "id": "67uCxAWhwxrA",
        "outputId": "8d28048d-94bc-456a-8424-76412cb894d0"
      },
      "source": [
        "Kt[1] = mean(A_Ind[:,1])\n",
        "Yt[1] = Zt[1] * Kt[1]^α * Lseq[1]^(1-α)"
      ],
      "execution_count": 96,
      "outputs": [
        {
          "output_type": "execute_result",
          "data": {
            "text/plain": [
              "1.1212664262241143"
            ]
          },
          "metadata": {
            "tags": []
          },
          "execution_count": 96
        }
      ]
    },
    {
      "cell_type": "code",
      "metadata": {
        "id": "I6oxPP7hgq0e"
      },
      "source": [
        "XX = zeros(T - T0,3);\n",
        "GG = zeros(na,nK,nz,ne);\n",
        "VV = zeros(na,nK,nz,ne);"
      ],
      "execution_count": 97,
      "outputs": []
    },
    {
      "cell_type": "code",
      "metadata": {
        "id": "YqGmhnX0WVgx"
      },
      "source": [
        "VFI(  Kgrid, zgrid,agrid, P, na, nK, ne, nz, U, Neville, Coef, TV , TV_Howard ; Howard  = 8) "
      ],
      "execution_count": null,
      "outputs": []
    },
    {
      "cell_type": "code",
      "metadata": {
        "id": "SCVO-ASvgq3w",
        "colab": {
          "base_uri": "https://localhost:8080/"
        },
        "outputId": "9dbf29b3-d120-4835-93ab-0b1d189ef743"
      },
      "source": [
        "for iter = 1:1000\n",
        "    println(\"VFI Start\")\n",
        "    ~ ,GG , ~ = VFI(  Kgrid, zgrid,agrid, P, na, nK, ne, nz, U, Neville, Coef, TV , TV_Howard ; Howard  = 8)  \n",
        "    println(\"VFI End\")\n",
        "\n",
        "    if ERR < 1e-4\n",
        "        A_Ind[:,1] = A_Ind[:,end]\n",
        "        Kt[1] = mean(A_Ind[:,1])\n",
        "    end\n",
        "    itp =  LinearInterpolation( ( agrid, Kgrid, [0,1],[0,1]), GG, extrapolation_bc = Line() )\n",
        "        for t = 2:T\n",
        "            A_Ind[:,t] = map( x -> itp(A_Ind[x,t-1], Kt[t-1],  zseq[t] , Ind_shock[x,t] ) , 1:NH )\n",
        "            Kt[t] = mean(A_Ind[:,t])\n",
        "            Kt[t] = max(Kgrid[1],Kt[t])\n",
        "            Kt[t] = min(Kgrid[end],Kt[t])\n",
        "        end \n",
        "     \n",
        "    XX[:,1] = Kt[T0:T-1]\n",
        "    XX[:,2] = Kt[T0+1:T]\n",
        "    XX[:,3] = Zt[T0:T-1]\n",
        "    XX_Good = XX[findall(x->x == 1.01, XX[:,3]),:] \n",
        "    XX_Bad = XX[findall(x->x == 0.99, XX[:,3]),:] \n",
        "    EST_G = OLS(log.(XX_Good[:,2]), log.(XX_Good[:,1]) ;add_constant = 1 , print = 0 ) \n",
        "    EST_B = OLS(log.(XX_Bad[:,2]), log.(XX_Bad[:,1]) ;add_constant = 1 , print = 0 ) \n",
        "    New_Coef = [EST_G' ; EST_B']\n",
        "    println(New_Coef)\n",
        "    println(Coef)\n",
        "    \n",
        "    ERR = (Coef - New_Coef) |> norm \n",
        "    println(\"Iteration is $iter\", \"   \", \"Error level is \", \" \", \"$ERR\")  \n",
        "    \n",
        "    Coef = (1-update_weight) * Coef + update_weight * New_Coef\n",
        "    iter += 1\n",
        "    if ERR < 1e-6\n",
        "        break\n",
        "    end\n",
        "end"
      ],
      "execution_count": 101,
      "outputs": [
        {
          "output_type": "stream",
          "text": [
            "VFI Start\n",
            "VFI End\n",
            "[0.24395183656839814 0.9023924039953433; 0.16194370189753376 0.9333960729555228]\n",
            "[0.0 1.0; 0.0 1.0]\n",
            "Iteration is 1   Error level is  0.31575558117779334\n",
            "VFI Start\n",
            "VFI End\n",
            "[0.1691873135479757 0.9317986772192783; 0.11265656268324147 0.9527324488151239]\n",
            "[0.024395183656839816 0.9902392403995344; 0.016194370189753376 0.9933396072955523]\n",
            "Iteration is 2   Error level is  0.18797328587792053\n",
            "VFI Start\n",
            "VFI End\n",
            "[0.14599973526377674 0.9413257667584528; 0.09664449937027085 0.9593241498001163]\n",
            "[0.03887439664595341 0.9843951840815088; 0.025840589439102186 0.9892788914475095]\n",
            "Iteration is 3   Error level is  0.13871298818507943\n",
            "VFI Start\n",
            "VFI End\n",
            "[0.13163240538033846 0.9472495065027697; 0.0862128525618116 0.9636357595783288]\n",
            "[0.049586930507735744 0.9800882423492032; 0.032920980432219055 0.9862834172827701]\n",
            "Iteration is 4   Error level is  0.10565407021803327\n",
            "VFI Start\n",
            "VFI End\n",
            "[0.12199499214802328 0.9512191987646953; 0.07930598941427484 0.9664887513916371]\n",
            "[0.05779147799499602 0.9768043687645599; 0.03825016764517831 0.984018651512326]\n",
            "Iteration is 5   Error level is  0.08227739697448562\n",
            "VFI Start\n",
            "VFI End\n",
            "[0.11560188643947439 0.9538463718280038; 0.07458882186041316 0.9684355005677222]\n",
            "[0.06421182941029874 0.9742458517645735; 0.042355749822087965 0.9822656615002572]\n",
            "Iteration is 6   Error level is  0.06547763761462466\n",
            "VFI Start\n",
            "VFI End\n",
            "[0.11086215210190314 0.9557915558658537; 0.07109940811099151 0.9698746011376999]\n",
            "[0.06935083511321631 0.9722059037709165; 0.04557905702592049 0.9808826454070038]\n",
            "Iteration is 7   Error level is  0.052584081369021936\n",
            "VFI Start\n",
            "VFI End\n",
            "[0.10731296607218298 0.9572459946516441; 0.06850288208170677 0.9709447350746172]\n",
            "[0.073501966812085 0.9705644689804103; 0.048131092134427594 0.9797818409800734]\n",
            "Iteration is 8   Error level is  0.04258720108028542\n",
            "VFI Start\n",
            "VFI End\n",
            "[0.1047734872031978 0.9582842946019171; 0.06661712960757352 0.9717215069814743]\n",
            "[0.07688306673809481 0.9692326215475336; 0.05016827112915551 0.9788981303895278]\n",
            "Iteration is 9   Error level is  0.03492578253113871\n",
            "VFI Start\n",
            "VFI End\n",
            "[0.10279623180895293 0.9590920459812075; 0.0651819764472123 0.9723125897531422]\n",
            "[0.07967210878460512 0.9681377888529721; 0.051813156976997315 0.9781804680487225]\n",
            "Iteration is 10   Error level is  0.028804649962570195\n",
            "VFI Start\n",
            "VFI End\n",
            "[0.10122607012177794 0.959733023757411; 0.06404222108199574 0.9727821379386817]\n",
            "[0.08198452108703991 0.9672332145657956; 0.053150038924018816 0.9775936802191645]\n",
            "Iteration is 11   Error level is  0.023838637601545705\n",
            "VFI Start\n",
            "VFI End\n",
            "[0.0999420307273447 0.9602569266069424; 0.06307969200731318 0.9731789434278838]\n",
            "[0.08390867599051371 0.9664831954849571; 0.05423925713981651 0.9771125259911162]\n",
            "Iteration is 12   Error level is  0.01973477257752447\n",
            "VFI Start\n",
            "VFI End\n",
            "[0.09883957903040864 0.9607068640386219; 0.062295454889543855 0.973502237675227]\n",
            "[0.08551201146419682 0.9658605685971556; 0.05512330062656618 0.976719167734793]\n",
            "Iteration is 13   Error level is  0.016308683689638476\n",
            "VFI Start\n",
            "VFI End\n",
            "[0.09800597911226619 0.9610462366715241; 0.06166535092427649 0.9737620906194413]\n",
            "[0.086844768220818 0.9653451981413023; 0.05584051605286395 0.9763974747288363]\n",
            "Iteration is 14   Error level is  0.013561992809513429\n",
            "VFI Start\n",
            "VFI End\n",
            "[0.09734204123015787 0.9613161814536633; 0.06115177994211164 0.9739740142547781]\n",
            "[0.08796088930996282 0.9649153019943245; 0.0564229995400052 0.9761339363178968]\n",
            "Iteration is 15   Error level is  0.011313103350808817\n",
            "VFI Start\n",
            "VFI End\n",
            "[0.0967962707840067 0.9615379421686836; 0.060729636174356956 0.9741483266711015]\n",
            "[0.08889900450198233 0.9645553899402584; 0.056895877580215845 0.975917944111585]\n",
            "Iteration is 16   Error level is  0.009449923630759896\n",
            "VFI Start\n",
            "VFI End\n",
            "[0.09634626788793664 0.9617206676972888; 0.06038122537156983 0.9742922936723817]\n",
            "[0.08968873113018477 0.964253645163101; 0.05727925343962995 0.9757409823675366]\n",
            "Iteration is 17   Error level is  0.00790314490093291\n",
            "VFI Start\n",
            "VFI End\n",
            "[0.09597390090276363 0.9618717600626059; 0.06009291582692187 0.9744115137048832]\n",
            "[0.09035448480595996 0.9640003474165197; 0.057589450632823946 0.9755961134980211]\n",
            "Iteration is 18   Error level is  0.006616595502236798\n",
            "VFI Start\n",
            "VFI End\n",
            "[0.0956649235711916 0.9619970360421298; 0.05985375752123498 0.9745104875441956]\n",
            "[0.09091642641564034 0.9637874886811284; 0.05783979715223374 0.9754776535187074]\n",
            "Iteration is 19   Error level is  0.005544852773422983\n",
            "VFI Start\n",
            "VFI End\n",
            "[0.09540804877252597 0.9621011018443031; 0.05965502596636919 0.9745928004602145]\n",
            "[0.09139127613119546 0.9636084434172285; 0.05804119318913386 0.9753809369212563]\n",
            "Iteration is 20   Error level is  0.004651038204929427\n",
            "VFI Start\n",
            "VFI End\n",
            "[0.09519421848682828 0.9621876570191011; 0.059489582804000005 0.9746613874260511]\n",
            "[0.09179295339532853 0.9634577092599359; 0.05820257646685739 0.9753021232751521]\n",
            "Iteration is 21   Error level is  0.003904941056824366\n",
            "VFI Start\n",
            "VFI End\n",
            "[0.0950159089766711 0.9622597690699485; 0.059351648622968906 0.9747186250043381]\n",
            "[0.09213307990447851 0.9633307040358524; 0.058331277100571656 0.975238049690242]\n",
            "Iteration is 22   Error level is  0.0032815492086391168\n",
            "VFI Start\n",
            "VFI End\n",
            "[0.09486711280840988 0.9623198882166956; 0.059236535486371186 0.974766441574996]\n",
            "[0.09242136281169777 0.9632236105392621; 0.05843331425281138 0.9751861072216517]\n",
            "Iteration is 23   Error level is  0.002760378721796441\n",
            "VFI Start\n",
            "VFI End\n",
            "[0.09474281045521016 0.9623700603112334; 0.05914035992626491 0.9748064357397129]\n",
            "[0.09266593781136898 0.9631332383070055; 0.05851363637616737 0.9751441406569861]\n",
            "Iteration is 24   Error level is  0.002324363924036826\n",
            "VFI Start\n",
            "VFI End\n",
            "[0.09463895943136245 0.9624119334177179; 0.05905996256132994 0.9748399076413553]\n",
            "[0.0928736250757531 0.9630569205074282; 0.058576308731177126 0.9751103701652588]\n",
            "Iteration is 25   Error level is  0.0019594603178542235\n",
            "VFI Start\n",
            "VFI End\n",
            "[0.09455206119641435 0.9624469319781662; 0.05899269377794669 0.9748679486766867]\n",
            "[0.09305015851131404 0.9629924217984572; 0.05862467411419241 0.9750833239128684]\n",
            "Iteration is 26   Error level is  0.0016538124998991888\n",
            "VFI Start\n",
            "VFI End\n",
            "[0.09447937029496022 0.9624761739547375; 0.05893639343587996 0.9748914491828825]\n",
            "[0.09320034877982408 0.9629378728164281; 0.058661476080567834 0.9750617863892502]\n",
            "Iteration is 27   Error level is  0.001397732517755978\n",
            "VFI Start\n",
            "VFI End\n",
            "[0.0944185185580688 0.9625006219415648; 0.0588892512021037 0.9749111544291617]\n",
            "[0.0933282509313377 0.9628917029302589; 0.05868896781609905 0.9750447526686135]\n",
            "Iteration is 28   Error level is  0.0011830425866848357\n",
            "VFI Start\n",
            "VFI End\n",
            "[0.09436758115604042 0.9625210600342422; 0.05884976811134796 0.9749276836180427]\n",
            "[0.09343727769401082 0.9628525948313895; 0.058708996154699516 0.9750313928446683]\n",
            "Iteration is 29   Error level is  0.0010029716848693638\n",
            "VFI Start\n",
            "VFI End\n",
            "[0.0943249016759006 0.9625381597766152; 0.058816690449357834 0.9749415533846152]\n",
            "[0.09353030804021378 0.9628194413516749; 0.05872307335036436 0.9750210219220058]\n",
            "Iteration is 30   Error level is  0.0008518085348251748\n",
            "VFI Start\n",
            "VFI End\n",
            "[0.09428917651920615 0.9625524516682308; 0.0587889756362907 0.9749531943979652]\n",
            "[0.09360976740378246 0.962791313194169; 0.05873243506026371 0.9750130750682667]\n",
            "Iteration is 31   Error level is  0.0007248683370844354\n",
            "VFI Start\n",
            "VFI End\n",
            "[0.09425922738390434 0.962564413284384; 0.058765750838357375 0.9749629673779058]\n",
            "[0.09367770831532485 0.9627674270415751; 0.05873808911786641 0.9750070870012366]\n",
            "Iteration is 32   Error level is  0.0006181348757947485\n",
            "VFI Start\n",
            "VFI End\n",
            "[0.09423414780020331 0.9625744129946205; 0.058746277763570165 0.9749711773038612]\n",
            "[0.0937358602221828 0.962747125665856; 0.05874085528991551 0.9750026750389036]\n",
            "Iteration is 33   Error level is  0.0005283386108814628\n",
            "VFI Start\n",
            "VFI End\n",
            "[0.09421313504238195 0.9625827759395146; 0.058729951313061156 0.9749780750439716]\n",
            "[0.09378568897998486 0.9627298543987324; 0.05874139753728097 0.9749995252653995]\n",
            "Iteration is 34   Error level is  0.00045269563447513907\n",
            "VFI Start\n",
            "VFI End\n",
            "[0.09419552292442498 0.9625897719569901; 0.05871627549296848 0.9749838660170063]\n",
            "[0.09382843358622457 0.9627151465528107; 0.058740252914858994 0.9749973802432567]\n",
            "Iteration is 35   Error level is  0.00038888420200522124\n",
            "VFI Start\n",
            "VFI End\n",
            "[0.09418075544255695 0.9625956256259478; 0.058704805317219964 0.9749887341111856]\n",
            "[0.09386514252004462 0.9627026090932286; 0.058737855172669946 0.9749960288206316]\n",
            "Iteration is 36   Error level is  0.0003349663936268265\n",
            "VFI Start\n",
            "VFI End\n",
            "[0.0941684035247821 0.9626005109373348; 0.05869519649833779 0.974992822204841]\n",
            "[0.09389670381229585 0.9626919107465005; 0.05873455018712495 0.9749952993496871]\n",
            "Iteration is 37   Error level is  0.00028936051553103746\n",
            "VFI Start\n",
            "VFI End\n",
            "[0.09415804705248237 0.9626045973440139; 0.058687141717892535 0.9749962584828711]\n",
            "[0.09392387378354448 0.962682770765584; 0.058730614818246235 0.9749950516352025]\n",
            "Iteration is 38   Error level is  0.0002506782213529504\n",
            "VFI Start\n",
            "VFI End\n",
            "[0.09414938210395447 0.9626080077419933; 0.058680393715445776 0.9749991456676894]\n",
            "[0.09394729111043827 0.9626749534234269; 0.05872626750821087 0.9749951723199693]\n",
            "Iteration is 39   Error level is  0.00021781342079343032\n",
            "VFI Start\n",
            "VFI End\n",
            "[0.09414211772713946 0.9626108590151803; 0.05867473958624917 0.9750015716569558]\n",
            "[0.09396750020978989 0.9626682588552835; 0.05872168012893436 0.9749955696547414]\n",
            "Iteration is 40   Error level is  0.00018980373438729647\n",
            "VFI Start\n",
            "VFI End\n",
            "[0.09413603613941221 0.9626132391246544; 0.05867000745291203 0.9750036091702934]\n",
            "[0.09398496196152484 0.9626625188712732; 0.05871698607466584 0.974996169854963]\n",
            "Iteration is 41   Error level is  0.00016587415400126475\n",
            "VFI Start\n",
            "VFI End\n",
            "[0.09413092583222651 0.9626152331295115; 0.05866604602157944 0.9750053206882259]\n",
            "[0.09400006937931359 0.9626575908966113; 0.05871228821249046 0.974996913786496]\n",
            "Iteration is 42   Error level is  0.0001453499498437575\n",
            "VFI Start\n",
            "VFI End\n",
            "[0.09412666424834006 0.9626168903897336; 0.0586627297961824 0.9750067584213506]\n",
            "[0.09401315502460487 0.9626533551199014; 0.058707663993399356 0.974997754476669]\n",
            "Iteration is 43   Error level is  0.00012772694906921419\n",
            "VFI Start\n",
            "VFI End\n",
            "[0.09412309305714779 0.9626182740895299; 0.05865995407425832 0.9750079664236172]\n",
            "[0.09402450594697839 0.9626497086468846; 0.05870317057367766 0.9749986548711372]\n",
            "Iteration is 44   Error level is  0.00011252519948564955\n",
            "VFI Start\n",
            "VFI End\n",
            "[0.09412011225228552 0.9626194244144569; 0.05865763256262406 0.9750089812723047]\n",
            "[0.09403436465799533 0.9626465651911491; 0.05869884892373573 0.9749995860263851]\n",
            "Iteration is 45   Error level is  9.937973010220234e-5\n",
            "VFI Start\n",
            "VFI End\n",
            "[0.09448048839190407 0.9624795694883399; 0.05882117720462073 0.9749485688624533]\n",
            "[0.09404293941742436 0.9626438511134799; 0.058694727287624565 0.9750005255509772]\n",
            "Iteration is 46   Error level is  0.00048695650361977347\n",
            "VFI Start\n",
            "VFI End\n",
            "[0.09445747116111824 0.9624867779100164; 0.05883105198390338 0.9749429933472726]\n",
            "[0.09408669431487235 0.962627422950966; 0.05870737227932418 0.9749953298821248]\n",
            "Iteration is 47   Error level is  0.00041867920829785415\n",
            "VFI Start\n",
            "VFI End\n",
            "[0.09443819559007281 0.9624932594681165; 0.05883376581015124 0.9749409221970213]\n",
            "[0.09412377199949695 0.9626133584468711; 0.058719740249782104 0.9749900962286396]\n",
            "Iteration is 48   Error level is  0.0003587560073526556\n",
            "VFI Start\n",
            "VFI End\n",
            "[0.09442195946830724 0.9624990061925447; 0.058832459216311604 0.9749408579774408]\n",
            "[0.09415521435855453 0.9626013485489957; 0.05873114280581902 0.9749851788254779]\n",
            "Iteration is 49   Error level is  0.00030635969726247554\n",
            "VFI Start\n",
            "VFI End\n",
            "[0.0944082154367441 0.9625040548153155; 0.0588290708262527 0.9749418733614739]\n",
            "[0.09418188886952981 0.9625911143133505; 0.05874127444686828 0.9749807467406741]\n",
            "Iteration is 50   Error level is  0.0002608110715989106\n",
            "VFI Start\n",
            "VFI End\n",
            "[0.09439663153832835 0.9625084231697308; 0.05882474515063614 0.9749434145518192]\n",
            "[0.09420452152625125 0.962582408363547; 0.05875005408480673 0.9749768594027541]\n",
            "Iteration is 51   Error level is  0.00022153414863870192\n",
            "VFI Start\n",
            "VFI End\n",
            "[0.09438683154514615 0.962512190527799; 0.058820169390393404 0.9749451484529914]\n",
            "[0.09422373252745897 0.9625750098441654; 0.058757523191389674 0.9749735149176606]\n",
            "Iteration is 52   Error level is  0.00018782108147573094\n",
            "VFI Start\n",
            "VFI End\n",
            "[0.09437858443797961 0.9625154046079771; 0.05881575330938322 0.9749468732454106]\n",
            "[0.09424004242922769 0.9625687279125288; 0.058763787811290054 0.9749706782711937]\n",
            "Iteration is 53   Error level is  0.00015907342720243226\n",
            "VFI Start\n",
            "VFI End\n",
            "[0.09437164186851385 0.9625181378652645; 0.058811662380981886 0.9749484996701135]\n",
            "[0.09425389663010289 0.9625633955820737; 0.05876898436109937 0.9749682977686154]\n",
            "Iteration is 54   Error level is  0.0001346312749126862\n",
            "VFI Start\n",
            "VFI End\n",
            "[0.09436578972931707 0.9625204589990808; 0.05880798704321874 0.9749499783534631]\n",
            "[0.09426567115394399 0.9625588698103928; 0.05877325216308762 0.9749663179587653]\n",
            "Iteration is 55   Error level is  0.000113897384340211\n",
            "VFI Start\n",
            "VFI End\n",
            "[0.09436091443583527 0.9625224029324293; 0.05880475416781485 0.9749512886586575]\n",
            "[0.0942756830114813 0.9625550287292617; 0.05877672565110073 0.9749646839982351]\n",
            "Iteration is 56   Error level is  9.640472596272058e-5\n",
            "VFI Start\n",
            "VFI End\n",
            "[0.09444551457357697 0.962492052205578; 0.058844204565790176 0.9749388939313756]\n",
            "[0.0942842061539167 0.9625517661495785; 0.05877952850277215 0.9749633444642773]\n",
            "Iteration is 57   Error level is  0.00018538334080516803\n",
            "VFI Start\n",
            "VFI End\n",
            "[0.09443615005179992 0.9624946210859194; 0.058852843239356474 0.9749344582045493]\n",
            "[0.09430033699588274 0.9625457947551784; 0.05878599610907395 0.9749608994109872]\n",
            "Iteration is 58   Error level is  0.00016196174489025082\n",
            "VFI Start\n",
            "VFI End\n",
            "[0.09442815947072146 0.962497087041806; 0.05885677517871469 0.9749322784002534]\n",
            "[0.09431391830147447 0.9625406773882526; 0.058792680822102206 0.9749582552903434]\n",
            "Iteration is 59   Error level is  0.0001404779285957868\n",
            "VFI Start\n",
            "VFI End\n",
            "[0.09442146367447694 0.9624993158835504; 0.05885799664708459 0.974931417165823]\n",
            "[0.09432534241839917 0.9625363183536079; 0.058799090257763455 0.9749556576013344]\n",
            "Iteration is 60   Error level is  0.00012110342718914872\n",
            "VFI Start\n",
            "VFI End\n",
            "[0.0944157555774372 0.9625013253051824; 0.05885767132467944 0.9749313217406677]\n",
            "[0.09433495454400695 0.9625326181066022; 0.05880498089669557 0.9749532335577833]\n",
            "Iteration is 61   Error level is  0.00010375189325755418\n",
            "VFI Start\n",
            "VFI End\n",
            "[0.0944109355624737 0.9625030888649168; 0.058856528002914084 0.9749316456343583]\n",
            "[0.09434303464734997 0.9625294888264603; 0.058810249939493964 0.9749510423760718]\n",
            "Iteration is 62   Error level is  8.846120611406027e-5\n",
            "VFI Start\n",
            "VFI End\n",
            "[0.09446470862989946 0.9624839693685413; 0.05888043581965373 0.9749243969301444]\n",
            "[0.09434982473886235 0.9625268488303059; 0.05881487774583598 0.9749491027019004]\n",
            "Iteration is 63   Error level is  0.0001412274508082698\n",
            "VFI Start\n",
            "VFI End\n",
            "[0.09445737188447115 0.9624860257776631; 0.05888675880988294 0.974921127381326]\n",
            "[0.09436131312796606 0.9625225608841295; 0.058821433553217756 0.9749466321247249]\n",
            "Iteration is 64   Error level is  0.00012441856694252616\n",
            "VFI Start\n",
            "VFI End\n",
            "[0.09445119607689073 0.9624879511171925; 0.0588895832518176 0.9749195362542683]\n",
            "[0.09437091900361656 0.9625189073734829; 0.058827966078884276 0.974944081650385]\n",
            "Iteration is 65   Error level is  0.00010863632342730568\n",
            "VFI Start\n",
            "VFI End\n",
            "[0.09444592507844675 0.9624897251792617; 0.058890329794201085 0.9749189534151241]\n",
            "[0.09437894671094399 0.9625158117478538; 0.05883412779617761 0.9749416271107734]\n",
            "Iteration is 66   Error level is  9.401793355776686e-5\n",
            "VFI Start\n",
            "VFI End\n",
            "[0.0944849993713449 0.9624757812528658; 0.05890869946389845 0.9749132486654801]\n",
            "[0.09438564454769427 0.9625132030909946; 0.05883974799597996 0.9749393597412084]\n",
            "Iteration is 67   Error level is  0.00012925891905546933\n",
            "VFI Start\n",
            "VFI End\n",
            "[0.09447840361602806 0.9624776776915644; 0.05891376943132067 0.9749105903534331]\n",
            "[0.09439558003005934 0.9625094609071818; 0.05884664314277181 0.9749367486336356]\n",
            "Iteration is 68   Error level is  0.00011428085327470555\n",
            "VFI Start\n",
            "VFI End\n",
            "[0.09447273050997895 0.9624794867556437; 0.058915890964418134 0.9749093483761746]\n",
            "[0.09440386238865621 0.9625062825856201; 0.0588533557716267 0.9749341328056153]\n",
            "Iteration is 69   Error level is  9.992873920354752e-5\n",
            "VFI Start\n",
            "VFI End\n",
            "[0.09450203504397521 0.9624689550917309; 0.05893083640642204 0.9749045423291318]\n",
            "[0.09441074920078849 0.9625036030026225; 0.05885960929090585 0.9749316543626713]\n",
            "Iteration is 70   Error level is  0.00012386261438732712\n",
            "VFI Start\n",
            "VFI End\n",
            "[0.0944957195572832 0.9624708297349253; 0.05893502341755552 0.9749023108554455]\n",
            "[0.09441987778510716 0.9625001382115334; 0.05886673200245747 0.9749289431593173]\n",
            "Iteration is 71   Error level is  0.00010947126652004522\n",
            "VFI Start\n",
            "VFI End\n",
            "[0.09449037181257557 0.9624725647231499; 0.05893664158290795 0.9749013154347845]\n",
            "[0.09442746196232477 0.9624972073638726; 0.05887356114396727 0.9749262799289302]\n",
            "Iteration is 72   Error level is  9.574589675418203e-5\n",
            "VFI Start\n",
            "VFI End\n",
            "[0.09451315680607163 0.9624643745936148; 0.05894838006386911 0.9748975309666641]\n",
            "[0.09443375294734985 0.9624947430998003; 0.058879869187861346 0.9749237834795157]\n",
            "Iteration is 73   Error level is  0.00011229493982466269\n",
            "VFI Start\n",
            "VFI End\n",
            "[0.09450746520974591 0.9624661209456012; 0.058951468816823525 0.9748958400812905]\n",
            "[0.09444169333322203 0.9624917062491818; 0.05888672027546212 0.9749211582282306]\n",
            "Iteration is 74   Error level is  9.906527985974871e-5\n",
            "VFI Start\n",
            "VFI End\n",
            "[0.09452440307953883 0.9624599412638604; 0.058961704378730294 0.9748923494824101]\n",
            "[0.09444827052087441 0.9624891477188238; 0.05889319512959826 0.9749186264135365]\n",
            "Iteration is 75   Error level is  0.00010969584233861798\n",
            "VFI Start\n",
            "VFI End\n",
            "[0.09451893586887515 0.9624616278306717; 0.05896450415028798 0.9748907988306101]\n",
            "[0.09445588377674086 0.9624862270733274; 0.05890004605451146 0.9749159987204239]\n",
            "Iteration is 76   Error level is  9.680170256512732e-5\n",
            "VFI Start\n",
            "VFI End\n",
            "[0.09453180308542922 0.9624569135204964; 0.058972878174875724 0.9748878930493735]\n",
            "[0.09446218898595429 0.9624837671490619; 0.05890649186408912 0.9749134787314425]\n",
            "Iteration is 77   Error level is  0.00010309708822090502\n",
            "VFI Start\n",
            "VFI End\n",
            "[0.09452670564321566 0.9624585233471966; 0.05897500964249554 0.9748866698441164]\n",
            "[0.09446915039590179 0.9624810817862054; 0.058913130495167776 0.9749109201632356]\n",
            "Iteration is 78   Error level is  9.076671479823833e-5\n",
            "VFI Start\n",
            "VFI End\n",
            "[0.09453671199657074 0.9624548580185021; 0.05898168019852956 0.9748843486433946]\n",
            "[0.09447490592063318 0.9624788259423045; 0.058919318409900556 0.9749084951313236]\n",
            "Iteration is 79   Error level is  9.416208342275876e-5\n",
            "VFI Start\n",
            "VFI End\n",
            "[0.09454334221661172 0.9624523231460105; 0.05898797623192194 0.9748819764937628]\n",
            "[0.09448108652822694 0.9624764291499243; 0.05892555458876346 0.9749060804825307]\n",
            "Iteration is 80   Error level is  9.452160583738704e-5\n",
            "VFI Start\n",
            "VFI End\n",
            "[0.09454787525583984 0.9624505226485495; 0.05899352794374859 0.9748798064582497]\n",
            "[0.09448731209706542 0.9624740185495329; 0.05893179675307931 0.974903670083654]\n",
            "Iteration is 81   Error level is  9.27370804082207e-5\n",
            "VFI Start\n",
            "VFI End\n",
            "[0.09455110724946934 0.9624492005153539; 0.05899837837382167 0.9748778738134869]\n",
            "[0.09449336841294285 0.9624716689594345; 0.05893796987214624 0.9749012837211136]\n",
            "Iteration is 82   Error level is  8.964270786069922e-5\n",
            "VFI Start\n",
            "VFI End\n",
            "[0.09455357429837111 0.9624481734028547; 0.05900256962407412 0.9748761929200757]\n",
            "[0.0944991422965955 0.9624694221150264; 0.05894401072231378 0.9748989427303509]\n",
            "Iteration is 83   Error level is  8.579655837614737e-5\n",
            "VFI Start\n",
            "VFI End\n",
            "[0.09455564543465164 0.962447311507224; 0.0590061722810596 0.9748747525305703]\n",
            "[0.09450458549677307 0.9624672972438092; 0.05894986661248982 0.9748966677493234]\n",
            "Iteration is 84   Error level is  8.1591372393793e-5\n",
            "VFI Start\n",
            "VFI End\n",
            "[0.09455770001606333 0.9624464734388347; 0.05900946032078537 0.9748734545598639]\n",
            "[0.09450969149056093 0.9624652986701507; 0.0589554971793468 0.9748944762274481]\n",
            "Iteration is 85   Error level is  7.754443240463264e-5\n",
            "VFI Start\n",
            "VFI End\n",
            "[0.09456008341375995 0.9624455279423793; 0.059012714719061075 0.9748721940558691]\n",
            "[0.09451449234311117 0.9624634161470191; 0.05896089349349066 0.9748923740606896]\n",
            "Iteration is 86   Error level is  7.410266933327022e-5\n",
            "VFI Start\n",
            "VFI End\n",
            "[0.09456315717808779 0.9624443347189259; 0.05901618525480983 0.9748708773652607]\n",
            "[0.09451905145017606 0.9624616273265552; 0.058966075616047706 0.9748903560602076]\n",
            "Iteration is 87   Error level is  7.16571347944442e-5\n",
            "VFI Start\n",
            "VFI End\n",
            "[0.0945671874457728 0.9624427923912166; 0.05902015952425365 0.9748693973630187]\n",
            "[0.09452346202296723 0.9624598980657922; 0.05897108657992392 0.9748884081907129]\n",
            "Iteration is 88   Error level is  7.052717304005811e-5\n",
            "VFI Start\n",
            "VFI End\n",
            "[0.09457260449127967 0.9624407351905588; 0.05902490812349523 0.974867653137204]\n",
            "[0.09452783456524778 0.9624581874983347; 0.0589759938743569 0.9748865071079434]\n",
            "Iteration is 89   Error level is  7.111262409033303e-5\n",
            "VFI Start\n",
            "VFI End\n",
            "[0.09457982875833096 0.9624379929464981; 0.05903078111895888 0.9748655117804579]\n",
            "[0.09453231155785097 0.9624564422675572; 0.05898088529927073 0.9748846217108695]\n",
            "Iteration is 90   Error level is  7.384472934264285e-5\n",
            "VFI Start\n",
            "VFI End\n",
            "[0.09458908637007078 0.9624344730924989; 0.0590380788217076 0.9748628535729432]\n",
            "[0.09453706327789896 0.9624545973354512; 0.05898587488123955 0.9748827107178284]\n",
            "Iteration is 91   Error level is  7.89363343265158e-5\n",
            "VFI Start\n",
            "VFI End\n",
            "[0.09460065651386426 0.9624300654180065; 0.059047018482378553 0.9748595966652687]\n",
            "[0.09454226558711613 0.962452584911156; 0.05899109527528636 0.9748807250033399]\n",
            "Iteration is 92   Error level is  8.654732612477119e-5\n",
            "VFI Start\n",
            "VFI End\n",
            "[0.09461465325195044 0.9624247289152211; 0.059057894137244306 0.9748556266075618]\n",
            "[0.09454810467979094 0.9624503329618411; 0.05899668759599558 0.9748786121695328]\n",
            "Iteration is 93   Error level is  9.674118259842652e-5\n",
            "VFI Start\n",
            "VFI End\n",
            "[0.09463231039697013 0.9624180179409649; 0.05907125587704497 0.97485076297815]\n",
            "[0.09455475953700689 0.9624477725571792; 0.059002808250120456 0.9748763136133356]\n",
            "Iteration is 94   Error level is  0.00011062271763558094\n",
            "VFI Start\n",
            "VFI End\n",
            "[0.09462695972615522 0.9624195663671108; 0.05907529882148812 0.9748486372262047]\n",
            "[0.0945625146230032 0.9624447970955577; 0.059009653012812906 0.9748737585498171]\n",
            "Iteration is 95   Error level is  9.864184748318044e-5\n",
            "VFI Start\n",
            "VFI End\n",
            "[0.09465415572754482 0.9624095312502506; 0.05909056352945133 0.9748434671456684]\n",
            "[0.0945689591333184 0.9624422740227131; 0.05901621759368043 0.9748712464174558]\n",
            "Iteration is 96   Error level is  0.00012095269704723202\n",
            "VFI Start\n",
            "VFI End\n",
            "[0.09464838656815229 0.9624112088614558; 0.05909483228270847 0.9748412181289411]\n",
            "[0.09457747879274106 0.9624389997454668; 0.05902365218725752 0.9748684684902771]\n",
            "Iteration is 97   Error level is  0.00010774708362284356\n",
            "VFI Start\n",
            "VFI End\n",
            "[0.09464339739119527 0.9624128073856861; 0.05909663055397546 0.9748401529340313]\n",
            "[0.09458456957028219 0.9624362206570657; 0.05903077019680261 0.9748657434541436]\n",
            "Iteration is 98   Error level is  9.487547183876473e-5\n",
            "VFI Start\n",
            "VFI End\n",
            "[0.09469081760520869 0.9623958596476826; 0.05911305636707358 0.9748356326179073]\n",
            "[0.09459045235237351 0.9624338793299277; 0.059037356232519905 0.9748631844021324]\n",
            "Iteration is 99   Error level is  0.00013419497531621844\n",
            "VFI Start\n",
            "VFI End\n",
            "[0.09468407328095788 0.9623976942485272; 0.05911955443321347 0.9748323013667987]\n",
            "[0.09460048887765704 0.9624300773617032; 0.05904492624597527 0.9748604292237099]\n",
            "Iteration is 100   Error level is  0.00011998150340365822\n",
            "VFI Start\n",
            "VFI End\n",
            "[0.09467828079387977 0.9623994622608759; 0.05912277276168884 0.9748305425771218]\n",
            "[0.09460884731798712 0.9624268390503855; 0.0590523890646991 0.9748576164380187]\n",
            "Iteration is 101   Error level is  0.00010610068295821535\n",
            "VFI Start\n",
            "VFI End\n",
            "[0.09467330091214227 0.9624011077748081; 0.059123958825646944 0.9748297660264528]\n",
            "[0.09461579066557639 0.9624241013714345; 0.05905942743439808 0.9748549090519291]\n",
            "Iteration is 102   Error level is  9.291181912168401e-5\n",
            "VFI Start\n",
            "VFI End\n",
            "[0.09470116504705893 0.9623910198667615; 0.05914570187202299 0.9748228379220656]\n",
            "[0.09462154169023299 0.962421802011772; 0.059065880573522966 0.9748523947493815]\n",
            "Iteration is 103   Error level is  0.00012055067456837326\n",
            "VFI Start\n",
            "VFI End\n",
            "[0.09469509551729412 0.9623927939087826; 0.059150072047194226 0.9748205267299336]\n",
            "[0.09462950402591558 0.962418723797271; 0.059073862703372976 0.9748494390666499]\n",
            "Iteration is 104   Error level is  0.00010778863649913854\n",
            "VFI Start\n",
            "VFI End\n",
            "[0.09468991291036727 0.962394456410456; 0.05915195992034048 0.9748194106089504]\n",
            "[0.09463606317505344 0.9624161308084223; 0.0590814836377551 0.9748465478329783]\n",
            "Iteration is 105   Error level is  9.52518181221062e-5\n",
            "VFI Start\n",
            "VFI End\n",
            "[0.09473587252730517 0.9623781932320852; 0.05916471119239212 0.9748164154892598]\n",
            "[0.09464144814858483 0.9624139633686256; 0.05908853126601364 0.9748438341105755]\n",
            "Iteration is 106   Error level is  0.0001294242169871203\n",
            "VFI Start\n",
            "VFI End\n",
            "[0.09472885592955173 0.9623801114483915; 0.05917148129536567 0.97481295539327]\n",
            "[0.09465089058645687 0.9624103863549716; 0.05909614925865149 0.974841092248444]\n",
            "Iteration is 107   Error level is  0.00011602483814648134\n",
            "VFI Start\n",
            "VFI End\n",
            "[0.0947229494500484 0.9623819084400069; 0.059174826701190106 0.9748111324565717]\n",
            "[0.09465868712076636 0.9624073588643136; 0.05910368246232291 0.9748382785629266]\n",
            "Iteration is 108   Error level is  0.00010283863513470275\n",
            "VFI Start\n",
            "VFI End\n",
            "[0.09471798797279406 0.9623835372644236; 0.05917610942653171 0.9748103083568997]\n",
            "[0.09466511335369457 0.962404813821883; 0.05911079688620963 0.9748355639522912]\n",
            "Iteration is 109   Error level is  9.028837280702977e-5\n",
            "VFI Start\n",
            "VFI End\n",
            "[0.0947320497982225 0.9623790348687024; 0.05919174988678551 0.9748061569157825]\n",
            "[0.09467040081560452 0.9624026861661371; 0.05911732814024184 0.9748330383927521]\n",
            "Iteration is 110   Error level is  0.00010305916306111296\n",
            "VFI Start\n",
            "VFI End\n",
            "[0.09472575032285155 0.9623808395288562; 0.059197053014344296 0.9748034232998101]\n",
            "[0.09467656571386632 0.9624003210363936; 0.05912477031489621 0.9748303502450553]\n",
            "Iteration is 111   Error level is  9.35334374258701e-5\n",
            "VFI Start\n",
            "VFI End\n",
            "[0.0947148698795546 0.9623842809950183; 0.059202293188011824 0.9748008477602694]\n",
            "[0.09468148417476485 0.96239837288564; 0.05913199858484102 0.9748276575505308]\n",
            "Iteration is 112   Error level is  8.350618392911362e-5\n",
            "VFI Start\n",
            "VFI End\n",
            "[0.09471365477728617 0.9623846550740315; 0.05920314852882973 0.9748004238782692]\n",
            "[0.09468482274524384 0.9623969636965779; 0.059139028045158096 0.9748249765715047]\n",
            "Iteration is 113   Error level is  7.547886745362995e-5\n",
            "VFI Start\n",
            "VFI End\n",
            "[0.09472701559126867 0.9623798145362782; 0.05920765952380624 0.9747990825499678]\n",
            "[0.09468770594844808 0.9623957328343232; 0.059145440093525264 0.9748225213021812]\n",
            "Iteration is 114   Error level is  7.886236644395007e-5\n",
            "VFI Start\n",
            "VFI End\n",
            "[0.09473728194202008 0.962376565964289; 0.05921258406246281 0.9747982906217302]\n",
            "[0.09469163691273015 0.9623941410045187; 0.059151662036553365 0.9748201774269598]\n",
            "Iteration is 115   Error level is  8.113492603081046e-5\n",
            "VFI Start\n",
            "VFI End\n",
            "[0.0947197404641836 0.962382399061732; 0.059218905833772484 0.9747949965758291]\n",
            "[0.09469620141565915 0.9623923835004957; 0.05915775423914431 0.9748179887464369]\n",
            "Iteration is 116   Error level is  7.015649120137371e-5\n",
            "VFI Start\n",
            "VFI End\n",
            "[0.09470870403771423 0.9623863031744024; 0.05921646471612731 0.9747954981392349]\n",
            "[0.09469855532051161 0.9623913850566194; 0.05916386939860713 0.9748156895293761]\n",
            "Iteration is 117   Error level is  5.7469832508961414e-5\n",
            "VFI Start\n",
            "VFI End\n",
            "[0.09470152767373169 0.9623889361500513; 0.05921355045492646 0.9747964268275253]\n",
            "[0.09469957019223188 0.9623908768683977; 0.059169128930359145 0.974813670390362]\n",
            "Iteration is 118   Error level is  4.773060261206702e-5\n",
            "VFI Start\n",
            "VFI End\n",
            "[0.0946966004480718 0.9623908075735688; 0.05921063323596377 0.9747974790584117]\n",
            "[0.09469976594038187 0.9623906827965631; 0.05917357108281588 0.9748119460340784]\n",
            "Iteration is 119   Error level is  3.991155837302289e-5\n",
            "VFI Start\n",
            "VFI End\n",
            "[0.09469309756134896 0.9623921791131475; 0.05920796058723622 0.9747984977218924]\n",
            "[0.09469944939115087 0.9623906952742637; 0.059177277298130666 0.9748104993365116]\n",
            "Iteration is 120   Error level is  3.35864630985308e-5\n",
            "VFI Start\n",
            "VFI End\n",
            "[0.09469059936052851 0.962393184115979; 0.05920562474271445 0.9747994145014219]\n",
            "[0.09469881420817068 0.9623908436581521; 0.05918034562704122 0.9748092991750498]\n",
            "Iteration is 121   Error level is  2.845526184333751e-5\n",
            "VFI Start\n",
            "VFI End\n",
            "[0.09468873341005157 0.9623939510635366; 0.05920366209085585 0.9748001988204138]\n",
            "[0.09469799272340647 0.9623910777039348; 0.059182873538608544 0.9748083107076869]\n",
            "Iteration is 122   Error level is  2.4330180822923586e-5\n",
            "VFI Start\n",
            "VFI End\n",
            "[0.09468737260961621 0.9623945210587327; 0.05920203350669823 0.9748008563186321]\n",
            "[0.09469706679207097 0.9623913650398951; 0.05918495239383328 0.9748074995189596]\n",
            "Iteration is 123   Error level is  2.0972223431631553e-5\n",
            "VFI Start\n",
            "VFI End\n",
            "[0.09468635651187955 0.9623949541980849; 0.05920070088924662 0.9748013982447504]\n",
            "[0.09469609737382549 0.9623916806417788; 0.059186660505119774 0.974806835198927]\n",
            "Iteration is 124   Error level is  1.8228917123236857e-5\n",
            "VFI Start\n",
            "VFI End\n",
            "[0.09468561034200262 0.9623952768845129; 0.059199627430640535 0.9748018369111464]\n",
            "[0.0946951232876309 0.9623920079974094; 0.059188064543532454 0.9748062915035093]\n",
            "Iteration is 125   Error level is  1.5960122456144166e-5\n",
            "VFI Start\n",
            "VFI End\n",
            "[0.09468504802361304 0.9623955230317135; 0.059198758215804184 0.9748021930300876]\n",
            "[0.09469417199306808 0.9623923348861199; 0.05918922083224327 0.974805846044273]\n",
            "Iteration is 126   Error level is  1.4061197984856001e-5\n",
            "VFI Start\n",
            "VFI End\n",
            "[0.09468465487813425 0.9623956988476651; 0.059198066690584666 0.9748024771811916]\n",
            "[0.09469325959612258 0.9623926537006793; 0.059190174570599365 0.9748054807428544]\n",
            "Iteration is 127   Error level is  1.243467057660141e-5\n",
            "VFI Start\n",
            "VFI End\n",
            "[0.09468436474759752 0.9623958308665583; 0.05919751586302665 0.9748027034483803]\n",
            "[0.09469239912432376 0.9623929582153778; 0.059190963782597895 0.9748051803866882]\n",
            "Iteration is 128   Error level is  1.1039398330972492e-5\n",
            "VFI Start\n",
            "VFI End\n",
            "[0.09468413711311227 0.9623959347232312; 0.05919707710392334 0.974802883721655]\n",
            "[0.09469159568665114 0.9623932454804959; 0.05919161899064077 0.9748049326928574]\n",
            "Iteration is 129   Error level is  9.841322539044882e-6\n",
            "VFI Start\n",
            "VFI End\n",
            "[0.09468398583654483 0.9623960062577466; 0.05919673328243083 0.9748030255847964]\n",
            "[0.09469084982929726 0.9623935144047694; 0.059192164801969024 0.9748047277957371]\n",
            "Iteration is 130   Error level is  8.780220019000668e-6\n",
            "VFI Start\n",
            "VFI End\n",
            "[0.09468391198126805 0.9623960443995334; 0.05919646081904465 0.9748031376346705]\n",
            "[0.09469016343002203 0.9623937635900671; 0.05919262165001521 0.974804557574643]\n",
            "Iteration is 131   Error level is  7.812691706911124e-6\n",
            "VFI Start\n",
            "VFI End\n",
            "[0.09468381669187531 0.962396090047707; 0.05919624550627056 0.9748032262977029]\n",
            "[0.09468953828514662 0.9623939916710138; 0.05919300556691815 0.9748044155806457]\n",
            "Iteration is 132   Error level is  7.003671553840638e-6\n",
            "VFI Start\n",
            "VFI End\n",
            "[0.0946838135171181 0.9623960970237844; 0.0591960814338429 0.9748032937522045]\n",
            "[0.0946889661258195 0.9623942015086832; 0.059193329560853394 0.9748042966523514]\n",
            "Iteration is 133   Error level is  6.222617422226814e-6\n",
            "VFI Start\n",
            "VFI End\n",
            "[0.09468376226314859 0.9623961235200417; 0.059195949980735706 0.974803347736049]\n",
            "[0.09468845086494936 0.9623943910601933; 0.05919360474815235 0.9748041963623367]\n",
            "Iteration is 134   Error level is  5.586115503504591e-6\n",
            "VFI Start\n",
            "VFI End\n",
            "[0.09468378395723968 0.9623961183675944; 0.059195855450241856 0.9748033863949925]\n",
            "[0.09468798200476927 0.9623945643061782; 0.059193839271410684 0.9748041114997079]\n",
            "Iteration is 135   Error level is  4.962808063345263e-6\n",
            "VFI Start\n",
            "VFI End\n",
            "[0.0946837959900126 0.9623961167848186; 0.05919577570588943 0.974803419092746]\n",
            "[0.09468756220001631 0.9623947197123198; 0.0591940408892938 0.9748040389892364]\n",
            "Iteration is 136   Error level is  4.419277049267391e-6\n",
            "VFI Start\n",
            "VFI End\n",
            "[0.09468381577832537 0.9623961118964174; 0.05919571529887843 0.9748034438129998]\n",
            "[0.09468718557901595 0.9623948594195697; 0.05919421437095336 0.9748039769995873]\n",
            "Iteration is 137   Error level is  3.9320894600263685e-6\n",
            "VFI Start\n",
            "VFI End\n",
            "[0.09468382170587271 0.9623961118239079; 0.05919567279329358 0.9748034610101267]\n",
            "[0.09468684859894691 0.9623949846672545; 0.059194364463745874 0.9748039236809285]\n",
            "Iteration is 138   Error level is  3.5154451041518654e-6\n",
            "VFI Start\n",
            "VFI End\n",
            "[0.0946838465278304 0.9623961037344337; 0.059195639586338375 0.9748034746549958]\n",
            "[0.09468654590963949 0.9623950973829198; 0.05919449529670065 0.9748038774138483]\n",
            "Iteration is 139   Error level is  3.125862919096126e-6\n",
            "VFI Start\n",
            "VFI End\n",
            "[0.09468386479962544 0.9623960981327774; 0.05919561304041458 0.9748034853209592]\n",
            "[0.09468627597145858 0.9623951980180713; 0.05919460972566443 0.9748038371379631]\n",
            "Iteration is 140   Error level is  2.784667266520702e-6\n",
            "VFI Start\n",
            "VFI End\n",
            "[0.09468387353956084 0.9623960960815363; 0.05919559332166439 0.9748034932655462]\n",
            "[0.09468603485427526 0.9623952880295419; 0.059194710057139444 0.9748038019562628]\n",
            "Iteration is 141   Error level is  2.4899147575865425e-6\n",
            "VFI Start\n",
            "VFI End\n",
            "[0.09468390681649239 0.9623960838478608; 0.059195582598390875 0.9748034974828534]\n",
            "[0.09468581872280382 0.9623953688347413; 0.059194798383591936 0.9748037710871912]\n",
            "Iteration is 142   Error level is  2.2037426549525984e-6\n",
            "VFI Start\n",
            "VFI End\n",
            "[0.09468394039094637 0.9623960710424505; 0.05919557308501006 0.9748035010759691]\n",
            "[0.09468562753217269 0.9623954403360533; 0.05919487680507183 0.9748037437267574]\n",
            "Iteration is 143   Error level is  1.946258265100403e-6\n",
            "VFI Start\n",
            "VFI End\n",
            "[0.09468395486989088 0.9623960663012218; 0.05919556585454937 0.9748035037783384]\n",
            "[0.09468545881805006 0.962395503406693; 0.05919494643306566 0.9748037194616785]\n",
            "Iteration is 144   Error level is  1.7346217437007083e-6\n",
            "VFI Start\n",
            "VFI End\n",
            "[0.0946839760920048 0.9623960588215702; 0.05919556165300045 0.9748035056325368]\n",
            "[0.09468530842323415 0.9623955596961459; 0.059195008375214034 0.9748036978933445]\n",
            "Iteration is 145   Error level is  1.5386075591438734e-6\n",
            "VFI Start\n",
            "VFI End\n",
            "[0.0946839793857923 0.9623960575504666; 0.059195558349947115 0.9748035068443819]\n",
            "[0.09468517519011123 0.9623956096086883; 0.05919506370299268 0.9748036786672638]\n",
            "Iteration is 146   Error level is  1.3801443831097544e-6\n",
            "VFI Start\n",
            "VFI End\n",
            "[0.09468398922753651 0.9623960543939454; 0.059195557956053364 0.9748035069337607]\n",
            "[0.09468505560967934 0.9623956544028661; 0.05919511316768812 0.9748036614849757]\n",
            "Iteration is 147   Error level is  1.2324311363793832e-6\n",
            "VFI Start\n",
            "VFI End\n",
            "[0.09468400487011007 0.9623960483923526; 0.05919555938391529 0.9748035062182164]\n",
            "[0.09468494897146507 0.9623956944019741; 0.05919515764652465 0.9748036460298541]\n",
            "Iteration is 148   Error level is  1.0943385132679145e-6\n",
            "VFI Start\n",
            "VFI End\n",
            "[0.09468402499282103 0.9623960407912501; 0.059195561282779696 0.9748035054369248]\n",
            "[0.09468485456132957 0.962395729801012; 0.059195197820263716 0.9748036320486904]\n",
            "Iteration is 149   Error level is  9.659370467347247e-7\n"
          ],
          "name": "stdout"
        }
      ]
    },
    {
      "cell_type": "code",
      "metadata": {
        "colab": {
          "base_uri": "https://localhost:8080/"
        },
        "id": "xvCz0QE-j3bD",
        "outputId": "da285a29-bda4-47a1-c2c0-953779b7aec6"
      },
      "source": [
        "New_Coef = [0.09468402499282103 0.9623960407912501; 0.059195561282779696 0.9748035054369248]"
      ],
      "execution_count": 105,
      "outputs": [
        {
          "output_type": "execute_result",
          "data": {
            "text/plain": [
              "2×2 Matrix{Float64}:\n",
              " 0.094684   0.962396\n",
              " 0.0591956  0.974804"
            ]
          },
          "metadata": {
            "tags": []
          },
          "execution_count": 105
        }
      ]
    },
    {
      "cell_type": "code",
      "metadata": {
        "colab": {
          "base_uri": "https://localhost:8080/"
        },
        "id": "Mj-4qdKjZKYc",
        "outputId": "df3d442e-466f-4822-db23-ef7b0b1e7095"
      },
      "source": [
        "Coef - New_Coef |> norm"
      ],
      "execution_count": 106,
      "outputs": [
        {
          "output_type": "execute_result",
          "data": {
            "text/plain": [
              "8.693433420850772e-7"
            ]
          },
          "metadata": {
            "tags": []
          },
          "execution_count": 106
        }
      ]
    },
    {
      "cell_type": "code",
      "metadata": {
        "id": "IaskvlpBkB9P"
      },
      "source": [
        "KKt = copy(Kt);"
      ],
      "execution_count": 110,
      "outputs": []
    },
    {
      "cell_type": "code",
      "metadata": {
        "id": "S0lD9sgf3dpl"
      },
      "source": [
        "for t = 1:T\n",
        "    if zseq[t] == 1\n",
        "        KKt[t] = New_Coef[1,1] + New_Coef[1,2] * log(Kt[t]) |> exp\n",
        "            else\n",
        "        KKt[t] = New_Coef[2,1] + New_Coef[2,2] * log(Kt[t]) |> exp\n",
        "    end\n",
        "end"
      ],
      "execution_count": 111,
      "outputs": []
    },
    {
      "cell_type": "code",
      "metadata": {
        "colab": {
          "base_uri": "https://localhost:8080/"
        },
        "id": "Pd8nEzwq4D0a",
        "outputId": "e6f57212-6452-4be1-cd20-8f9a6109a6e6"
      },
      "source": [
        "Coef[1,1] |> println \n",
        "Coef[1,2] |> println\n",
        "Coef[2,1] |> println\n",
        "Coef[2,2] |> println"
      ],
      "execution_count": null,
      "outputs": [
        {
          "output_type": "stream",
          "text": [
            "0.14403978715033403\n",
            "0.9614761800989985\n",
            "0.145622366826723\n",
            "0.9597160782155885\n"
          ],
          "name": "stdout"
        }
      ]
    },
    {
      "cell_type": "code",
      "metadata": {
        "colab": {
          "base_uri": "https://localhost:8080/"
        },
        "id": "js59NvtI26eV",
        "outputId": "79e32c1c-02a7-4d66-80f7-95762e383970"
      },
      "source": [
        "XX[:,1] = Kt[T0:T-1]\n",
        "    XX[:,2] = Kt[T0+1:T]\n",
        "    XX[:,3] = Zt[T0:T-1]\n",
        "    XX_Good = XX[findall(x->x == 1.01, XX[:,3]),:] \n",
        "    XX_Bad = XX[findall(x->x == 0.99, XX[:,3]),:] \n",
        "    EST_G = OLS(log.(XX_Good[:,2]), log.(XX_Good[:,1]) ;add_constant = 1 , print = 1 ) \n",
        "    EST_B = OLS(log.(XX_Bad[:,2]), log.(XX_Bad[:,1]) ;add_constant = 1 , print = 1 ) "
      ],
      "execution_count": 112,
      "outputs": [
        {
          "output_type": "stream",
          "text": [
            " \n",
            "Number of observations   1180\n",
            "Number of regressors     2\n",
            "result\n",
            "R-square     :    0.9972730951705339\n",
            "Variance of s2:    2.3038917198801026e-6\n",
            "Log likelihood:    5985.3907587956555\n",
            "D-W statistics:    2.0004773326228347\n",
            " \n",
            "Number of observations   1320\n",
            "Number of regressors     2\n",
            "result\n",
            "R-square     :    0.9949935371959234\n",
            "Variance of s2:    4.509743974850386e-6\n",
            "Log likelihood:    6252.12020960706\n",
            "D-W statistics:    1.6097358171981246\n"
          ],
          "name": "stdout"
        },
        {
          "output_type": "execute_result",
          "data": {
            "text/plain": [
              "2×1 Matrix{Float64}:\n",
              " 0.059195561282779696\n",
              " 0.9748035054369248"
            ]
          },
          "metadata": {
            "tags": []
          },
          "execution_count": 112
        }
      ]
    },
    {
      "cell_type": "code",
      "metadata": {
        "id": "obwk_igWl2IN",
        "colab": {
          "base_uri": "https://localhost:8080/"
        },
        "outputId": "a65ab46e-7cd8-4ce0-f164-88d9bda1d4de"
      },
      "source": [
        "using Plots\n",
        "pyplot()"
      ],
      "execution_count": 113,
      "outputs": [
        {
          "output_type": "execute_result",
          "data": {
            "text/plain": [
              "Plots.PyPlotBackend()"
            ]
          },
          "metadata": {
            "tags": []
          },
          "execution_count": 113
        }
      ]
    },
    {
      "cell_type": "code",
      "metadata": {
        "colab": {
          "base_uri": "https://localhost:8080/",
          "height": 429
        },
        "id": "fJJ_XFT9WBkI",
        "outputId": "747991d3-6eb9-4190-eae2-a5bf948f8356"
      },
      "source": [
        "plot(2:T, Kt[2:T], label = \"Actual Aggregate Capital\", xlabel = \"Time Period\", ylabel = \"Capital\")\n",
        "plot!(2:T,KKt[1:T-1] , label = \"Predicted Aggregate Captital\")\n",
        "title!(\"Krusell Smith(1998), Actual VS  Predicted\")\n",
        "savefig(\"/content/drive/MyDrive/Figure_KS(1998).png\")"
      ],
      "execution_count": 119,
      "outputs": [
        {
          "output_type": "display_data",
          "data": {
            "image/png": "[encoded data removed]",
            "text/plain": [
              "PyPlot.Figure(PyObject <Figure size 600x400 with 1 Axes>)"
            ]
          },
          "metadata": {
            "tags": []
          }
        }
      ]
    },
    {
      "cell_type": "code",
      "metadata": {
        "colab": {
          "base_uri": "https://localhost:8080/"
        },
        "id": "upl2cRcXRQ5u",
        "outputId": "5e698637-c7e8-4d51-d705-6c7510774ff8"
      },
      "source": [
        "function Gini(A_Ind::Array{Float64,1}, NH::Int64; Lorenz = false)\n",
        "    \n",
        "    Benchmark = collect(1:1:NH)./NH \n",
        "    Sorted_Data = sort(A_Ind)\n",
        "    Sorted_Data = cumsum(Sorted_Data)/sum(Sorted_Data)\n",
        "    Upper = zero(Float64)\n",
        "    Lower = zero(Float64)\n",
        "    for i = 1:1:NH\n",
        "        if i == 1\n",
        "        Upper += (Sorted_Data[i] + 0)*Benchmark[1]/2\n",
        "        Lower += (Benchmark[i] + 0)*Benchmark[1]/2\n",
        "        else\n",
        "        Upper += (Sorted_Data[i] + Sorted_Data[i-1])*Benchmark[1]/2\n",
        "        Lower += (Benchmark[i] + Benchmark[i-1])*Benchmark[1]/2\n",
        "        end\n",
        "    end\n",
        "    \n",
        "    if Lorenz == true\n",
        "        return 1-Upper/Lower , Benchmark, Sorted_Data\n",
        "    else\n",
        "        return 1 - Upper/Lower\n",
        "    end\n",
        "end"
      ],
      "execution_count": 115,
      "outputs": [
        {
          "output_type": "execute_result",
          "data": {
            "text/plain": [
              "Gini (generic function with 1 method)"
            ]
          },
          "metadata": {
            "tags": []
          },
          "execution_count": 115
        }
      ]
    },
    {
      "cell_type": "code",
      "metadata": {
        "colab": {
          "base_uri": "https://localhost:8080/"
        },
        "id": "RZ6X-KV8RQ_T",
        "outputId": "1ed44b43-a6e5-438b-8342-0d818215e698"
      },
      "source": [
        "gini, xx,yy = Gini(A_Ind[:,end], NH ; Lorenz = true)"
      ],
      "execution_count": 116,
      "outputs": [
        {
          "output_type": "execute_result",
          "data": {
            "text/plain": [
              "(0.30607684918087097, [0.0001, 0.0002, 0.0003, 0.0004, 0.0005, 0.0006, 0.0007, 0.0008, 0.0009, 0.001  …  0.9991, 0.9992, 0.9993, 0.9994, 0.9995, 0.9996, 0.9997, 0.9998, 0.9999, 1.0], [6.236806100316085e-8, 3.926605285959721e-7, 7.383054576544951e-7, 1.786768694738747e-6, 3.4922822416593972e-6, 5.311560956781986e-6, 7.840592887616478e-6, 1.0374371753370162e-5, 1.2984699214406448e-5, 1.5786541028476937e-5  …  0.9618616932273029, 0.9627156323663302, 0.9635947348364146, 0.9644753990114919, 0.9654888882226472, 0.9665379877122354, 0.9748855249831162, 0.9832518713915366, 0.9916251467192513, 1.0])"
            ]
          },
          "metadata": {
            "tags": []
          },
          "execution_count": 116
        }
      ]
    },
    {
      "cell_type": "code",
      "metadata": {
        "colab": {
          "base_uri": "https://localhost:8080/",
          "height": 429
        },
        "id": "_mRVOIS4aIym",
        "outputId": "8cfe84c4-b3c5-43c1-f6cf-0f3228b2bc7f"
      },
      "source": [
        "pyplot()\n",
        "plot(xx,yy,  label = \"Simulated Result\")\n",
        "plot!(xx,xx, label = \"Benchmark\")\n",
        "xlabel!(\"Fraction of Population\")\n",
        "ylabel!(\"Fraction of Assets\")\n",
        "title!(\"Lorenz Curve Krusell Smith (1998 \")\n",
        "savefig(\"/content/drive/MyDrive/Figure3_KS(1998).png\")"
      ],
      "execution_count": 118,
      "outputs": [
        {
          "output_type": "display_data",
          "data": {
            "image/png": "[encoded data removed]",
            "text/plain": [
              "PyPlot.Figure(PyObject <Figure size 600x400 with 1 Axes>)"
            ]
          },
          "metadata": {
            "tags": []
          }
        }
      ]
    },
    {
      "cell_type": "code",
      "metadata": {
        "colab": {
          "base_uri": "https://localhost:8080/",
          "height": 417
        },
        "id": "Pr9x5uLxbxbA",
        "outputId": "aec917bc-0c9b-4378-d6b3-c9ffecd7586d"
      },
      "source": [
        "plot(Kgrid,Kgrid, label = \"45 Degree Line\")\n",
        "plot!(Kgrid, (Coef[1,1] .+ Coef[1,2] * Kgrid) , label = \"Good State\")\n",
        "plot!(Kgrid, (Coef[2,1] .+ Coef[2,2] * Kgrid) , label = \"Bad State\")"
      ],
      "execution_count": 120,
      "outputs": [
        {
          "output_type": "execute_result",
          "data": {
            "image/png": "[encoded data removed]"
          },
          "metadata": {
            "tags": []
          },
          "execution_count": 120
        }
      ]
    },
    {
      "cell_type": "code",
      "metadata": {
        "id": "wmCNIYYEbxe3"
      },
      "source": [
        ""
      ],
      "execution_count": null,
      "outputs": []
    },
    {
      "cell_type": "code",
      "metadata": {
        "id": "0sBsHFJebhSY"
      },
      "source": [
        "Ct = zeros(T);"
      ],
      "execution_count": 121,
      "outputs": []
    },
    {
      "cell_type": "code",
      "metadata": {
        "id": "uzygSvS7a81I"
      },
      "source": [
        "for t = 2:T\n",
        "    Yt[t] = Kt[t]^α * Lseq[t]^(1-α) * Zt[t]\n",
        "    Ct[t] = Yt[t] +(1-δ) * Kt[t-1] - Kt[t]\n",
        "end"
      ],
      "execution_count": 122,
      "outputs": []
    },
    {
      "cell_type": "code",
      "metadata": {
        "colab": {
          "base_uri": "https://localhost:8080/"
        },
        "id": "Tllc3ZXUlTNY",
        "outputId": "a1ef1586-2705-458f-b81d-724d52a50a3a"
      },
      "source": [
        "Ct"
      ],
      "execution_count": 124,
      "outputs": [
        {
          "output_type": "execute_result",
          "data": {
            "text/plain": [
              "3000-element Vector{Float64}:\n",
              " 0.0\n",
              " 0.8074672402329561\n",
              " 0.8099419525874172\n",
              " 0.8124224255330272\n",
              " 0.8132633947239682\n",
              " 0.8148921916793821\n",
              " 0.8146221415998909\n",
              " 0.8128389075510203\n",
              " 0.8141900725048341\n",
              " 0.8156495910786532\n",
              " 0.8099378699985991\n",
              " 0.8111056060334523\n",
              " 0.7946811958375744\n",
              " ⋮\n",
              " 0.836024867314249\n",
              " 0.8347856107379297\n",
              " 0.8326791812189978\n",
              " 0.8316323545587689\n",
              " 0.8297228198041022\n",
              " 0.8262392370100589\n",
              " 0.8258291131285329\n",
              " 0.8227144515764166\n",
              " 0.8201793007060676\n",
              " 0.8191004062289995\n",
              " 0.8131106979098881\n",
              " 0.791312902566732"
            ]
          },
          "metadata": {
            "tags": []
          },
          "execution_count": 124
        }
      ]
    },
    {
      "cell_type": "code",
      "metadata": {
        "id": "Plx5-gZrc0K2"
      },
      "source": [
        "jldsave(\"/content/drive/MyDrive/Krusell_Smith_Original_Result.jld2\"; \n",
        "GG, A_Ind, Kt, KKt , Ind_shock, zseq, Zt, Coef, Yt,Ct,agrid, Kgrid ) "
      ],
      "execution_count": 125,
      "outputs": []
    },
    {
      "cell_type": "code",
      "metadata": {
        "id": "wLXdn0WLj0sK",
        "colab": {
          "base_uri": "https://localhost:8080/"
        },
        "outputId": "0fee64b3-afc6-4663-d143-e9fedfdd52a8"
      },
      "source": [
        "println(\"Maximum Error Level is \",abs.(Kt[2:end] - KKt[1:end-1])/ Kt[2:end] * 100 |> maximum, \"Percent\" )\n",
        "println(\"Average Error Level is \",abs.(Kt[2:end] - KKt[1:end-1])/ Kt[2:end] * 100 |> mean, \"Percent\" )"
      ],
      "execution_count": 134,
      "outputs": [
        {
          "output_type": "stream",
          "text": [
            "Maximum Error Level is 0.00022451700487390519Percent\n",
            "Average Error Level is 4.0299163187440233e-5Percent\n"
          ],
          "name": "stdout"
        }
      ]
    }
  ]
}