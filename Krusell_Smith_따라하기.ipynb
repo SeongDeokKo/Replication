{
  "nbformat": 4,
  "nbformat_minor": 0,
  "metadata": {
    "accelerator": "GPU",
    "colab": {
      "name": "Krusell_Smith 따라하기",
      "provenance": [],
      "collapsed_sections": [],
      "machine_shape": "hm",
      "include_colab_link": true
    },
    "kernelspec": {
      "display_name": "Julia",
      "language": "julia",
      "name": "julia"
    },
    "language_info": {
      "file_extension": ".jl",
      "mimetype": "application/julia",
      "name": "julia"
    }
  },
  "cells": [
    {
      "cell_type": "markdown",
      "metadata": {
        "id": "view-in-github",
        "colab_type": "text"
      },
      "source": [
        "<a href=\"https://colab.research.google.com/github/SeongDeokKo/Replication/blob/master/Krusell_Smith_%EB%94%B0%EB%9D%BC%ED%95%98%EA%B8%B0.ipynb\" target=\"_parent\"><img src=\"https://colab.research.google.com/assets/colab-badge.svg\" alt=\"Open In Colab\"/></a>"
      ]
    },
    {
      "cell_type": "markdown",
      "metadata": {
        "id": "f_1dr-2W5iSU"
      },
      "source": [
        "# Getting Started with Julia in Colab/Jupyter\n",
        "You can either run this notebook in Google Colab, or using Jupyter on your own machine."
      ]
    },
    {
      "cell_type": "markdown",
      "metadata": {
        "id": "6ew60wXrZM0W"
      },
      "source": [
        "## Running on Google Colab\n",
        "1. Work on a copy of this notebook: _File_ > _Save a copy in Drive_ (you will need a Google account). Alternatively, you can download the notebook using _File_ > _Download .ipynb_, then upload it to [Colab](https://colab.research.google.com/).\n",
        "2. Execute the following cell (click on it and press Ctrl+Enter) to install Julia, IJulia (the Jupyter kernel for Julia) and other packages. You can update `JULIA_VERSION` and the other parameters, if you know what you're doing. Installation takes 2-3 minutes.\n",
        "3. Reload this page (press Ctrl+R, or ⌘+R, or the F5 key) and continue to the _Checking the Installation_ section.\n",
        "\n",
        "* _Note_: If your Colab Runtime gets reset (e.g., due to inactivity), repeat steps 2 and 3."
      ]
    },
    {
      "cell_type": "code",
      "metadata": {
        "colab": {
          "base_uri": "https://localhost:8080/"
        },
        "id": "lfJZ4yEC1k1e",
        "outputId": "50706917-582a-4c24-f245-a07cc5f1a0ec"
      },
      "source": [
        "from google.colab import drive\n",
        "drive.mount('/content/drive')"
      ],
      "execution_count": null,
      "outputs": [
        {
          "output_type": "stream",
          "text": [
            "Mounted at /content/drive\n"
          ],
          "name": "stdout"
        }
      ]
    },
    {
      "cell_type": "code",
      "metadata": {
        "colab": {
          "base_uri": "https://localhost:8080/"
        },
        "id": "GIeFXS0F0zww",
        "outputId": "27c8798a-76e4-4a22-973b-2137e45afa86"
      },
      "source": [
        "%%shell\n",
        "set -e\n",
        "\n",
        "#---------------------------------------------------#\n",
        "JULIA_VERSION=\"1.6.0\" # any version ≥ 0.7.0\n",
        "JULIA_PACKAGES=\"IJulia BenchmarkTools PyCall PyPlot QuantEcon JLD2 Roots LinearAlgebra Plots Distributions Dierckx Optim Roots GLM StatsBase Parameters Interpolations\"\n",
        "JULIA_PACKAGES_IF_GPU=\"CUDA\"\n",
        "JULIA_NUM_THREADS=4\n",
        "#---------------------------------------------------#\n",
        "\n",
        "if [ -n \"$COLAB_GPU\" ] && [ -z `which julia` ]; then\n",
        "  # Install Julia\n",
        "  JULIA_VER=`cut -d '.' -f -2 <<< \"$JULIA_VERSION\"`\n",
        "  echo \"Installing Julia $JULIA_VERSION on the current Colab Runtime...\"\n",
        "  BASE_URL=\"https://julialang-s3.julialang.org/bin/linux/x64\"\n",
        "  URL=\"$BASE_URL/$JULIA_VER/julia-$JULIA_VERSION-linux-x86_64.tar.gz\"\n",
        "  wget -nv $URL -O /tmp/julia.tar.gz # -nv means \"not verbose\"\n",
        "  tar -x -f /tmp/julia.tar.gz -C /usr/local --strip-components 1\n",
        "  rm /tmp/julia.tar.gz\n",
        "\n",
        "  # Install Packages\n",
        "  if [ \"$COLAB_GPU\" = \"1\" ]; then\n",
        "      JULIA_PACKAGES=\"$JULIA_PACKAGES $JULIA_PACKAGES_IF_GPU\"\n",
        "  fi\n",
        "  for PKG in `echo $JULIA_PACKAGES`; do\n",
        "    echo \"Installing Julia package $PKG...\"\n",
        "    julia -e 'using Pkg; pkg\"add '$PKG'; precompile;\"' &> /dev/null\n",
        "  done\n",
        "\n",
        "  # Install kernel and rename it to \"julia\"\n",
        "  echo \"Installing IJulia kernel...\"\n",
        "  julia -e 'using IJulia; IJulia.installkernel(\"julia\", env=Dict(\n",
        "      \"JULIA_NUM_THREADS\"=>\"'\"$JULIA_NUM_THREADS\"'\"))'\n",
        "  KERNEL_DIR=`julia -e \"using IJulia; print(IJulia.kerneldir())\"`\n",
        "  KERNEL_NAME=`ls -d \"$KERNEL_DIR\"/julia*`\n",
        "  mv -f $KERNEL_NAME \"$KERNEL_DIR\"/julia  \n",
        "\n",
        "  echo ''\n",
        "  echo \"Successfully installed `julia -v`!\"\n",
        "  echo \"Please reload this page (press Ctrl+R, ⌘+R, or the F5 key) then\"\n",
        "  echo \"jump to the 'Checking the Installation' section.\"\n",
        "fi"
      ],
      "execution_count": null,
      "outputs": [
        {
          "output_type": "stream",
          "text": [
            "Installing Julia 1.6.0 on the current Colab Runtime...\n",
            "2021-07-12 01:01:28 URL:https://storage.googleapis.com/julialang2/bin/linux/x64/1.6/julia-1.6.0-linux-x86_64.tar.gz [112838927/112838927] -> \"/tmp/julia.tar.gz\" [1]\n",
            "Installing Julia package IJulia...\n",
            "Installing Julia package BenchmarkTools...\n",
            "Installing Julia package PyCall...\n",
            "Installing Julia package PyPlot...\n",
            "Installing Julia package QuantEcon...\n",
            "Installing Julia package JLD2...\n",
            "Installing Julia package Roots...\n",
            "Installing Julia package LinearAlgebra...\n",
            "Installing Julia package Plots...\n",
            "Installing Julia package Distributions...\n",
            "Installing Julia package Dierckx...\n",
            "Installing Julia package Optim...\n",
            "Installing Julia package Roots...\n",
            "Installing Julia package GLM...\n",
            "Installing Julia package StatsBase...\n",
            "Installing Julia package Parameters...\n",
            "Installing Julia package Interpolations...\n",
            "Installing Julia package CUDA...\n",
            "Installing IJulia kernel...\n",
            "\u001b[36m\u001b[1m[ \u001b[22m\u001b[39m\u001b[36m\u001b[1mInfo: \u001b[22m\u001b[39mInstalling julia kernelspec in /root/.local/share/jupyter/kernels/julia-1.6\n",
            "\n",
            "Successfully installed julia version 1.6.0!\n",
            "Please reload this page (press Ctrl+R, ⌘+R, or the F5 key) then\n",
            "jump to the 'Checking the Installation' section.\n"
          ],
          "name": "stdout"
        },
        {
          "output_type": "execute_result",
          "data": {
            "text/plain": [
              ""
            ]
          },
          "metadata": {
            "tags": []
          },
          "execution_count": 2
        }
      ]
    },
    {
      "cell_type": "code",
      "metadata": {
        "colab": {
          "base_uri": "https://localhost:8080/"
        },
        "id": "EEzvvzCl1i0F",
        "outputId": "559cc26f-8e55-42c5-c760-d96d944474a7"
      },
      "source": [
        "versioninfo()"
      ],
      "execution_count": null,
      "outputs": [
        {
          "output_type": "stream",
          "text": [
            "Julia Version 1.6.0\n",
            "Commit f9720dc2eb (2021-03-24 12:55 UTC)\n",
            "Platform Info:\n",
            "  OS: Linux (x86_64-pc-linux-gnu)\n",
            "  CPU: Intel(R) Xeon(R) CPU @ 2.20GHz\n",
            "  WORD_SIZE: 64\n",
            "  LIBM: libopenlibm\n",
            "  LLVM: libLLVM-11.0.1 (ORCJIT, broadwell)\n",
            "Environment:\n",
            "  JULIA_NUM_THREADS = 4\n"
          ],
          "name": "stdout"
        }
      ]
    },
    {
      "cell_type": "code",
      "metadata": {
        "id": "ppk5lWK43w68"
      },
      "source": [
        "using LinearAlgebra\n",
        "using QuantEcon\n",
        "using Roots\n",
        "using Dierckx\n",
        "using Optim\n",
        "using Parameters\n",
        "using StatsBase\n",
        "using GLM\n",
        "using Interpolations"
      ],
      "execution_count": 1,
      "outputs": []
    },
    {
      "cell_type": "code",
      "metadata": {
        "id": "aiY0el0neQAe",
        "colab": {
          "base_uri": "https://localhost:8080/"
        },
        "outputId": "1fe443dd-a4e3-4d46-9582-9cae460d05d8"
      },
      "source": [
        "const β = 0.99\n",
        "const δ = 0.025\n",
        "const σ = 1\n",
        "const α = 0.36\n",
        "const zg = 1.01\n",
        "const zb = 0.99\n",
        "const ug = 0.04\n",
        "const ub = 0.1\n",
        "const nz = 2 # the number of aggregate states\n",
        "const zgrid = [zg, zb] # TFP grid\n",
        "const T = 1100 # final time period\n",
        "const T0 = 100 # discard all the points before this period\n",
        "const ne = 2\n",
        "# transition probabilities\n",
        "const πgg = 7/8 # good -> good\n",
        "const πgb = 1/8 # good -> bad\n",
        "const πbg = 1/8 # bad -> good\n",
        "const πbb = 7/8 # bad -> bad\n",
        "# constant unemployment rates in each state\n",
        "const ug = 0.04\n",
        "const ub = 0.1\n",
        "const L_bar = 1/0.9 # 이게 논문에는 안 나와있는데 코드 보니깐 이렇게 임의로 주어졌더라구요;;\n",
        "const Lgrid = [1-ug, 1-ub] * L_bar # Aggregate Labor\n",
        "const mu = 0.15 # Fractrion of "
      ],
      "execution_count": 2,
      "outputs": [
        {
          "output_type": "execute_result",
          "data": {
            "text/plain": [
              "0.15"
            ]
          },
          "metadata": {
            "tags": []
          },
          "execution_count": 2
        }
      ]
    },
    {
      "cell_type": "code",
      "metadata": {
        "colab": {
          "base_uri": "https://localhost:8080/"
        },
        "id": "1k2oNJrodtCA",
        "outputId": "445de89c-3a0e-4dfa-988c-b373e9d31a95"
      },
      "source": [
        "kss=((1/β-(1-δ))/α)^(1/(α-1))"
      ],
      "execution_count": 3,
      "outputs": [
        {
          "output_type": "execute_result",
          "data": {
            "text/plain": [
              "37.98925353815222"
            ]
          },
          "metadata": {
            "tags": []
          },
          "execution_count": 3
        }
      ]
    },
    {
      "cell_type": "code",
      "metadata": {
        "id": "qAe9ai3feQFZ"
      },
      "source": [
        "#=P = [P_GEGE P_GEGU P_GEBE P_GEBU ;\n",
        "      P_GUGE P_GUGU P_GUBE P_GUBU ;\n",
        "      P_BEGE P_BEGU P_BEBE P_BEBU ;\n",
        "      P_BUGE P_BUGU P_BUBE P_BUBU ] \n",
        "=##\n",
        "\n",
        "P = zeros(4,4); # Transition Matrix 저장할 곳 \n",
        "P[2,2] = 1/3 ;\n",
        "P[2,1] = 7/8 - P[2,2]\n",
        "P[4,4] = 0.6 ;\n",
        "P[4,3] = 7/8 - 0.6\n",
        "P[2,4] = 3/28 ; \n",
        "P[2,3] = 1/8 - P[2,4]\n",
        "P[4,2] = 1/28 ; \n",
        "P[4,1] = 1/8 - 1/28\n",
        "RHS12 =  ug - ug * P[2,2]/πgg ; \n",
        "LHS12 = (1-ug)/πgg\n",
        "P[1,2] = RHS12/LHS12 ; \n",
        "P[1,1] = 7/8 - P[1,2]\n",
        "RHS14 = ub - ug*P[2,4]/πgb ; \n",
        "LHS14 = (1-ug)/πgb\n",
        "P[1,4] = RHS14/LHS14 ; \n",
        "P[1,3] = 1/8 - P[1,4]\n",
        "RHS32 = 0.04 - P[4,2]*8*0.1 ; \n",
        "LHS32 = 0.9/(1/8)\n",
        "P[3,2] = RHS32/LHS32 ; \n",
        "P[3,1] = 1/8 - P[3,2]\n",
        "RHS34 = 0.1 - P[4,4]*8/7*0.1 ; \n",
        "LHS34 = 0.9/(7/8)\n",
        "P[3,4] = RHS34/LHS34 ; \n",
        "P[3,3] = 7/8 - P[3,4];\n"
      ],
      "execution_count": 4,
      "outputs": []
    },
    {
      "cell_type": "code",
      "metadata": {
        "id": "f3Am_Na0TORT"
      },
      "source": [
        "prob=[0.525 0.35 0.03125 0.09375  \n",
        "   0.038889 0.836111 0.002083 0.122917\n",
        "   0.09375 0.03125 0.291667 0.583333\n",
        "   0.009115 0.115885 0.024306 0.850694];"
      ],
      "execution_count": 5,
      "outputs": []
    },
    {
      "cell_type": "code",
      "metadata": {
        "colab": {
          "base_uri": "https://localhost:8080/"
        },
        "id": "-ejEcD9bW_4F",
        "outputId": "765c7a2c-ae56-40b3-caeb-ff248572d574"
      },
      "source": [
        "prob"
      ],
      "execution_count": 6,
      "outputs": [
        {
          "output_type": "execute_result",
          "data": {
            "text/plain": [
              "4×4 Matrix{Float64}:\n",
              " 0.525     0.35      0.03125   0.09375\n",
              " 0.038889  0.836111  0.002083  0.122917\n",
              " 0.09375   0.03125   0.291667  0.583333\n",
              " 0.009115  0.115885  0.024306  0.850694"
            ]
          },
          "metadata": {
            "tags": []
          },
          "execution_count": 6
        }
      ]
    },
    {
      "cell_type": "code",
      "metadata": {
        "id": "2d8M_aXrTpkc"
      },
      "source": [
        "P[1,1] = prob[4,4] ; P[1,2] = prob[4,3] ;\n",
        "P[1,3] = prob[4,2] ; P[1,4] = prob[4,1] ; \n",
        "P[2,1] = prob[3,4] ; P[2,2] = prob[3,3] ; \n",
        "P[2,3] = prob[3,2] ; P[2,4] = prob[3,1] ; \n",
        "P[3,1] = prob[2,4] ; P[3,2] = prob[2,3] ;\n",
        "P[3,3] = prob[2,2] ; P[3,4] = prob[2,1] ;\n",
        "P[4,1] = prob[1,4] ; P[4,2] = prob[1,3] ;\n",
        "P[4,3] = prob[1,2] ; P[4,4] = prob[1,1] ;"
      ],
      "execution_count": 7,
      "outputs": []
    },
    {
      "cell_type": "code",
      "metadata": {
        "colab": {
          "base_uri": "https://localhost:8080/"
        },
        "id": "p-ODRJZGHmHJ",
        "outputId": "0f225a42-c20e-4362-f3e3-ab197b92dddc"
      },
      "source": [
        "P"
      ],
      "execution_count": 8,
      "outputs": [
        {
          "output_type": "execute_result",
          "data": {
            "text/plain": [
              "4×4 Matrix{Float64}:\n",
              " 0.850694  0.024306  0.115885  0.009115\n",
              " 0.583333  0.291667  0.03125   0.09375\n",
              " 0.122917  0.002083  0.836111  0.038889\n",
              " 0.09375   0.03125   0.35      0.525"
            ]
          },
          "metadata": {
            "tags": []
          },
          "execution_count": 8
        }
      ]
    },
    {
      "cell_type": "code",
      "metadata": {
        "colab": {
          "base_uri": "https://localhost:8080/"
        },
        "id": "mgrA32o9eQCt",
        "outputId": "8edf7f56-a8ea-45f7-a842-b23996a50419"
      },
      "source": [
        "using Distributions\n",
        "function Generate_Shock(T::Int64,NH::Int64)\n",
        "    zseq = zeros(Int64,T)\n",
        "    zseq[1] = 0 # arbitrarily chosen\n",
        "    \n",
        "    P_GGEE = P[1,1] /(P[1,1] + P[1,2] )\n",
        "    P_GBEE = P[1,3] /(P[1,3] + P[1,4] )\n",
        "    P_GGUE = P[2,1] /(P[2,1] + P[2,2] )\n",
        "    P_GBUE = P[2,3] /(P[2,3] + P[2,3] )\n",
        "\n",
        "    P_BGEE = P[3,1] /(P[3,1] + P[3,2] ) \n",
        "    P_BBEE = P[3,3] /(P[3,3] + P[3,4] ) \n",
        "    P_BGUE = P[4,1] /(P[4,1] + P[4,2] ) \n",
        "    P_BBUE = P[4,3] /(P[4,4] + P[4,4] ) \n",
        "    for iter in 2:T\n",
        "        if zseq[iter-1] == 1\n",
        "            zseq[iter] = sample([1, 0], weights([πgg, πgb]))\n",
        "        elseif zseq[iter-1] == 0\n",
        "            zseq[iter] = sample([1, 0], weights([πbg, πbb]))\n",
        "        end\n",
        "    end\n",
        "\n",
        "    Zt = zeros(Float64,T);\n",
        "    for t in eachindex(zseq)\n",
        "        if zseq[t] == 1\n",
        "            Zt[t] = zgrid[1]\n",
        "        else\n",
        "            Zt[t] = zgrid[2]\n",
        "        end \n",
        "    end\n",
        "\n",
        "    Ind_shock = zeros(Int64,NH,T)\n",
        "    for NH_idx = 1:NH\n",
        "        u = rand(Uniform(0,1))\n",
        "        if zseq[1] == 0\n",
        "            if u < ub\n",
        "                Ind_shock[NH_idx,1] = 0\n",
        "            else\n",
        "                Ind_shock[NH_idx,1] = 1\n",
        "            end\n",
        "        else zseq[1] == 1\n",
        "            if u < ug\n",
        "                Ind_shock[NH_idx,1] = 0\n",
        "            else\n",
        "                Ind_shock[NH_idx,1] = 1\n",
        "            end\n",
        "        end\n",
        "    end\n",
        "    for t = 2:T\n",
        "        for NH_idx = 1:NH\n",
        "            u = rand(Uniform(0,1))\n",
        "            ## Good To Good \n",
        "            if zseq[t-1] == 1 && zseq[t] == 1\n",
        "                if Ind_shock[NH_idx,t-1] == 1\n",
        "                    if u < P_GGEE \n",
        "                        Ind_shock[NH_idx,t] = 1\n",
        "                    else \n",
        "                        Ind_shock[NH_idx,t] = 0\n",
        "                    end\n",
        "                else \n",
        "                    if u < P_GGUE \n",
        "                        Ind_shock[NH_idx,t] = 1\n",
        "                    else \n",
        "                        Ind_shock[NH_idx,t] = 0\n",
        "                    end\n",
        "                end\n",
        "            elseif zseq[t-1] == 1 && zseq[t] == 0\n",
        "            ## Good To Bad\n",
        "                if Ind_shock[NH_idx,t-1] == 1\n",
        "                    if u < P_GBEE\n",
        "                        Ind_shock[NH_idx,t] = 1\n",
        "                    else \n",
        "                        Ind_shock[NH_idx,t] = 0\n",
        "                    end\n",
        "                else \n",
        "                    if u < P_GBUE\n",
        "                        Ind_shock[NH_idx,t] = 1\n",
        "                    else \n",
        "                        Ind_shock[NH_idx,t] = 0\n",
        "                    end\n",
        "                end\n",
        "            elseif zseq[t-1] == 0 && zseq[t] == 1\n",
        "            ## Bad to Good\n",
        "                if Ind_shock[NH_idx,t-1] == 1\n",
        "                    if u < P_BGEE\n",
        "                        Ind_shock[NH_idx,t] = 1\n",
        "                    else \n",
        "                        Ind_shock[NH_idx,t] = 0\n",
        "                    end\n",
        "                else \n",
        "                    if u < P_BGUE \n",
        "                        Ind_shock[NH_idx,t] = 1\n",
        "                    else \n",
        "                        Ind_shock[NH_idx,t] = 0\n",
        "                    end\n",
        "                end\n",
        "            else\n",
        "            ## Bad to Bad\n",
        "                if Ind_shock[NH_idx,t-1] == 1\n",
        "                    if u < P_BBEE\n",
        "                        Ind_shock[NH_idx,t] = 1\n",
        "                    else \n",
        "                        Ind_shock[NH_idx,t] = 0\n",
        "                    end\n",
        "                else \n",
        "                    if u < P_BBUE \n",
        "                        Ind_shock[NH_idx,t] = 1\n",
        "                    else \n",
        "                        Ind_shock[NH_idx,t] = 0\n",
        "                    end\n",
        "                end\n",
        "            end\n",
        "        end\n",
        "    end\n",
        "\n",
        "    return zseq, Zt , Ind_shock\n",
        "\n",
        "end"
      ],
      "execution_count": 9,
      "outputs": [
        {
          "output_type": "execute_result",
          "data": {
            "text/plain": [
              "Generate_Shock (generic function with 1 method)"
            ]
          },
          "metadata": {
            "tags": []
          },
          "execution_count": 9
        }
      ]
    },
    {
      "cell_type": "code",
      "metadata": {
        "id": "z-Y0F1GF1sDr"
      },
      "source": [
        "NH = 20_000;\n",
        "zseq , Zt , Ind_shock=Generate_Shock(T,NH);"
      ],
      "execution_count": 75,
      "outputs": []
    },
    {
      "cell_type": "code",
      "metadata": {
        "colab": {
          "base_uri": "https://localhost:8080/"
        },
        "id": "BD-QhffEoFE8",
        "outputId": "c05230f1-1be8-4978-a207-e540caf86e60"
      },
      "source": [
        "function grid_Cons_Grow(n::Int64, left::Real, right::Real, growth::Float64)\n",
        "    h = (right-left)/((1+growth)^(n-1)-1)\n",
        "    # ! calculate grid value\n",
        "    return [left + h*((1+growth)^i-1) for i in 0:(n-1)]\n",
        "end"
      ],
      "execution_count": 76,
      "outputs": [
        {
          "output_type": "execute_result",
          "data": {
            "text/plain": [
              "grid_Cons_Grow (generic function with 1 method)"
            ]
          },
          "metadata": {
            "tags": []
          },
          "execution_count": 76
        }
      ]
    },
    {
      "cell_type": "code",
      "metadata": {
        "colab": {
          "base_uri": "https://localhost:8080/"
        },
        "id": "eMRuA7cpmYKh",
        "outputId": "e52ff7a1-cad5-4379-d1a6-2bc16bdba5f6"
      },
      "source": [
        "function U(x::Float64)\n",
        "    if x < 0\n",
        "        return -Inf\n",
        "    end\n",
        "    return log(x)\n",
        "end\n",
        "function U(x::Int64)\n",
        "    if x < 0\n",
        "        return -Inf\n",
        "    end\n",
        "    return log(x)\n",
        "end"
      ],
      "execution_count": 77,
      "outputs": [
        {
          "output_type": "execute_result",
          "data": {
            "text/plain": [
              "U (generic function with 2 methods)"
            ]
          },
          "metadata": {
            "tags": []
          },
          "execution_count": 77
        }
      ]
    },
    {
      "cell_type": "code",
      "metadata": {
        "id": "SC_sm9ktfeer"
      },
      "source": [
        "# capital grid\n",
        "Kmin = 25\n",
        "Kmax = 60\n",
        "nK = 8\n",
        "Kgrid = range(Kmin, Kmax, length=nK) |> collect ;"
      ],
      "execution_count": 78,
      "outputs": []
    },
    {
      "cell_type": "code",
      "metadata": {
        "id": "HCUPn9XinKuD"
      },
      "source": [
        "amin=0;                #   % minimum grid-value of capitala\n",
        "amax=1000;             #   % maximum grid-value of capital\n",
        "na= 300;                #% number of grid points\n",
        "x = range(0,0.5,length = na);# % generate a grid of ngridk points on [0,0.5] #   % interval  \n",
        "y = x.^7/maximum(x).^7\n",
        "\n",
        "agrid = amin .+ (amax - amin) * y;"
      ],
      "execution_count": 79,
      "outputs": []
    },
    {
      "cell_type": "code",
      "metadata": {
        "colab": {
          "base_uri": "https://localhost:8080/"
        },
        "id": "ME3ujHqzfkm3",
        "outputId": "bbfb3892-185f-4f40-bf35-150e935fc291"
      },
      "source": [
        "# 초기값 \n",
        "Coef= [0.0 1.0;  0 1]"
      ],
      "execution_count": 80,
      "outputs": [
        {
          "output_type": "execute_result",
          "data": {
            "text/plain": [
              "2×2 Matrix{Float64}:\n",
              " 0.0  1.0\n",
              " 0.0  1.0"
            ]
          },
          "metadata": {
            "tags": []
          },
          "execution_count": 80
        }
      ]
    },
    {
      "cell_type": "code",
      "metadata": {
        "colab": {
          "base_uri": "https://localhost:8080/"
        },
        "id": "I0yvqai1tzzM",
        "outputId": "1c05b2b5-58fc-427a-a4ef-3c62b0c08136"
      },
      "source": [
        "function Neville(x::Array{Float64}, y::Array{Float64}, x0::Float64, N::Int64)   \n",
        "  \n",
        "    Q = zeros(N,N)\n",
        "    Q[:,1] .= y\n",
        "  \n",
        "    for i in 2:N \n",
        "        for j in 2:i\n",
        "            Q[i,j] = ((x0 - x[i-j+1]) * Q[i,j-1] - (x0 - x[i]) * Q[i-1,j-1]) / (x[i] - x[i-j+1])\n",
        "        end\n",
        "    end\n",
        "    return Q[N,N]\n",
        "end\n",
        "  \n",
        "function Neville(x::Array{Float64}, y::Array{Float64}, x0::Int64, N::Int64)   \n",
        "  \n",
        "    Q = zeros(N,N)\n",
        "    Q[:,1] .= y\n",
        "    for i in 2:N \n",
        "        for j in 2:i\n",
        "            Q[i,j] = ((x0 - x[i-j+1]) * Q[i,j-1] - (x0 - x[i]) * Q[i-1,j-1]) / (x[i] - x[i-j+1])\n",
        "        end\n",
        "    end\n",
        "    return Q[N,N]\n",
        "end"
      ],
      "execution_count": 81,
      "outputs": [
        {
          "output_type": "execute_result",
          "data": {
            "text/plain": [
              "Neville (generic function with 2 methods)"
            ]
          },
          "metadata": {
            "tags": []
          },
          "execution_count": 81
        }
      ]
    },
    {
      "cell_type": "code",
      "metadata": {
        "colab": {
          "base_uri": "https://localhost:8080/"
        },
        "id": "orr5smgjxucs",
        "outputId": "6a436ff2-64ad-49ef-d4fa-0be5f42c68c3"
      },
      "source": [
        "function TV( V::Array{Float64,4},\n",
        "    Kgrid::Array{Float64,1},\n",
        "    agrid::Array{Float64,1},\n",
        "    zgrid::Array{Float64,1},\n",
        "    P::Array{Float64,2},\n",
        "    na::Int64,\n",
        "    nK::Int64,\n",
        "    ne::Int64,\n",
        "    nz::Int64, Coef::Array{Float64,2},U,Neville)\n",
        "\n",
        "    Vnew = copy(V)\n",
        "    gg = zeros(na,nK,nz,ne)\n",
        "\n",
        "### Where to assign Interpolation Value\n",
        "    V_GE = zeros(na);\n",
        "    V_GU = zeros(na);\n",
        "    V_BE = zeros(na);\n",
        "    V_BU = zeros(na);\n",
        "###\n",
        "\n",
        "    for (Kidx, Kval) in enumerate(Kgrid)\n",
        "\n",
        "        r_g = α*zg*Kval^(α-1)*(Lgrid[1])^(1-α) - δ\n",
        "        w_g = (1-α) * zg * Kval^α * (Lgrid[1])^(-α)\n",
        "            \n",
        "        r_b = α*zb*Kval^(α-1)*(Lgrid[2])^(1-α) - δ\n",
        "        w_b = (1-α) * zb * Kval^α * (Lgrid[2])^(-α)\n",
        "\n",
        "        tau_g = mu * ug / Lgrid[1]\n",
        "        tau_b = mu * ub / Lgrid[2]\n",
        "\n",
        "        K_Prime_g = ( Coef[1,1] + Coef[1,2]*log(Kval) ) |> exp\n",
        "        K_Prime_b = ( Coef[2,1] + Coef[2,2]*log(Kval) ) |> exp\n",
        "        # 여기 파트에서 \n",
        "              \n",
        "        K_Prime_g = max(K_Prime_g, Kgrid[1])\n",
        "        K_Prime_b = max(K_Prime_b, Kgrid[1])\n",
        "        K_Prime_g = min(K_Prime_g, Kgrid[end])\n",
        "        K_Prime_b = min(K_Prime_b, Kgrid[end])\n",
        "        # Use Neville Interpolation\n",
        "\n",
        "        V_BU = map( x ->  Neville(Kgrid, V[x,:,1,1], K_Prime_b , nK), 1:na)\n",
        "        V_BE = map( x ->  Neville(Kgrid, V[x,:,1,2], K_Prime_b , nK), 1:na)\n",
        "        V_GU = map( x ->  Neville(Kgrid, V[x,:,2,1], K_Prime_g , nK), 1:na)\n",
        "        V_GE = map( x ->  Neville(Kgrid, V[x,:,2,2], K_Prime_g , nK), 1:na)\n",
        "\n",
        "        # na, nK, nz, ne\n",
        "        # Use Cubic Spline\n",
        "\n",
        "        V_Next_GE = Spline1D( agrid, V_GE ,k = 3) \n",
        "        V_Next_GU = Spline1D( agrid, V_GU ,k = 3) \n",
        "        V_Next_BE = Spline1D( agrid, V_BE ,k = 3) \n",
        "        V_Next_BU = Spline1D( agrid, V_BU ,k = 3) \n",
        "    \n",
        "         \n",
        "        for a_idx in eachindex(agrid)\n",
        "\n",
        "            ## Bad && Unemployed\n",
        "\n",
        "            obj_BU(a_prime) = -(  U( mu * w_b + (1 + r_b) * agrid[a_idx] - a_prime + eps() ) + \n",
        "                β* ( P[4,1] * V_Next_GE(a_prime) + P[4,2] * V_Next_GU(a_prime) +\n",
        "                P[4,3] * V_Next_BE(a_prime) + P[4,4] * V_Next_BU(a_prime))  )\n",
        "            ubd_BU = min.( ( 1 + r_b )*agrid[a_idx], agrid[end] )\n",
        "            res_BU = optimize(obj_BU, agrid[1], ubd_BU)       \n",
        "            gg[a_idx,Kidx,1,1] = res_BU.minimizer\n",
        "            Vnew[a_idx,Kidx,1,1] = (-1) * res_BU.minimum     \n",
        "\n",
        "            ## Bad && Employed\n",
        "\n",
        "            obj_BE(a_prime) = -(  U( w_b * L_bar*(1-tau_b) + (1 + r_b) * agrid[a_idx] - a_prime + eps() ) + \n",
        "                β * ( P[3,1] * V_Next_GE(a_prime) + P[3,2] * V_Next_GU(a_prime) +\n",
        "                P[3,3] * V_Next_BE(a_prime) + P[3,4] * V_Next_BU(a_prime))    )\n",
        "            ubd_BE = min.( w_b * L_bar + (1 + r_b)*agrid[a_idx], agrid[end] )\n",
        "            res_BE = optimize(obj_BE, agrid[1], ubd_BE)       \n",
        "            gg[a_idx,Kidx,1,2] = res_BE.minimizer\n",
        "            Vnew[a_idx,Kidx,1,2] = (-1) * res_BE.minimum  \n",
        "\n",
        "\n",
        "            ## Good && Unemployed\n",
        "\n",
        "            obj_GU(a_prime) = -(  U( mu * w_g + (1 + r_g) * agrid[a_idx] - a_prime + eps() ) + \n",
        "                β* ( P[2,1] * V_Next_GE(a_prime) + P[2,2] * V_Next_GU(a_prime) +\n",
        "                P[2,3] * V_Next_BE(a_prime) + P[2,4] * V_Next_BU(a_prime))  )\n",
        "            ubd_GU = min.( (1 + r_g)*agrid[a_idx], agrid[end] )\n",
        "            res_GU = optimize(obj_GU, agrid[1], ubd_GU)       \n",
        "            gg[a_idx,Kidx,2,1] = res_GU.minimizer\n",
        "            Vnew[a_idx,Kidx,2,1] = (-1) * res_GU.minimum      \n",
        "\n",
        "\n",
        "            ## Good && Employed\n",
        "            obj_GE(a_prime) = -(  U( w_g*L_bar*(1-tau_g) + (1 + r_g) * agrid[a_idx] - a_prime + eps() ) + \n",
        "                β* ( P[1,1] * V_Next_GE(a_prime) + P[1,2] * V_Next_GU(a_prime) +\n",
        "                P[1,3] * V_Next_BE(a_prime) + P[1,4] * V_Next_BU(a_prime))   )\n",
        "            ubd_GE = min.( w_g * L_bar + (1 + r_g)*agrid[a_idx], agrid[end] )\n",
        "            res_GE = optimize(obj_GE, agrid[1], ubd_GE)       \n",
        "            gg[a_idx,Kidx,2,2] = res_GE.minimizer\n",
        "            Vnew[a_idx,Kidx,2,2] = (-1) * res_GE.minimum\n",
        "        end\n",
        "    end\n",
        "\n",
        "    return Vnew, gg\n",
        "end"
      ],
      "execution_count": 82,
      "outputs": [
        {
          "output_type": "execute_result",
          "data": {
            "text/plain": [
              "TV (generic function with 1 method)"
            ]
          },
          "metadata": {
            "tags": []
          },
          "execution_count": 82
        }
      ]
    },
    {
      "cell_type": "code",
      "metadata": {
        "colab": {
          "base_uri": "https://localhost:8080/"
        },
        "id": "MKpOEJTCBJl4",
        "outputId": "8a5dd2c3-e05b-4e67-9309-63f4b1ce8a8e"
      },
      "source": [
        "function TV_Schumaker( V::Array{Float64,4},\n",
        "    Kgrid::Array{Float64,1},\n",
        "    agrid::Array{Float64,1},\n",
        "    zgrid::Array{Float64,1},\n",
        "    P::Array{Float64,2},\n",
        "    na::Int64,\n",
        "    nK::Int64,\n",
        "    ne::Int64,\n",
        "    nz::Int64, Coef::Array{Float64,2},U,Neville)\n",
        "\n",
        "    Vnew = copy(V);\n",
        "    gg = zeros(na,nK,nz,ne)\n",
        "\n",
        "### Where to assign Interpolation Value\n",
        "    V_GE = zeros(na)\n",
        "    V_GU = zeros(na)\n",
        "    V_BE = zeros(na)\n",
        "    V_BU = zeros(na)\n",
        "###\n",
        "\n",
        "    for (Kidx, Kval) in enumerate(Kgrid)\n",
        "\n",
        "        r_g = α*zg*Kval^(α-1)*(Lgrid[1])^(1-α) - δ\n",
        "        w_g = (1-α) * zg * Kval^α * (Lgrid[1])^(-α)\n",
        "            \n",
        "        r_b = α*zb*Kval^(α-1)*(Lgrid[2])^(1-α) - δ\n",
        "        w_b = (1-α) * zb * Kval^α * (Lgrid[2])^(-α)\n",
        "\n",
        "        tau_g = mu * ug / Lgrid[1]\n",
        "        tau_b = mu * ub / Lgrid[2]\n",
        "\n",
        "        K_Prime_g = ( Coef[1,1] + Coef[1,2]*log(Kval) ) |> exp\n",
        "        K_Prime_b = ( Coef[2,1] + Coef[2,2]*log(Kval) ) |> exp\n",
        "        # 여기 파트에서 \n",
        "              \n",
        "        K_Prime_g = max(K_Prime_g, Kgrid[1])\n",
        "        K_Prime_b = max(K_Prime_b, Kgrid[1])\n",
        "        K_Prime_g = min(K_Prime_g, Kgrid[end])\n",
        "        K_Prime_b = min(K_Prime_b, Kgrid[end])\n",
        "\n",
        "\n",
        "        # Use Neville Interpolation\n",
        "        \n",
        "        V_BU = map( x ->  Neville(Kgrid, V[x,:,1,1], K_Prime_b , nK), 1:na)\n",
        "        V_BE = map( x ->  Neville(Kgrid, V[x,:,1,2], K_Prime_b , nK), 1:na)\n",
        "        V_GU = map( x ->  Neville(Kgrid, V[x,:,2,1], K_Prime_g , nK), 1:na)\n",
        "        V_GE = map( x ->  Neville(Kgrid, V[x,:,2,2], K_Prime_g , nK), 1:na)\n",
        "\n",
        "        # Use Cubic Spline\n",
        "\n",
        "        V_Next_GE = SchumakerSpline.Schumaker( agrid, V_GE ) \n",
        "        V_Next_GU = SchumakerSpline.Schumaker( agrid, V_GU ) \n",
        "        V_Next_BE = SchumakerSpline.Schumaker( agrid, V_BE ) \n",
        "        V_Next_BU = SchumakerSpline.Schumaker( agrid, V_BU )\n",
        "    \n",
        "         \n",
        "        for a_idx in eachindex(agrid)\n",
        "\n",
        "            ## Bad && Unemployed\n",
        "\n",
        "            obj_BU(a_prime) = -(  U( mu * w_b + (1 + r_b) * agrid[a_idx] - a_prime + eps() ) + \n",
        "                β* ( P[4,1] * V_Next_GE(a_prime) + P[4,2] * V_Next_GU(a_prime) +\n",
        "                P[4,3] * V_Next_BE(a_prime) + P[4,4] * V_Next_BU(a_prime))  )\n",
        "            ubd_BU = min.( ( 1 + r_b )*agrid[a_idx], agrid[end] )\n",
        "            res_BU = optimize(obj_BU, agrid[1], ubd_BU)       \n",
        "            gg[a_idx,Kidx,1,1] = res_BU.minimizer\n",
        "            Vnew[a_idx,Kidx,1,1] = (-1) * res_BU.minimum     \n",
        "\n",
        "            ## Bad && Employed\n",
        "\n",
        "            obj_BE(a_prime) = -(  U( w_b * L_bar*(1-tau_b) + (1 + r_b) * agrid[a_idx] - a_prime + eps() ) + \n",
        "                β * ( P[3,1] * V_Next_GE(a_prime) + P[3,2] * V_Next_GU(a_prime) +\n",
        "                P[3,3] * V_Next_BE(a_prime) + P[3,4] * V_Next_BU(a_prime))    )\n",
        "            ubd_BE = min.( w_b * L_bar + (1 + r_b)*agrid[a_idx], agrid[end] )\n",
        "            res_BE = optimize(obj_BE, agrid[1], ubd_BE)       \n",
        "            gg[a_idx,Kidx,1,2] = res_BE.minimizer\n",
        "            Vnew[a_idx,Kidx,1,2] = (-1) * res_BE.minimum  \n",
        "\n",
        "\n",
        "            ## Good && Unemployed\n",
        "\n",
        "            obj_GU(a_prime) = -(  U( mu * w_g + (1 + r_g) * agrid[a_idx] - a_prime + eps() ) + \n",
        "                β* ( P[2,1] * V_Next_GE(a_prime) + P[2,2] * V_Next_GU(a_prime) +\n",
        "                P[2,3] * V_Next_BE(a_prime) + P[2,4] * V_Next_BU(a_prime))  )\n",
        "            ubd_GU = min.( (1 + r_g)*agrid[a_idx], agrid[end] )\n",
        "            res_GU = optimize(obj_GU, agrid[1], ubd_GU)       \n",
        "            gg[a_idx,Kidx,2,1] = res_GU.minimizer\n",
        "            Vnew[a_idx,Kidx,2,1] = (-1) * res_GU.minimum      \n",
        "\n",
        "\n",
        "            ## Good && Employed\n",
        "            obj_GE(a_prime) = -(  U( w_g*L_bar*(1-tau_g) + (1 + r_g) * agrid[a_idx] - a_prime + eps() ) + \n",
        "                β* ( P[1,1] * V_Next_GE(a_prime) + P[1,2] * V_Next_GU(a_prime) +\n",
        "                P[1,3] * V_Next_BE(a_prime) + P[1,4] * V_Next_BU(a_prime))   )\n",
        "            ubd_GE = min.( w_g * L_bar + (1 + r_g)*agrid[a_idx], agrid[end] )\n",
        "            res_GE = optimize(obj_GE, agrid[1], ubd_GE)       \n",
        "            gg[a_idx,Kidx,2,2] = res_GE.minimizer\n",
        "            Vnew[a_idx,Kidx,2,2] = (-1) * res_GE.minimum\n",
        "            \n",
        "        end\n",
        "    end\n",
        "\n",
        "    return Vnew, gg\n",
        "end"
      ],
      "execution_count": 83,
      "outputs": [
        {
          "output_type": "execute_result",
          "data": {
            "text/plain": [
              "TV_Schumaker (generic function with 1 method)"
            ]
          },
          "metadata": {
            "tags": []
          },
          "execution_count": 83
        }
      ]
    },
    {
      "cell_type": "code",
      "metadata": {
        "colab": {
          "base_uri": "https://localhost:8080/"
        },
        "id": "Ns9ujMmHfwDv",
        "outputId": "b0171c30-e686-41a5-a231-a8e7eddb6427"
      },
      "source": [
        "function TV_Howard( V::Array{Float64,4},\n",
        "    gg::Array{Float64,4},\n",
        "    Kgrid::Array{Float64,1},\n",
        "    agrid::Array{Float64,1},\n",
        "    zgrid::Array{Float64,1},\n",
        "    P::Array{Float64,2},\n",
        "    na::Int64,\n",
        "    nK::Int64,\n",
        "    ne::Int64,\n",
        "    nz::Int64, \n",
        "    Coef::Array{Float64,2},\n",
        "    U,Neville)\n",
        "\n",
        "    Vnew = copy(V)\n",
        "    ### Where to assign Interpolation Value\n",
        "    V_GE = zeros(na)\n",
        "    V_GU = zeros(na)\n",
        "    V_BE = zeros(na)\n",
        "    V_BU = zeros(na)\n",
        "    ####################################\n",
        "\n",
        "    for (Kidx, Kval) in enumerate(Kgrid)\n",
        "            \n",
        "        r_g = α*zg*Kval^(α-1)*(Lgrid[1])^(1-α) - δ\n",
        "        w_g = (1-α) * zg * Kval^α * (Lgrid[1])^(-α)\n",
        "            \n",
        "        r_b = α*zb*Kval^(α-1)*(Lgrid[2])^(1-α) - δ\n",
        "        w_b = (1-α) * zb * Kval^α * (Lgrid[2])^(-α)\n",
        "\n",
        "        tau_g = mu * ug / Lgrid[1]\n",
        "        tau_b = mu * ub / Lgrid[2]\n",
        "            \n",
        "        K_Prime_g = ( Coef[1,1] + Coef[1,2]*log(Kval) ) |> exp\n",
        "        K_Prime_b = ( Coef[2,1] + Coef[2,2]*log(Kval) ) |> exp\n",
        "        # 여기 파트에서 \n",
        "              \n",
        "        K_Prime_g = max(K_Prime_g, Kgrid[1])\n",
        "        K_Prime_b = max(K_Prime_b, Kgrid[1])\n",
        "        K_Prime_g = min(K_Prime_g, Kgrid[end])\n",
        "        K_Prime_b = min(K_Prime_b, Kgrid[end])\n",
        "        \n",
        "        # Use Neville Interpolation\n",
        "\n",
        "        V_BU = map( x ->  Neville(Kgrid, V[x,:,1,1], K_Prime_b , nK), 1:na)\n",
        "        V_BE = map( x ->  Neville(Kgrid, V[x,:,1,2], K_Prime_b , nK), 1:na)\n",
        "        V_GU = map( x ->  Neville(Kgrid, V[x,:,2,1], K_Prime_g , nK), 1:na)\n",
        "        V_GE = map( x ->  Neville(Kgrid, V[x,:,2,2], K_Prime_g , nK), 1:na)\n",
        "\n",
        "        # Use Cubic Spline\n",
        "\n",
        "        V_Next_GE = Spline1D( agrid, V_GE ,k = 3) \n",
        "        V_Next_GU = Spline1D( agrid, V_GU ,k = 3) \n",
        "        V_Next_BE = Spline1D( agrid, V_BE ,k = 3) \n",
        "        V_Next_BU = Spline1D( agrid, V_BU ,k = 3)  \n",
        "    \n",
        "        # Objective Functions \n",
        "    \n",
        "        # zidx = 1 이면 오늘 Good / = 2 이면 오늘 Bad\n",
        "        \n",
        "        ## Bad && Unemployed\n",
        "\n",
        "        Vnew[:,Kidx,1,1] = map( x ->  (  U( mu * w_b +  (1 + r_b ) * agrid[x] - gg[x,Kidx,1,1] + eps() ) + \n",
        "            β * ( P[4,1] * V_Next_GE(gg[x,Kidx,1,1]) + P[4,2] * V_Next_GU(gg[x,Kidx,1,1]) +\n",
        "            P[4,3] * V_Next_BE(gg[x,Kidx,1,1]) + P[4,4] * V_Next_BU(gg[x,Kidx,1,1]) ) ) , 1:na) \n",
        "\n",
        "        ## Bad && Employed\n",
        "\n",
        "        Vnew[:,Kidx,1,2] = map( x ->  (  U( w_b * L_bar * (1-tau_b) + (1 + r_b) * agrid[x] - gg[x,Kidx,1,2] + eps() ) + \n",
        "            β * ( P[3,1] * V_Next_GE( gg[x,Kidx,1,2] ) + P[3,2] * V_Next_GU( gg[x,Kidx,1,2] ) +\n",
        "            P[3,3] * V_Next_BE( gg[x,Kidx,1,2] ) + P[3,4] * V_Next_BU( gg[x,Kidx,1,2] ) ) ) , 1:na  ) \n",
        "\n",
        "\n",
        "        ## Good && Unemployed    \n",
        "        Vnew[:,Kidx,2,1] = map( x -> (  U( mu * w_g + (1 + r_g) * agrid[x] - gg[x,Kidx,2,1] + eps() ) + \n",
        "            β * ( P[2,1] * V_Next_GE(gg[x,Kidx,2,1]) + P[2,2] * V_Next_GU(gg[x,Kidx,2,1]) +\n",
        "            P[2,3] * V_Next_BE(gg[x,Kidx,2,1]) + P[2,4] * V_Next_BU(gg[x,Kidx,2,1])) )  , 1:na )    \n",
        "\n",
        "\n",
        "        ## Good && Employed\n",
        "            \n",
        "        Vnew[:,Kidx,2,2] = map( x ->  (  U( w_g*L_bar * (1-tau_g) + (1 + r_g) * agrid[x] - gg[x,Kidx,2,2] + eps() ) + \n",
        "            β * ( P[1,1] * V_Next_GE(gg[x,Kidx,2,2]) + P[1,2] * V_Next_GU(gg[x,Kidx,2,2]) +\n",
        "            P[1,3] * V_Next_BE( gg[x,Kidx,2,2] ) + P[1,4] * V_Next_BU(gg[x,Kidx,2,2])) )  , 1:na )\n",
        "          \n",
        "    end\n",
        "\n",
        "    return Vnew\n",
        "end"
      ],
      "execution_count": 84,
      "outputs": [
        {
          "output_type": "execute_result",
          "data": {
            "text/plain": [
              "TV_Howard (generic function with 1 method)"
            ]
          },
          "metadata": {
            "tags": []
          },
          "execution_count": 84
        }
      ]
    },
    {
      "cell_type": "code",
      "metadata": {
        "colab": {
          "base_uri": "https://localhost:8080/"
        },
        "id": "4jo9xULIBT5-",
        "outputId": "22ef7afa-419f-4dcf-f4f1-1a21eea194ee"
      },
      "source": [
        "function TV_Howard_Schumaker( V::Array{Float64,4},\n",
        "    gg::Array{Float64,4},\n",
        "    Kgrid::Array{Float64,1},\n",
        "    agrid::Array{Float64,1},\n",
        "    zgrid::Array{Float64,1},\n",
        "    P::Array{Float64,2},\n",
        "    na::Int64,\n",
        "    nK::Int64,\n",
        "    ne::Int64,\n",
        "    nz::Int64, \n",
        "    Coef::Array{Float64,2},\n",
        "    U,Neville)\n",
        "\n",
        "    Vnew = copy(V)\n",
        "    ### Where to assign Interpolation Value\n",
        "    V_GE = zeros(na)\n",
        "    V_GU = zeros(na)\n",
        "    V_BE = zeros(na)\n",
        "    V_BU = zeros(na)\n",
        "    ####################################\n",
        "\n",
        "    for (Kidx, Kval) in enumerate(Kgrid)\n",
        "            \n",
        "        r_g = α*zg*Kval^(α-1)*(Lgrid[1])^(1-α) - δ\n",
        "        w_g = (1-α) * zg * Kval^α * (Lgrid[1])^(-α)\n",
        "            \n",
        "        r_b = α*zb*Kval^(α-1)*(Lgrid[2])^(1-α) - δ\n",
        "        w_b = (1-α) * zb * Kval^α * (Lgrid[2])^(-α)\n",
        "\n",
        "        tau_g = mu * ug / Lgrid[1]\n",
        "        tau_b = mu * ub / Lgrid[2]\n",
        "            \n",
        "        K_Prime_g = ( Coef[1,1] + Coef[1,2]*log(Kval) ) |> exp\n",
        "        K_Prime_b = ( Coef[2,1] + Coef[2,2]*log(Kval) ) |> exp\n",
        "        # 여기 파트에서 \n",
        "              \n",
        "        K_Prime_g = max(K_Prime_g, Kgrid[1])\n",
        "        K_Prime_b = max(K_Prime_b, Kgrid[1])\n",
        "        K_Prime_g = min(K_Prime_g, Kgrid[end])\n",
        "        K_Prime_b = min(K_Prime_b, Kgrid[end])\n",
        "        \n",
        "        # Use Neville Interpolation\n",
        "\n",
        "        V_BU = map( x ->  Neville(Kgrid, V[x,:,1,1], K_Prime_b , nK), 1:na)\n",
        "        V_BE = map( x ->  Neville(Kgrid, V[x,:,1,2], K_Prime_b , nK), 1:na)\n",
        "        V_GU = map( x ->  Neville(Kgrid, V[x,:,2,1], K_Prime_g , nK), 1:na)\n",
        "        V_GE = map( x ->  Neville(Kgrid, V[x,:,2,2], K_Prime_g , nK), 1:na)\n",
        "\n",
        "        # Use Cubic Spline\n",
        "\n",
        "        V_Next_GE = SchumakerSpline.Schumaker( agrid, V_GE ) \n",
        "        V_Next_GU = SchumakerSpline.Schumaker( agrid, V_GU ) \n",
        "        V_Next_BE = SchumakerSpline.Schumaker( agrid, V_BE ) \n",
        "        V_Next_BU = SchumakerSpline.Schumaker( agrid, V_BU )  \n",
        "    \n",
        "        # Objective Functions \n",
        "    \n",
        "   \n",
        "        Vnew[:,Kidx,1,1] = map( x ->  (  U( mu * w_b +  (1 + r_b ) * agrid[x] - gg[x,Kidx,1,1] + eps() ) + \n",
        "            β * ( P[4,1] * V_Next_GE(gg[x,Kidx,1,1]) + P[4,2] * V_Next_GU(gg[x,Kidx,1,1]) +\n",
        "            P[4,3] * V_Next_BE(gg[x,Kidx,1,1]) + P[4,4] * V_Next_BU(gg[x,Kidx,1,1]) ) ) , 1:na) \n",
        "\n",
        "        ## Bad && Employed\n",
        "\n",
        "        Vnew[:,Kidx,1,2] = map( x ->  (  U( w_b * L_bar * (1-tau_b) + (1 + r_b) * agrid[x] - gg[x,Kidx,1,2] + eps() ) + \n",
        "            β * ( P[3,1] * V_Next_GE( gg[x,Kidx,1,2] ) + P[3,2] * V_Next_GU( gg[x,Kidx,1,2] ) +\n",
        "            P[3,3] * V_Next_BE( gg[x,Kidx,1,2] ) + P[3,4] * V_Next_BU( gg[x,Kidx,1,2] ) ) ) , 1:na  ) \n",
        "\n",
        "\n",
        "        ## Good && Unemployed    \n",
        "        Vnew[:,Kidx,2,1] = map( x -> (  U( mu * w_g + (1 + r_g) * agrid[x] - gg[x,Kidx,2,1] + eps() ) + \n",
        "            β * ( P[2,1] * V_Next_GE(gg[x,Kidx,2,1]) + P[2,2] * V_Next_GU(gg[x,Kidx,2,1]) +\n",
        "            P[2,3] * V_Next_BE(gg[x,Kidx,2,1]) + P[2,4] * V_Next_BU(gg[x,Kidx,2,1])) )  , 1:na )    \n",
        "\n",
        "\n",
        "        ## Good && Employed\n",
        "            \n",
        "        Vnew[:,Kidx,2,2] = map( x ->  (  U( w_g*L_bar * (1-tau_g) + (1 + r_g) * agrid[x] - gg[x,Kidx,2,2] + eps() ) + \n",
        "            β * ( P[1,1] * V_Next_GE(gg[x,Kidx,2,2]) + P[1,2] * V_Next_GU(gg[x,Kidx,2,2]) +\n",
        "            P[1,3] * V_Next_BE( gg[x,Kidx,2,2] ) + P[1,4] * V_Next_BU(gg[x,Kidx,2,2])) )  , 1:na )  \n",
        "          \n",
        "    end\n",
        "\n",
        "    return Vnew\n",
        "end"
      ],
      "execution_count": 85,
      "outputs": [
        {
          "output_type": "execute_result",
          "data": {
            "text/plain": [
              "TV_Howard_Schumaker (generic function with 1 method)"
            ]
          },
          "metadata": {
            "tags": []
          },
          "execution_count": 85
        }
      ]
    },
    {
      "cell_type": "code",
      "metadata": {
        "colab": {
          "base_uri": "https://localhost:8080/"
        },
        "id": "cGfBHYFitRaz",
        "outputId": "6442b796-d4cc-41ad-f63f-a54e3fafe4d0"
      },
      "source": [
        "function VFI( Kgrid::Array{Float64,1},\n",
        "    zgrid::Array{Float64,1},\n",
        "    agrid::Array{Float64,1},\n",
        "    P::Array{Float64,2},\n",
        "    na::Int64,\n",
        "    nK::Int64,\n",
        "    ne::Int64,\n",
        "    nz::Int64,\n",
        "    U,Neville,\n",
        "    Coef::Array{Float64,2},\n",
        "    TV, TV_Howard ; Howard::Int64 = 1) \n",
        "    V_old = zeros(na,nK,nz,ne) # 순서는 철저히 논문의 순서를 따름\n",
        "    GG_old = zeros(na,nK,nz,ne)\n",
        "    GG_new = zeros(na,nK,nz,ne)\n",
        "    err_V = one(Float64)\n",
        "    err_G = one(Float64)\n",
        "    iter = zero(Int64)\n",
        "    V_new = copy(V_old)\n",
        "    while  err_V > 1e-8 \n",
        "        if iter % Howard == 0  \n",
        "            V_new, GG_new = TV( V_old,Kgrid,agrid,zgrid,P,na,nK,ne,nz,Coef,U,Neville)\n",
        "            err_G = (GG_new .- GG_old) .|> abs |> maximum\n",
        "            copy!(GG_old,GG_new) \n",
        "        else \n",
        "            V_new = TV_Howard( V_old,GG_old,Kgrid,agrid,zgrid,P,na,nK,ne,nz,Coef,U,Neville)\n",
        "        end\n",
        "        err_V = (V_new .- V_old) .|> abs |> maximum\n",
        "        copy!(V_old,V_new)\n",
        "        iter += 1\n",
        "\n",
        "        #if iter >=  Howard * 30 && err_G < 1e-5 \n",
        "        #    break\n",
        "        # end\n",
        "\n",
        "        if iter > 3_000\n",
        "            println(\"Something is Weird\")\n",
        "            break\n",
        "        end\n",
        "    end\n",
        "\n",
        "    \n",
        "return V_new , GG_new, iter\n",
        "end"
      ],
      "execution_count": 86,
      "outputs": [
        {
          "output_type": "execute_result",
          "data": {
            "text/plain": [
              "VFI (generic function with 1 method)"
            ]
          },
          "metadata": {
            "tags": []
          },
          "execution_count": 86
        }
      ]
    },
    {
      "cell_type": "code",
      "metadata": {
        "colab": {
          "base_uri": "https://localhost:8080/"
        },
        "id": "B6t_I5g8-NE5",
        "outputId": "6c43bb58-9ae9-4792-a3e0-8fc47da1d131"
      },
      "source": [
        "function VFI_Schumaker( Kgrid::Array{Float64,1},\n",
        "    zgrid::Array{Float64,1},\n",
        "    agrid::Array{Float64,1},\n",
        "    P::Array{Float64,2},\n",
        "    na::Int64,\n",
        "    nK::Int64,\n",
        "    ne::Int64,\n",
        "    nz::Int64,\n",
        "    U,Neville,\n",
        "    Coef::Array{Float64,2},\n",
        "    TV_Schumaker, TV_Howard_Schumaker ; Howard::Int64 = 1) \n",
        "    V_old = zeros(na,nK,nz,ne) # 순서는 철저히 논문의 순서를 따름\n",
        "    GG_old = zeros(na,nK,nz,ne)\n",
        "    GG_new = zeros(na,nK,nz,ne)\n",
        "    err_V = one(Float64)\n",
        "    err_G = one(Float64)\n",
        "    iter = zero(Int64)\n",
        "    V_new = copy(V_old)\n",
        "    while  err_V > 1e-8  \n",
        "        if iter % Howard == 0  \n",
        "            V_new, GG_new = TV_Schumaker( V_old,Kgrid,agrid,zgrid,P,na,nK,ne,nz,Coef,U,Neville)\n",
        "            err_G = (GG_new .- GG_old) .|> abs |> maximum\n",
        "            copy!(GG_old,GG_new) \n",
        "        else \n",
        "            V_new = TV_Howard_Schumaker( V_old,GG_old,Kgrid,agrid,zgrid,P,na,nK,ne,nz,Coef,U,Neville)\n",
        "        end\n",
        "        err_V = (V_new .- V_old) .|> abs |> maximum\n",
        "        copy!(V_old,V_new)\n",
        "        iter += 1\n",
        "\n",
        "        if iter >=  Howard * 30 && err_G < 1e-5 \n",
        "            break\n",
        "        end\n",
        "        if iter > 3_000\n",
        "            println(\"Something is Weird\")\n",
        "            break\n",
        "        end\n",
        "    end\n",
        "\n",
        "    \n",
        "return V_new , GG_new, iter\n",
        "end"
      ],
      "execution_count": 87,
      "outputs": [
        {
          "output_type": "execute_result",
          "data": {
            "text/plain": [
              "VFI_Schumaker (generic function with 1 method)"
            ]
          },
          "metadata": {
            "tags": []
          },
          "execution_count": 87
        }
      ]
    },
    {
      "cell_type": "code",
      "metadata": {
        "colab": {
          "base_uri": "https://localhost:8080/"
        },
        "id": "yZOF1bz6vpT4",
        "outputId": "385f3732-9c06-408a-e4d8-b1a62396d341"
      },
      "source": [
        "function VFI_Test( Kgrid::Array{Float64,1},\n",
        "    zgrid::Array{Float64,1},\n",
        "    agrid::Array{Float64,1},\n",
        "    P::Array{Float64,2},\n",
        "    na::Int64,\n",
        "    nK::Int64,\n",
        "    ne::Int64,\n",
        "    nz::Int64,\n",
        "    U,Neville,\n",
        "    Coef::Array{Float64,2},\n",
        "    TV, TV_Howard ; Howard::Int64 = 1) \n",
        "    V_old = zeros(na,ne,nK,nz) # 순서는 철저히 논문의 순서를 따름\n",
        "    GG_old = zeros(na,ne,nK,nz)\n",
        "    GG_new = zeros(na,ne,nK,nz)\n",
        "    err_V = one(Float64)\n",
        "    err_G = one(Float64)\n",
        "    V_new = copy(V_old)\n",
        "    for iter in 0:3000\n",
        "\n",
        "        if iter > 10\n",
        "            if iter % Howard == 0  \n",
        "                V_new, GG_new = TV( V_old,Kgrid,agrid,zgrid,P,na,nK,ne,nz,Coef,U,Neville)\n",
        "                err_G = (GG_new .- GG_old) .|> abs |> maximum\n",
        "                err_V = (V_new .- V_old) .|> abs |> maximum\n",
        "                copy!(GG_old,GG_new) \n",
        "                copy!(V_old,V_new)\n",
        "                else \n",
        "                    V_new = TV_Howard( V_new,GG_new,Kgrid,agrid,zgrid,P,na,nK,ne,nz,Coef,U,Neville)\n",
        "                    err_V = (V_new .- V_old) .|> abs |> maximum\n",
        "                copy!(V_old,V_new)\n",
        "                \n",
        "            end\n",
        "            \n",
        "        else \n",
        "            V_new, GG_new = TV( V_old,Kgrid,agrid,zgrid,P,na,nK,ne,nz,Coef,U,Neville)\n",
        "            err_V = (V_new .- V_old) .|> abs |> maximum\n",
        "            err_G = (GG_new .- GG_old) .|> abs |> maximum\n",
        "            copy!(GG_old,GG_new)\n",
        "            copy!(V_old,V_new)\n",
        "            \n",
        "        end\n",
        "        if iter % 100 == 0 \n",
        "            println(\"Iteration is $iter\")\n",
        "            println(\"Value Function Error is $err_V\")\n",
        "            println(\"Policy Function Error is $err_G\")\n",
        "        end\n",
        "        if err_V < 1e-6\n",
        "            break\n",
        "        end\n",
        "    end\n",
        "\n",
        "    \n",
        "return V_new , GG_new\n",
        "end"
      ],
      "execution_count": 88,
      "outputs": [
        {
          "output_type": "execute_result",
          "data": {
            "text/plain": [
              "VFI_Test (generic function with 1 method)"
            ]
          },
          "metadata": {
            "tags": []
          },
          "execution_count": 88
        }
      ]
    },
    {
      "cell_type": "markdown",
      "metadata": {
        "id": "_n9VGPoSQ4yb"
      },
      "source": [
        ""
      ]
    },
    {
      "cell_type": "code",
      "metadata": {
        "colab": {
          "base_uri": "https://localhost:8080/"
        },
        "id": "u5xMtNSCWDzj",
        "outputId": "671c39c5-99f2-4936-84ae-9c7d8e9d5b61"
      },
      "source": [
        "function VFI_Test_Schumaker( Kgrid::Array{Float64,1},\n",
        "    zgrid::Array{Float64,1},\n",
        "    agrid::Array{Float64,1},\n",
        "    P::Array{Float64,2},\n",
        "    na::Int64,\n",
        "    nK::Int64,\n",
        "    ne::Int64,\n",
        "    nz::Int64,\n",
        "    U,Neville,\n",
        "    Coef::Array{Float64,2},\n",
        "    TV_Schumaker, \n",
        "    TV_Howard_Schumaker ; Howard::Int64 = 1) \n",
        "    V_old = zeros(na,ne,nK,nz) # 순서는 철저히 논문의 순서를 따름\n",
        "    GG_old = zeros(na,ne,nK,nz)\n",
        "    GG_new = zeros(na,ne,nK,nz)\n",
        "    err_V = one(Float64)\n",
        "    err_G = one(Float64)\n",
        "    V_new = copy(V_old)\n",
        "    for iter in 0:3000\n",
        "\n",
        "        if iter > 10\n",
        "            if iter % Howard == 0  \n",
        "                V_new, GG_new = TV_Schumaker( V_old,Kgrid,agrid,zgrid,P,na,nK,ne,nz,Coef,U,Neville)\n",
        "                err_G = (GG_new .- GG_old) .|> abs |> maximum\n",
        "                err_V = (V_new .- V_old) .|> abs |> maximum\n",
        "                copy!(GG_old,GG_new) \n",
        "                copy!(V_old,V_new)\n",
        "                else \n",
        "                    V_new = TV_Howard_Schumaker( V_new,GG_new,Kgrid,agrid,zgrid,P,na,nK,ne,nz,Coef,U,Neville)\n",
        "                    err_V = (V_new .- V_old) .|> abs |> maximum\n",
        "                copy!(V_old,V_new)\n",
        "                \n",
        "            end\n",
        "            \n",
        "        else \n",
        "            V_new, GG_new = TV_Schumaker( V_old,Kgrid,agrid,zgrid,P,na,nK,ne,nz,Coef,U,Neville)\n",
        "            err_V = (V_new .- V_old) .|> abs |> maximum\n",
        "            err_G = (GG_new .- GG_old) .|> abs |> maximum\n",
        "            copy!(GG_old,GG_new)\n",
        "            copy!(V_old,V_new)\n",
        "            \n",
        "        end\n",
        "        if iter % 100 == 0 \n",
        "            println(\"Iteration is $iter\")\n",
        "            println(\"Value Function Error is $err_V\")\n",
        "            println(\"Policy Function Error is $err_G\")\n",
        "        end\n",
        "        if err_V < 1e-6\n",
        "            break\n",
        "        end\n",
        "    end\n",
        "\n",
        "    \n",
        "return V_new , GG_new\n",
        "end"
      ],
      "execution_count": 89,
      "outputs": [
        {
          "output_type": "execute_result",
          "data": {
            "text/plain": [
              "VFI_Test_Schumaker (generic function with 1 method)"
            ]
          },
          "metadata": {
            "tags": []
          },
          "execution_count": 89
        }
      ]
    },
    {
      "cell_type": "code",
      "metadata": {
        "colab": {
          "base_uri": "https://localhost:8080/"
        },
        "id": "aii84PhiGhV7",
        "outputId": "f90c54f7-9650-467a-a4aa-f2cd8a298ba3"
      },
      "source": [
        "function OLS(Y,X ;add_constant = 0 , print = 0 )\n",
        "    # Input Y : Dependent Variable\n",
        "    # Input X : Covariates\n",
        "    # Input add_constant : 1 if we add one vector \n",
        "    # Output Estimator      : OLS Estimator \n",
        "    # Output SE             : Standard Error \n",
        "    # Output SE_robust      : Robust Standard Error \n",
        "    # Output sigma2         : Standard Error of Regression\n",
        "    # Output fitted         : Fitted Value by model \n",
        "\n",
        "    Y = reshape(Y,length(Y),1);\n",
        "    # Reshape data if X is one dimensional vector \n",
        "    if ndims(X) == 1\n",
        "        X = reshape(X,length(X),1);\n",
        "    end\n",
        "    \n",
        "nobs , nvar = size(X);\n",
        "    \n",
        "    if add_constant == 1\n",
        "        X = [ones(nobs,1) X];\n",
        "        nvar += 1;\n",
        "    end\n",
        "\n",
        "df = nobs - nvar;                # Degree of Freedom\n",
        "XX = X'*X;\n",
        "estimator = (XX)\\(X'*Y);\n",
        "fitted = X * estimator;\n",
        "resid = Y - fitted;\n",
        "SSR = sum(resid.^2);\n",
        "sigma2 = SSR / (nobs-nvar);\n",
        "inv_XX = inv(XX);\n",
        "cov_mat = sigma2*inv_XX ;\n",
        "SE = sqrt.(diag(cov_mat));\n",
        "\n",
        "t_stat = estimator ./ SE;\n",
        "\n",
        "Y_demean = Y .- mean(Y);\n",
        "R2 = 1-SSR/sum(Y_demean.^2);\n",
        "log_like = -nobs/2 * (1 + log(2*pi) + log(SSR/nobs) );\n",
        "DW = sum(diff(resid, dims = 1).^2) ./ SSR; # Durbin Watson \n",
        "    if print == 1\n",
        "    println(\" \")\n",
        "    println(\"Number of observations   \" , nobs  )\n",
        "    println(\"Number of regressors     \" ,nvar)\n",
        "    println(\"result\")\n",
        "        \n",
        "    println(\"R-square     :    \", R2)\n",
        "    println(\"Variance of s2:    \",sigma2)\n",
        "    println(\"Log likelihood:    \",log_like)\n",
        "    println(\"D-W statistics:    \",DW)\n",
        "    end \n",
        "    \n",
        "    return estimator\n",
        "end"
      ],
      "execution_count": 90,
      "outputs": [
        {
          "output_type": "execute_result",
          "data": {
            "text/plain": [
              "OLS (generic function with 1 method)"
            ]
          },
          "metadata": {
            "tags": []
          },
          "execution_count": 90
        }
      ]
    },
    {
      "cell_type": "code",
      "metadata": {
        "colab": {
          "base_uri": "https://localhost:8080/"
        },
        "id": "nm8zA4lvHVUC",
        "outputId": "5fa76e03-4e0b-48fa-a903-1d204ac937d2"
      },
      "source": [
        "update_weight = 0.1\n",
        "ERR = one(Float64)\n",
        "iter = 0"
      ],
      "execution_count": 91,
      "outputs": [
        {
          "output_type": "execute_result",
          "data": {
            "text/plain": [
              "0"
            ]
          },
          "metadata": {
            "tags": []
          },
          "execution_count": 91
        }
      ]
    },
    {
      "cell_type": "code",
      "metadata": {
        "id": "fnTka5nlpJp2"
      },
      "source": [
        "A_Ind = zeros(NH,T)\n",
        "A_Ind[:,1] .= kss;\n",
        "Kt = zeros(T);\n",
        "Lseq = zeros(T)\n",
        "for t = 1:T \n",
        "    if zseq[t] == 1\n",
        "        Lseq[t] = Lgrid[1]\n",
        "    else\n",
        "        Lseq[t] = Lgrid[2]\n",
        "    end\n",
        "end"
      ],
      "execution_count": 92,
      "outputs": []
    },
    {
      "cell_type": "code",
      "metadata": {
        "id": "lglCvcWt9SV7"
      },
      "source": [
        ""
      ],
      "execution_count": 93,
      "outputs": []
    },
    {
      "cell_type": "code",
      "metadata": {
        "id": "zZpQbBxhQdCm"
      },
      "source": [
        "Yt = zeros(T);"
      ],
      "execution_count": 94,
      "outputs": []
    },
    {
      "cell_type": "code",
      "metadata": {
        "colab": {
          "base_uri": "https://localhost:8080/"
        },
        "id": "67uCxAWhwxrA",
        "outputId": "05c8d80f-4f8b-4312-bc9a-701da7319f12"
      },
      "source": [
        "Kt[1] = mean(A_Ind[:,1])\n",
        "Yt[1] = Zt[1] * Kt[1]^α * Lseq[1]^(1-α)"
      ],
      "execution_count": 95,
      "outputs": [
        {
          "output_type": "execute_result",
          "data": {
            "text/plain": [
              "3.6670182234744244"
            ]
          },
          "metadata": {
            "tags": []
          },
          "execution_count": 95
        }
      ]
    },
    {
      "cell_type": "code",
      "metadata": {
        "colab": {
          "base_uri": "https://localhost:8080/"
        },
        "id": "0w1FUi3XU_2u",
        "outputId": "5789dc87-b675-4ba2-d8d4-258136f6d062"
      },
      "source": [
        "function bilin_A( a::Float64, K::Float64, e0::Int64, z0::Int64 ,gg)\n",
        "    \n",
        "    if e0 == 1 # Today Employed\n",
        "        if z0 == 1 # Today Good State\n",
        "            pol = gg[:,:,2,2]\n",
        "        else # Today is bad State\n",
        "            pol = gg[:,:,1,2]\n",
        "        end\n",
        "            \n",
        "    else # e0 == 0\n",
        "        if z0 == 1\n",
        "            pol = gg[:,:,2,1]\n",
        "        else\n",
        "            pol = gg[:,:,1,1]\n",
        "        end \n",
        "    end\n",
        "\n",
        "    a = max(a, amin)\n",
        "    a = min(a, amax)    \n",
        "    \n",
        "    K = max(K,Kmin)\n",
        "    K = min(K,Kmax)\n",
        "\n",
        "    m2 = searchsortedlast(agrid, a)\n",
        "    n2 = searchsortedlast(Kgrid, K)\n",
        "    \n",
        "    phi = zeros(4);\n",
        "    f = zeros(4);\n",
        "    d = zeros(4);\n",
        "    # bilinear interpolation */\n",
        "        \n",
        "    if m2 < na && n2 < nK;\n",
        "        d= [ agrid[m2+1] , agrid[m2] , Kgrid[n2+1], Kgrid[n2] ]       \n",
        "        z1=( a - d[2])/(d[1]-d[2]);\n",
        "        z2=( K -d[4])/(d[3]-d[4]);\n",
        "        phi[1]=(1-z1)*(1-z2);\n",
        "        phi[2]=z1*(1-z2);\n",
        "        phi[3]=z1*z2;\n",
        "        phi[4]=(1-z1)*z2;\n",
        "        f[1]=pol[m2,n2];\n",
        "        f[2]=pol[m2,n2+1];\n",
        "        f[3]=pol[m2+1,n2+1];\n",
        "        f[4]=pol[m2+1,n2];\n",
        "        return dot(phi,f) ;\n",
        "    elseif m2 == na && n2 == nK\n",
        "        return (pol[m2,n2]);\n",
        "    elseif m2 < na && n2 == nK  #linear interpolation */\n",
        "        m1 = ( -agrid[m2] + a)/(agrid[m2+1] - agrid[m2])\n",
        "        return ((1-m1)*pol[m2,nK]+m1*pol[m2+1,nK]);\n",
        "    elseif n2 < nK && m2 == na;  #linear interpolation */\n",
        "        n1 = (-Kgrid[n2] + K)/(Kgrid[n2+1] - Kgrid[n2]);\n",
        "        return ((1-n1)*pol[na,n2]+n1*pol[na,n2+1]);\n",
        "    end\n",
        "end"
      ],
      "execution_count": 96,
      "outputs": [
        {
          "output_type": "execute_result",
          "data": {
            "text/plain": [
              "bilin_A (generic function with 1 method)"
            ]
          },
          "metadata": {
            "tags": []
          },
          "execution_count": 96
        }
      ]
    },
    {
      "cell_type": "code",
      "metadata": {
        "id": "I6oxPP7hgq0e"
      },
      "source": [
        "XX = zeros(T - T0,3);\n",
        "GG = zeros(na,nK,nz,ne);\n",
        "VV = zeros(na,nK,nz,ne);"
      ],
      "execution_count": 97,
      "outputs": []
    },
    {
      "cell_type": "code",
      "metadata": {
        "colab": {
          "base_uri": "https://localhost:8080/"
        },
        "id": "FAdqB4M0XlNe",
        "outputId": "e6f5581c-6b3d-448d-9dca-9544596445fb"
      },
      "source": [
        "Coef =    [ 0.0 1.0 ; 0.0 1.0]"
      ],
      "execution_count": 100,
      "outputs": [
        {
          "output_type": "execute_result",
          "data": {
            "text/plain": [
              "2×2 Matrix{Float64}:\n",
              " 0.0  1.0\n",
              " 0.0  1.0"
            ]
          },
          "metadata": {
            "tags": []
          },
          "execution_count": 100
        }
      ]
    },
    {
      "cell_type": "code",
      "metadata": {
        "colab": {
          "base_uri": "https://localhost:8080/"
        },
        "id": "0nTW6MYUkV-C",
        "outputId": "c1fc2da8-5949-4bfb-ec3a-86c7175f53e1"
      },
      "source": [
        "updata_weight = 0.1"
      ],
      "execution_count": null,
      "outputs": [
        {
          "output_type": "execute_result",
          "data": {
            "text/plain": [
              "0.1"
            ]
          },
          "metadata": {
            "tags": []
          },
          "execution_count": 185
        }
      ]
    },
    {
      "cell_type": "code",
      "metadata": {
        "id": "SCVO-ASvgq3w",
        "colab": {
          "base_uri": "https://localhost:8080/"
        },
        "outputId": "8f6e1704-b474-4991-b164-8a8dbb0aa21a"
      },
      "source": [
        "for iter = 1:1000\n",
        "    println(\"VFI Start\")\n",
        "    ~ ,GG , ~ = VFI(  Kgrid, zgrid,agrid, P, na, nK, ne, nz, U, Neville, Coef, TV , TV_Howard ; Howard  = 7)  \n",
        "    println(\"VFI End\")\n",
        "\n",
        "    if ERR < 1e-4\n",
        "        A_Ind[:,1] = A_Ind[:,end]\n",
        "        Kt[1] = mean(A_Ind[:,1])\n",
        "    end\n",
        "    itp =  LinearInterpolation( ( agrid, Kgrid, [0,1],[0,1]), GG, extrapolation_bc = Line() )\n",
        "        for t = 2:T\n",
        "            A_Ind[:,t] = map( x -> itp(A_Ind[x,t-1], Kt[t-1],  zseq[t] , Ind_shock[x,t] ) , 1:NH )\n",
        "            Kt[t] = mean(A_Ind[:,t])\n",
        "            Kt[t] = max(Kgrid[1],Kt[t])\n",
        "            Kt[t] = min(Kgrid[end],Kt[t])\n",
        "        end \n",
        "     \n",
        "    XX[:,1] = Kt[T0:T-1]\n",
        "    XX[:,2] = Kt[T0+1:T]\n",
        "    XX[:,3] = Zt[T0:T-1]\n",
        "    XX_Good = XX[findall(x->x == 1.01, XX[:,3]),:] \n",
        "    XX_Bad = XX[findall(x->x == 0.99, XX[:,3]),:] \n",
        "    EST_G = OLS(log.(XX_Good[:,2]), log.(XX_Good[:,1]) ;add_constant = 1 , print = 0 ) \n",
        "    EST_B = OLS(log.(XX_Bad[:,2]), log.(XX_Bad[:,1]) ;add_constant = 1 , print = 0 ) \n",
        "    New_Coef = [EST_G' ; EST_B']\n",
        "    println(New_Coef)\n",
        "    println(Coef)\n",
        "    \n",
        "    ERR = (Coef - New_Coef) .|> abs |> maximum \n",
        "    println(\"Iteration is $iter\", \"   \", \"Error level is \", \" \", \"$ERR\")  \n",
        "    \n",
        "    Coef = (1-update_weight) * Coef + update_weight * New_Coef\n",
        "    iter += 1\n",
        "    if ERR < 1e-8\n",
        "        break\n",
        "    end\n",
        "end"
      ],
      "execution_count": null,
      "outputs": [
        {
          "output_type": "stream",
          "text": [
            "VFI Start\n",
            "VFI End\n",
            "[0.510594470447961 0.8616340459525939; 0.4787631494359709 0.8688753393076438]\n",
            "[0.0 1.0; 0.0 1.0]\n",
            "Iteration is 1   Error level is  0.510594470447961\n",
            "VFI Start\n",
            "VFI End\n",
            "[0.2634563729473977 0.92896881016798; 0.24668422547207453 0.9321106119914312]\n",
            "[0.051059447044796105 0.9861634045952594; 0.04787631494359709 0.9868875339307644]\n",
            "Iteration is 2   Error level is  0.21239692590260162\n",
            "VFI Start\n",
            "VFI End\n",
            "[0.22000687909961983 0.9407899711994148; 0.20558361095304498 0.9433012613381256]\n",
            "[0.07229913963505627 0.9804439451525315; 0.06775710599644484 0.9814098417368311]\n",
            "Iteration is 3   Error level is  0.14770773946456356\n",
            "VFI Start\n",
            "VFI End\n",
            "[0.19791179846706036 0.9468021780234172; 0.18469169613700626 0.9489931095123967]\n",
            "[0.08706991358151263 0.9764785477572199; 0.08153975649210485 0.9775989836969605]\n",
            "Iteration is 4   Error level is  0.11084188488554773\n",
            "VFI Start\n",
            "VFI End\n",
            "[0.1843437929650839 0.9504938895514979; 0.17181647006643813 0.9525022499935478]\n",
            "[0.09815410207006742 0.9735109107838396; 0.09185495045659499 0.9747383962785042]\n",
            "Iteration is 5   Error level is  0.08618969089501649\n",
            "VFI Start\n",
            "VFI End\n",
            "[0.1751843847076074 0.9529857312772875; 0.16309043884103697 0.9548813058862086]\n",
            "[0.10677307115956906 0.9712092086606054; 0.09985110241757932 0.9725147816500086]\n",
            "Iteration is 6   Error level is  0.06841131354803832\n",
            "VFI Start\n",
            "VFI End\n",
            "[0.16863816434150544 0.954766343107792; 0.15683438995269364 0.956587458561601]\n",
            "[0.1136142025143729 0.9693868609222737; 0.1061750360599251 0.9707514340736286]\n",
            "Iteration is 7   Error level is  0.05502396182713254\n",
            "VFI Start\n",
            "VFI End\n",
            "[0.1637811735889555 0.9560872124152823; 0.15217721947884852 0.9578579412585407]\n",
            "[0.11911659869708616 0.9679248091408256; 0.11124097144920195 0.9693350365224258]\n",
            "Iteration is 8   Error level is  0.04466457489186934\n",
            "VFI Start\n",
            "VFI End\n",
            "[0.16008087172939361 0.9570932953323694; 0.14861953272335338 0.9588287698364666]\n",
            "[0.12358305618627309 0.9667410494682712; 0.11533459625216662 0.9681873269960374]\n",
            "Iteration is 9   Error level is  0.036497815543120524\n",
            "VFI Start\n",
            "VFI End\n",
            "[0.15720670019705435 0.9578745712875427; 0.14585103502039498 0.9595844688395155]\n",
            "[0.12723283774058514 0.965776274054681; 0.11866308989928528 0.9672514712800804]\n",
            "Iteration is 10   Error level is  0.029973862456469214\n",
            "VFI Start\n",
            "VFI End\n",
            "[0.1549415537062293 0.9584901377302657; 0.14366510869553684 0.9601813324994639]\n",
            "[0.13023022398623205 0.9649861037779672; 0.12138188441139626 0.9664847710360238]\n",
            "Iteration is 11   Error level is  0.02471132971999726\n",
            "VFI Start\n",
            "VFI End\n",
            "[0.15313634153229355 0.9589805772252776; 0.14191990650139577 0.9606580127108004]\n",
            "[0.13270135695823176 0.9643365071731971; 0.12361020683981033 0.9658544271823679]\n",
            "Iteration is 12   Error level is  0.020434984574061787\n",
            "VFI Start\n",
            "VFI End\n",
            "[0.15168529894673274 0.959374675568604; 0.14051445058260828 0.9610420255949547]\n",
            "[0.13474485541563794 0.9638009141784052; 0.1254411768059689 0.9653347857352113]\n",
            "Iteration is 13   Error level is  0.016940443531094806\n",
            "VFI Start\n",
            "VFI End\n",
            "[0.1505107484374443 0.9596935759103786; 0.13937472650399416 0.9613535446687766]\n",
            "[0.13643889976874743 0.963358290317425; 0.12694850418363282 0.9649055097211856]\n",
            "Iteration is 14   Error level is  0.014071848668696874\n",
            "VFI Start\n",
            "VFI End\n",
            "[0.1495549496742358 0.9599529927874091; 0.1384448522150962 0.9616078024902549]\n",
            "[0.13784608463561712 0.9629918188767204; 0.12819112641566896 0.9645503132159448]\n",
            "Iteration is 15   Error level is  0.011708865038618677\n",
            "VFI Start\n",
            "VFI End\n",
            "[0.14877375494733933 0.9601649398016534; 0.13768303684253694 0.9618161907199242]\n",
            "[0.139016971139479 0.9626879362677893; 0.1292164989956117 0.9642560621433758]\n",
            "Iteration is 16   Error level is  0.009756783807860325\n",
            "VFI Start\n",
            "VFI End\n",
            "[0.14813286844502696 0.9603387490555193; 0.13705639628331928 0.9619876747246336]\n",
            "[0.13999264952026502 0.9624356366211757; 0.13006315278030423 0.9640120750010306]\n",
            "Iteration is 17   Error level is  0.008140218924761938\n",
            "VFI Start\n",
            "VFI End\n",
            "[0.14760577818765389 0.9604816342404198; 0.13653963978748018 0.9621291515524268]\n",
            "[0.14080667141274122 0.9622259478646101; 0.13076247713060574 0.9638096349733909]\n",
            "Iteration is 18   Error level is  0.006799106774912661\n",
            "VFI Start\n",
            "VFI End\n",
            "[0.14717108623010575 0.9605994165505544; 0.1361124046741708 0.9622461741712319]\n",
            "[0.1414865820902325 0.9620515165021911; 0.1313401933962932 0.9636415866312945]\n",
            "Iteration is 19   Error level is  0.005684504139873259\n",
            "VFI Start\n",
            "VFI End\n",
            "[0.1468119268026255 0.9606966847502346; 0.13575867843578532 0.9623431113161394]\n",
            "[0.1420550325042198 0.9619063065070275; 0.13181741452408094 0.9635020453852883]\n",
            "Iteration is 20   Error level is  0.0047568942984057005\n",
            "VFI Start\n",
            "VFI End\n",
            "[0.14651487420552148 0.9607770890185244; 0.13546508117366282 0.9624236127364719]\n",
            "[0.14253072193406038 0.9617853443313482; 0.1322115409152514 0.9633861519783734]\n",
            "Iteration is 21   Error level is  0.003984152271461094\n",
            "VFI Start\n",
            "VFI End\n",
            "[0.1462688118766682 0.9608436525534051; 0.13522112329277614 0.962490541091796]\n",
            "[0.14292913716120648 0.9616845188000658; 0.13253689494109255 0.9632898980541832]\n",
            "Iteration is 22   Error level is  0.0033396747154617323\n",
            "VFI Start\n",
            "VFI End\n",
            "[0.14606474966738597 0.9608988207010617; 0.13501824511620103 0.9625462331603032]\n",
            "[0.14326310463275266 0.9616004321753997; 0.13280531777626092 0.9632099623579445]\n",
            "Iteration is 23   Error level is  0.0028016450346333155\n",
            "VFI Start\n",
            "VFI End\n",
            "[0.14589540982740368 0.9609445708662484; 0.13484926460080632 0.9625926495637328]\n",
            "[0.14354326913621598 0.961530271027966; 0.13302661051025494 0.9631435894381803]\n",
            "Iteration is 24   Error level is  0.002352140691187693\n",
            "VFI Start\n",
            "VFI End\n",
            "[0.14575488193886593 0.9609825093425315; 0.13470850861713576 0.9626313394244002]\n",
            "[0.14377848320533476 0.9614717010117941; 0.13320887591931008 0.9630884954507356]\n",
            "Iteration is 25   Error level is  0.0019763987335311706\n",
            "VFI Start\n",
            "VFI End\n",
            "[0.14563808312405938 0.9610140175680576; 0.13459106036517288 0.9626636459220492]\n",
            "[0.1439761230786879 0.961422781844868; 0.13335883918909264 0.963042779848102]\n",
            "Iteration is 26   Error level is  0.0016619600453714745\n",
            "VFI Start\n",
            "VFI End\n",
            "[0.14554097984860503 0.9610401910714945; 0.1344930949180482 0.9626906140188766]\n",
            "[0.14414231908322506 0.961381905417187; 0.13348206130670065 0.9630048664554968]\n",
            "Iteration is 27   Error level is  0.0013986607653799776\n",
            "VFI Start\n",
            "VFI End\n",
            "[0.14546033665537397 0.9610619080343704; 0.1344112594859044 0.9627131599639577]\n",
            "[0.14428218515976307 0.9613477339826179; 0.1335831646678354 0.9629734412118347]\n",
            "Iteration is 28   Error level is  0.0011781514956109018\n",
            "VFI Start\n",
            "VFI End\n",
            "[0.14539318074371582 0.9610799764943425; 0.13434290033589588 0.9627320100958514]\n",
            "[0.14440000030932415 0.9613191513877931; 0.13366597414964232 0.962947413087047]\n",
            "Iteration is 29   Error level is  0.0009931804343916717\n",
            "VFI Start\n",
            "VFI End\n",
            "[0.14533738689521714 0.9610949717781615; 0.13428579691363224 0.9627477703591596]\n",
            "[0.14449931835276333 0.9612952338984481; 0.13373366676826767 0.9629258727879275]\n",
            "Iteration is 30   Error level is  0.0008380685424538015\n",
            "VFI Start\n",
            "VFI End\n",
            "[0.14529109171283144 0.9611073995498864; 0.1342380024196482 0.9627609746155902]\n",
            "[0.14458312520700872 0.9612752076864194; 0.13378887978280413 0.9629080625450508]\n",
            "Iteration is 31   Error level is  0.0007079665058227214\n",
            "VFI Start\n",
            "VFI End\n",
            "[0.14525247422278878 0.9611177546163784; 0.1341981145243255 0.9627720060675953]\n",
            "[0.144653921857591 0.9612584268727661; 0.13383379204648854 0.9628933537521047]\n",
            "Iteration is 32   Error level is  0.0005985523651977909\n",
            "VFI Start\n",
            "VFI End\n",
            "[0.14522037601319635 0.9611263513327468; 0.13416469520493426 0.9627812588609489]\n",
            "[0.14471377709411076 0.9612443596471273; 0.13387022429427223 0.9628812189836538]\n",
            "Iteration is 33   Error level is  0.0005065989190855824\n",
            "VFI Start\n",
            "VFI End\n",
            "[0.14519377308013867 0.9611334644487969; 0.13413674482134136 0.9627890059630652]\n",
            "[0.14476443698601932 0.9612325588156893; 0.13389967138533843 0.9628712229713833]\n",
            "Iteration is 34   Error level is  0.0004293360941193536\n",
            "VFI Start\n",
            "VFI End\n",
            "[0.1451715308016651 0.9611394043819351; 0.1341133596000653 0.9627954967792337]\n",
            "[0.14480737059543125 0.961222649379; 0.13392337872893872 0.9628630012705515]\n",
            "Iteration is 35   Error level is  0.0003641602062338378\n",
            "VFI Start\n",
            "VFI End\n",
            "[0.14515301550099372 0.9611443412571644; 0.13409372684482307 0.9628009527862739]\n",
            "[0.14484378661605465 0.9612143248792936; 0.13394237681605137 0.9628562508214198]\n",
            "Iteration is 36   Error level is  0.0003092288849390612\n",
            "VFI Start\n",
            "VFI End\n",
            "[0.14513773051136164 0.9611484085128447; 0.13407729260534312 0.9628055263022349]\n",
            "[0.14487470950454856 0.9612073265170806; 0.13395751181892854 0.9628507210179051]\n",
            "Iteration is 37   Error level is  0.00026302100681308005\n",
            "VFI Start\n",
            "VFI End\n",
            "[0.1451249579087305 0.961151801984778; 0.1340636082334644 0.9628093407580903]\n",
            "[0.14490101160522986 0.9612014347166571; 0.13396948989757002 0.9628462015463382]\n",
            "Iteration is 38   Error level is  0.00022394630350064393\n",
            "VFI Start\n",
            "VFI End\n",
            "[0.1451144050752456 0.9611545990064484; 0.13405206252420698 0.9628125635793785]\n",
            "[0.14492340623557992 0.9611964714434693; 0.13397890173115945 0.9628425154675134]\n",
            "Iteration is 39   Error level is  0.0001909988396656681\n",
            "VFI Start\n",
            "VFI End\n",
            "[0.14510560065654293 0.9611569279479387; 0.13404245992089192 0.9628152490077219]\n",
            "[0.1449425061195465 0.9611922841997672; 0.13398621781046421 0.9628395202786999]\n",
            "Iteration is 40   Error level is  0.00016309453699642207\n",
            "VFI Start\n",
            "VFI End\n",
            "[0.1450982293294447 0.9611588736775208; 0.13403438122497607 0.9628175120275572]\n",
            "[0.14495881557324616 0.9611887485745845; 0.133991842021507 0.9628370931516022]\n",
            "Iteration is 41   Error level is  0.00013941375619852536\n",
            "VFI Start\n",
            "VFI End\n",
            "[0.14509220319378732 0.9611604597531623; 0.13402763695324033 0.9628194049763652]\n",
            "[0.14497275694886602 0.9611857610848782; 0.1339960959418539 0.9628351350391977]\n",
            "Iteration is 42   Error level is  0.00011944624492130074\n",
            "VFI Start\n",
            "VFI End\n",
            "[0.14508720867651304 0.9611617702153272; 0.13402189780409568 0.9628210185484718]\n",
            "[0.14498470157335816 0.9611832309517065; 0.13399925004299257 0.9628335620329145]\n",
            "Iteration is 43   Error level is  0.00010250710315487521\n",
            "VFI Start\n",
            "VFI End\n",
            "[0.1450830101590454 0.9611628689160109; 0.13401715359702335 0.9628223558407146]\n",
            "[0.14499495228367365 0.9611810848780686; 0.13400151481910288 0.9628323076844703]\n",
            "Iteration is 44   Error level is  8.80578753717498e-5\n",
            "VFI Start\n",
            "VFI End\n",
            "[0.14428819565140794 0.9614395272716286; 0.1416071449566778 0.9608309440182]\n",
            "[0.14500375807121083 0.9611792632818629; 0.13400307869689493 0.9628313125000947]\n",
            "Iteration is 45   Error level is  0.007604066259782882\n",
            "VFI Start\n",
            "VFI End\n",
            "[0.1448490385754165 0.9612679914136576; 0.14159114508900228 0.9608149665524627]\n",
            "[0.14493220182923056 0.9612052896808394; 0.13476348532287322 0.9626312756519053]\n",
            "Iteration is 46   Error level is  0.006827659766129063\n",
            "VFI Start\n",
            "VFI End\n",
            "[0.14511142821553727 0.9611849694830824; 0.14147054219584523 0.9608353184890811]\n",
            "[0.14492388550384916 0.9612115598541213; 0.13544625129948612 0.962449644741961]\n",
            "Iteration is 47   Error level is  0.0060242908963591135\n",
            "VFI Start\n",
            "VFI End\n",
            "[0.14520976322883972 0.9611510802052311; 0.14131375536543012 0.960870317469581]\n",
            "[0.14494263977501798 0.9612089008170174; 0.13604868038912205 0.9622882121166731]\n",
            "Iteration is 48   Error level is  0.005265074976308071\n",
            "VFI Start\n",
            "VFI End\n",
            "[0.14522068330186746 0.9611437317703886; 0.1411546715698863 0.9609088771561876]\n",
            "[0.14496935212040016 0.9612031187558387; 0.13657518788675285 0.9621464226519639]\n",
            "Iteration is 49   Error level is  0.004579483683133434\n",
            "VFI Start\n",
            "VFI End\n",
            "[0.14518581597982727 0.9611505375797907; 0.14100837356643242 0.9609457541727455]\n",
            "[0.14499448523854688 0.9611971800572937; 0.1370331362550662 0.9620226681023863]\n",
            "Iteration is 50   Error level is  0.003975237311366231\n",
            "VFI Start\n",
            "VFI End\n",
            "[0.14513075398430172 0.9611638786901012; 0.1408778405389214 0.9609794502855775]\n",
            "[0.14501361831267492 0.9611925158095433; 0.13743065998620282 0.9619149767094224]\n",
            "Iteration is 51   Error level is  0.0034471805527185873\n",
            "VFI Start\n",
            "VFI End\n",
            "[0.14506894932719427 0.9611796949516068; 0.140763490090592 0.9610094300987765]\n",
            "[0.1450253318798376 0.9611896520975991; 0.1377753780414747 0.9618214240670379]\n",
            "Iteration is 52   Error level is  0.0029881120491173085\n",
            "VFI Start\n",
            "VFI End\n",
            "[0.14500778809150774 0.9611957299334751; 0.14066457322374906 0.9610356370469003]\n",
            "[0.14502969362457327 0.9611886563829999; 0.13807418924638643 0.9617402246702118]\n",
            "Iteration is 53   Error level is  0.002590383977362637\n",
            "VFI Start\n",
            "VFI End\n",
            "[0.1449508741631217 0.9612108512818334; 0.14057954039292306 0.9610583311626104]\n",
            "[0.14502750307126672 0.9611893637380474; 0.13833322764412267 0.9616697659078808]\n",
            "Iteration is 54   Error level is  0.002246312748800383\n",
            "VFI Start\n",
            "VFI End\n",
            "[0.14489978458124178 0.961224536489829; 0.140506823106092 0.9610778399466845]\n",
            "[0.14501984018045222 0.961191512492426; 0.1385578589190027 0.9616086224333538]\n",
            "Iteration is 55   Error level is  0.001948964187089286\n",
            "VFI Start\n",
            "VFI End\n",
            "[0.1448550030472622 0.9612365950748374; 0.14044493285578782 0.9610945051738742]\n",
            "[0.14500783462053118 0.9611948148921663; 0.13875275533771164 0.9615555441846869]\n",
            "Iteration is 56   Error level is  0.0016921775180761822\n",
            "VFI Start\n",
            "VFI End\n",
            "[0.14481645647467378 0.961247012205727; 0.14039230515136172 0.9611087152373673]\n",
            "[0.1449925514632043 0.9611989929104334; 0.13892197308951926 0.9615094402836056]\n",
            "Iteration is 57   Error level is  0.0014703320618424665\n",
            "VFI Start\n",
            "VFI End\n",
            "[0.14478356888452537 0.9612559223690385; 0.14034761588172093 0.9611208055291409]\n",
            "[0.14497494196435126 0.9612037948399628; 0.1390690062957035 0.9614693677789818]\n",
            "Iteration is 58   Error level is  0.0012786095860174151\n",
            "VFI Start\n",
            "VFI End\n",
            "[0.14475578249813162 0.96126346354731; 0.14030977101207592 0.961131058738526]\n",
            "[0.14495580465636868 0.9612090075928704; 0.13919686725430527 0.9614345115539977]\n",
            "Iteration is 59   Error level is  0.0011129037577706502\n",
            "VFI Start\n",
            "VFI End\n",
            "[0.14473239572006702 0.9612698193746977; 0.14027763666878512 0.9611397746920284]\n",
            "[0.14493580244054496 0.9612144531883144; 0.13930815763008234 0.9614041662724505]\n",
            "Iteration is 60   Error level is  0.0009694790387027863\n",
            "VFI Start\n",
            "VFI End\n",
            "[0.14471284866809186 0.9612751366425287; 0.14025042558068634 0.9611471613878921]\n",
            "[0.14491546176849715 0.9612199898069529; 0.13940510553395263 0.9613777271144083]\n",
            "Iteration is 61   Error level is  0.0008453200467337108\n",
            "VFI Start\n",
            "VFI End\n",
            "[0.14469657363462543 0.9612795666826754; 0.14022732222777778 0.9611534367918747]\n",
            "[0.1448952004584566 0.9612255044905105; 0.139489637538626 0.9613546705417566]\n",
            "Iteration is 62   Error level is  0.0007376846891517796\n",
            "VFI Start\n",
            "VFI End\n",
            "[0.14468302956220866 0.9612832555380583; 0.14020780278652942 0.9611587407949131]\n",
            "[0.14487533777607348 0.961230910709727; 0.1395634060075412 0.9613345471667685]\n",
            "Iteration is 63   Error level is  0.0006443967789882266\n",
            "VFI Start\n",
            "VFI End\n",
            "[0.1446718057989083 0.9612863136123871; 0.1401912177101271 0.9611632491905223]\n",
            "[0.144856106954687 0.9612361451925601; 0.13962784568544 0.961316966529583]\n",
            "Iteration is 64   Error level is  0.0005633720246870921\n",
            "VFI Start\n",
            "VFI End\n",
            "[0.14466255833384392 0.9612888340492929; 0.14017717215331013 0.9611670682342045]\n",
            "[0.14483767683910914 0.9612411620345428; 0.13968418288790874 0.9613015947956769]\n",
            "Iteration is 65   Error level is  0.0004929892654013945\n",
            "VFI Start\n",
            "VFI End\n",
            "[0.14465488264581242 0.9612909266228051; 0.14016527953545854 0.9611703025798193]\n",
            "[0.14482016498858263 0.9612459292360178; 0.1397334818144489 0.9612881421395296]\n",
            "Iteration is 66   Error level is  0.0004317977210096524\n",
            "VFI Start\n",
            "VFI End\n",
            "[0.14464858594879904 0.9612926434954608; 0.14015511187488147 0.9611730683377702]\n",
            "[0.14480363675430563 0.9612504289746966; 0.13977666158654986 0.9612763581835586]\n",
            "Iteration is 67   Error level is  0.000378450288331611\n",
            "VFI Start\n",
            "VFI End\n"
          ],
          "name": "stdout"
        }
      ]
    },
    {
      "cell_type": "code",
      "metadata": {
        "id": "S0lD9sgf3dpl"
      },
      "source": [
        "for t = 1:T\n",
        "    if zseq[t] == 1\n",
        "        KKt[t] = New_Coef[1,1] + New_Coef[1,2] * log(Kt[t]) |> exp\n",
        "            else\n",
        "        KKt[t] = New_Coef[2,1] + New_Coef[2,2] * log(Kt[t]) |> exp\n",
        "    end\n",
        "end"
      ],
      "execution_count": 60,
      "outputs": []
    },
    {
      "cell_type": "code",
      "metadata": {
        "colab": {
          "base_uri": "https://localhost:8080/"
        },
        "id": "Pd8nEzwq4D0a",
        "outputId": "86263a4b-5313-4483-cec7-abe41d470582"
      },
      "source": [
        "Coef[1,1] |> println \n",
        "Coef[1,2] |> println\n",
        "Coef[2,1] |> println\n",
        "Coef[2,2] |> println"
      ],
      "execution_count": null,
      "outputs": [
        {
          "output_type": "stream",
          "text": [
            "0.13860336537999843\n",
            "0.9629356729060098\n",
            "0.11883689639824496\n",
            "0.9670082535155495\n"
          ],
          "name": "stdout"
        }
      ]
    },
    {
      "cell_type": "code",
      "metadata": {
        "colab": {
          "base_uri": "https://localhost:8080/"
        },
        "id": "js59NvtI26eV",
        "outputId": "835daf94-5649-4b85-bde1-128c78db2d7a"
      },
      "source": [
        "XX[:,1] = Kt[T0:T-1]\n",
        "    XX[:,2] = Kt[T0+1:T]\n",
        "    XX[:,3] = Zt[T0:T-1]\n",
        "    XX_Good = XX[findall(x->x == 1.01, XX[:,3]),:] \n",
        "    XX_Bad = XX[findall(x->x == 0.99, XX[:,3]),:] \n",
        "    EST_G = OLS(log.(XX_Good[:,2]), log.(XX_Good[:,1]) ;add_constant = 1 , print = 1 ) \n",
        "    EST_B = OLS(log.(XX_Bad[:,2]), log.(XX_Bad[:,1]) ;add_constant = 1 , print = 1 ) "
      ],
      "execution_count": 57,
      "outputs": [
        {
          "output_type": "stream",
          "text": [
            " \n",
            "Number of observations   517\n",
            "Number of regressors     2\n",
            "result\n",
            "R-square     :    0.9953995261659454\n",
            "Variance of s2:    2.643307058838391e-6\n",
            "Log likelihood:    2587.450233191279\n",
            "D-W statistics:    2.0062784989471947\n",
            " \n",
            "Number of observations   483\n",
            "Number of regressors     2\n",
            "result\n",
            "R-square     :    0.9906497882397615\n",
            "Variance of s2:    4.263283692195773e-6\n",
            "Log likelihood:    2301.91598086442\n",
            "D-W statistics:    1.8079831310734924\n"
          ],
          "name": "stdout"
        },
        {
          "output_type": "execute_result",
          "data": {
            "text/plain": [
              "2×1 Matrix{Float64}:\n",
              " 0.1260768752912457\n",
              " 0.9650481216227436"
            ]
          },
          "metadata": {
            "tags": []
          },
          "execution_count": 57
        }
      ]
    },
    {
      "cell_type": "code",
      "metadata": {
        "colab": {
          "base_uri": "https://localhost:8080/"
        },
        "id": "Wtv1H5riTIUE",
        "outputId": "d92c8ef2-5fdd-4bcd-d85e-763cfd7e3ccf"
      },
      "source": [
        "Coef = [0.0 1.0 ; 0.0 1.0 ]"
      ],
      "execution_count": 39,
      "outputs": [
        {
          "output_type": "execute_result",
          "data": {
            "text/plain": [
              "2×2 Matrix{Float64}:\n",
              " 0.0  1.0\n",
              " 0.0  1.0"
            ]
          },
          "metadata": {
            "tags": []
          },
          "execution_count": 39
        }
      ]
    },
    {
      "cell_type": "code",
      "metadata": {
        "id": "7fKQlFlM5Or_",
        "colab": {
          "base_uri": "https://localhost:8080/"
        },
        "outputId": "69387ef5-24c8-4938-df85-ab9f1b1706f9"
      },
      "source": [
        "for iter = 1:1000\n",
        "    println(\"VFI Start\")\n",
        "    ~ ,GG , ~ = VFI(  Kgrid, zgrid,agrid, P, na, nK, ne, nz, U, Neville, Coef, TV , TV_Howard ; Howard  = 6)  \n",
        "    println(\"VFI End\")\n",
        "\n",
        "    if ERR < 1e-4\n",
        "        A_Ind[:,1] = A_Ind[:,end]\n",
        "        Kt[1] = mean(A_Ind[:,1])\n",
        "    end\n",
        "    itp =  LinearInterpolation( ( agrid, Kgrid, [0,1],[0,1]), GG, extrapolation_bc = Line() )\n",
        "    for t = 2:T\n",
        "        A_Ind[:,t] = map( x -> itp(A_Ind[x,t-1], Kt[t-1],  zseq[t] , Ind_shock[x,t] ) , 1:NH )\n",
        "        Kt[t] = mean(A_Ind[:,t])\n",
        "        Kt[t] = max(Kgrid[1],Kt[t])\n",
        "        Kt[t] = min(Kgrid[end],Kt[t])\n",
        "    end \n",
        "     \n",
        "    XX[:,1] = Kt[T0:T-1]\n",
        "    XX[:,2] = Kt[T0+1:T]\n",
        "    XX[:,3] = Zt[T0:T-1]\n",
        "    XX_Good = XX[findall(x->x == 1.01, XX[:,3]),:] \n",
        "    XX_Bad = XX[findall(x->x == 0.99, XX[:,3]),:] \n",
        "    EST_G = OLS(log.(XX_Good[:,2]), log.(XX_Good[:,1]) ;add_constant = 1 , print = 0 ) \n",
        "    EST_B = OLS(log.(XX_Bad[:,2]), log.(XX_Bad[:,1]) ;add_constant = 1 , print = 0 ) \n",
        "    New_Coef = [EST_G' ; EST_B']\n",
        "    println(New_Coef)\n",
        "    println(Coef)\n",
        "    \n",
        "    ERR_New = (Coef - New_Coef) .|> abs |> maximum \n",
        "    \n",
        "    println(\"Iteration is $iter\", \"   \", \"Error level is \", \" \", \"$ERR_New\")  \n",
        "    iter += 1\n",
        "    Coef = (1-update_weight) * Coef + update_weight * New_Coef\n",
        "    ERR = ERR_New\n",
        "    if ERR < 1e-8\n",
        "        break\n",
        "    end\n",
        "end"
      ],
      "execution_count": 56,
      "outputs": [
        {
          "output_type": "stream",
          "text": [
            "VFI Start\n",
            "VFI End\n",
            "[0.14536995443734427 0.9611117571140483; 0.12585864447648928 0.9651056924107085]\n",
            "[0.14528455314962183 0.961134487268861; 0.1257324483502089 0.9651392172521406]\n",
            "Iteration is 1   Error level is  0.0001261961262803979\n",
            "VFI Start\n",
            "VFI End\n",
            "[0.14536625960703556 0.9611126062526707; 0.12585848223897037 0.9651055880451833]\n",
            "[0.14529309327839407 0.9611322142533797; 0.12574506796283694 0.9651358647679974]\n",
            "Iteration is 2   Error level is  0.0001134142761334278\n",
            "VFI Start\n",
            "VFI End\n",
            "[0.14536235027543348 0.9611135660312811; 0.1258567812776947 0.965105949676779]\n",
            "[0.1453004099112582 0.9611302534533088; 0.1257564093904503 0.965132837095716]\n",
            "Iteration is 3   Error level is  0.00010037188724440482\n",
            "VFI Start\n",
            "VFI End\n",
            "[0.145358470658955 0.961114552316268; 0.12585425723991023 0.9651065678857921]\n",
            "[0.14530660394767572 0.9611285847111061; 0.12576644657917474 0.9651301483538223]\n",
            "Iteration is 4   Error level is  8.781066073548782e-5\n",
            "VFI Start\n",
            "VFI End\n",
            "[0.14540549860621513 0.9611030156386603; 0.12589570765100783 0.9650966321218111]\n",
            "[0.14531179061880364 0.9611271814716222; 0.1257752276452483 0.9651277903070192]\n",
            "Iteration is 5   Error level is  0.00012048000575953788\n",
            "VFI Start\n",
            "VFI End\n",
            "[0.14540568769408613 0.9611026155538938; 0.12590467264322808 0.9650938679423895]\n",
            "[0.14532116141754478 0.9611247648883261; 0.12578727564582426 0.9651246744884985]\n",
            "Iteration is 6   Error level is  0.00011739699740381804\n",
            "VFI Start\n",
            "VFI End\n",
            "[0.1454040266288829 0.9611028329402644; 0.12590868044758824 0.9650925575967169]\n",
            "[0.14532961404519892 0.9611225499548829; 0.12579901534556465 0.9651215938338876]\n",
            "Iteration is 7   Error level is  0.00010966510202359281\n",
            "VFI Start\n",
            "VFI End\n",
            "[0.14540118449701245 0.9611034497792341; 0.1259095709081107 0.9650921663092349]\n",
            "[0.1453370553035673 0.9611205782534211; 0.125809981855767 0.9651186902101706]\n",
            "Iteration is 8   Error level is  9.958905234369597e-5\n",
            "VFI Start\n",
            "VFI End\n",
            "[0.14543154874681113 0.9610960315617096; 0.12593733739230759 0.9650855203517407]\n",
            "[0.1453434682229118 0.9611188654060026; 0.12581994076100136 0.965116037820077]\n",
            "Iteration is 9   Error level is  0.00011739663130622136\n",
            "VFI Start\n",
            "VFI End\n",
            "[0.1454310945583823 0.9610958555575917; 0.12594436484319957 0.9650833280440794]\n",
            "[0.14535227627530173 0.9611165820215734; 0.12583168042413198 0.9651129860732434]\n",
            "Iteration is 10   Error level is  0.00011268441906758797\n",
            "VFI Start\n",
            "VFI End\n",
            "[0.1454289559377207 0.9610962350562209; 0.1259471957057319 0.965082367825072]\n",
            "[0.14536015810360978 0.9611145093751753; 0.12584294886603875 0.965110020270327]\n",
            "Iteration is 11   Error level is  0.00010424683969315063\n",
            "VFI Start\n",
            "VFI End\n",
            "[0.14542614081489053 0.9610968655289681; 0.12594750026481635 0.9650821557044011]\n",
            "[0.14536703788702085 0.9611126819432799; 0.12585337355000809 0.9651072550258015]\n",
            "Iteration is 12   Error level is  9.412671480826806e-5\n",
            "VFI Start\n",
            "VFI End\n",
            "[0.1454485950546815 0.961091407188722; 0.1259680992325357 0.9650772535841613]\n",
            "[0.1453729481798078 0.9611111003018487; 0.12586278622148891 0.9651047450936615]\n",
            "Iteration is 13   Error level is  0.00010531301104679813\n",
            "VFI Start\n",
            "VFI End\n",
            "[0.14544760887994698 0.9610914358791658; 0.12597304974627174 0.9650756820344604]\n",
            "[0.1453805128672952 0.9611091309905361; 0.1258733175225936 0.9651019959427115]\n",
            "Iteration is 14   Error level is  9.97322236781506e-5\n",
            "VFI Start\n",
            "VFI End\n",
            "[0.14546149819810406 0.9610880344861356; 0.12598787865218264 0.9650720692658115]\n",
            "[0.14538722246856037 0.961107361479399; 0.1258832907449614 0.9650993645518865]\n",
            "Iteration is 15   Error level is  0.0001045879072212319\n",
            "VFI Start\n",
            "VFI End\n",
            "[0.1454605282736539 0.9610880594064443; 0.12599283525589647 0.965070497720689]\n",
            "[0.14539465004151472 0.9611054287800727; 0.12589374953568352 0.965096635023279]\n",
            "Iteration is 16   Error level is  9.90857202129436e-5\n",
            "VFI Start\n",
            "VFI End\n",
            "[0.1454719081317801 0.9610852397541473; 0.12600569352157787 0.965067313314502]\n",
            "[0.14540123786472867 0.9611036918427098; 0.12590365810770482 0.96509402129302]\n",
            "Iteration is 17   Error level is  0.00010203541387304726\n",
            "VFI Start\n",
            "VFI End\n",
            "[0.14547069834104226 0.9610853558171968; 0.1260096557328979 0.96506603504084]\n",
            "[0.1454083048914338 0.9611018466338536; 0.12591386164909213 0.9650913504951681]\n",
            "Iteration is 18   Error level is  9.579408380577803e-5\n",
            "VFI Start\n",
            "VFI End\n",
            "[0.14548000814541273 0.9610830402058468; 0.1260204760600216 0.9650633397168042]\n",
            "[0.14541454423639466 0.9611001975521879; 0.12592344105747272 0.9650888189497354]\n",
            "Iteration is 19   Error level is  9.70350025488731e-5\n",
            "VFI Start\n",
            "VFI End\n",
            "[0.14548568515564467 0.9610815771786053; 0.1260291368631433 0.9650610933334304]\n",
            "[0.14542109062729647 0.9610984818175538; 0.1259331445577276 0.9650862710264423]\n",
            "Iteration is 20   Error level is  9.599230541568193e-5\n",
            "VFI Start\n",
            "VFI End\n",
            "[0.14549052921109304 0.961080290176709; 0.1260373548224102 0.9650589138806678]\n",
            "[0.14542755008013128 0.9610967913536589; 0.12594274378826917 0.9650837532571411]\n",
            "Iteration is 21   Error level is  9.461103414104555e-5\n",
            "VFI Start\n",
            "VFI End\n",
            "[0.14549463762407167 0.9610791772969359; 0.12604489126717394 0.9650568917380831]\n",
            "[0.14543384799322745 0.961095141235964; 0.12595220489168327 0.9650812693194938]\n",
            "Iteration is 22   Error level is  9.268637549067482e-5\n",
            "VFI Start\n",
            "VFI End\n",
            "[0.1454981673963191 0.9610782099973849; 0.1260515308596588 0.9650550978289292]\n",
            "[0.1454399269563119 0.9610935448420612; 0.12596147352923234 0.9650788315613528]\n",
            "Iteration is 23   Error level is  9.005733042646846e-5\n",
            "VFI Start\n",
            "VFI End\n",
            "[0.1455010448195012 0.9610774135130628; 0.1260572561904127 0.9650535430050087]\n",
            "[0.1454457510003126 0.9610920113575936; 0.125970479262275 0.9650764581881105]\n",
            "Iteration is 24   Error level is  8.677692813768845e-5\n",
            "VFI Start\n",
            "VFI End\n",
            "[0.14550326710652225 0.9610767921425201; 0.1260620752335144 0.9650522299676407]\n",
            "[0.14545128038223146 0.9610905515731405; 0.12597915695508877 0.9650741666698004]\n",
            "Iteration is 25   Error level is  8.291827842563104e-5\n",
            "VFI Start\n",
            "VFI End\n",
            "[0.145504958124167 0.961076314580113; 0.12606599769240415 0.9650511583587332]\n",
            "[0.14545647905466055 0.9610891756300785; 0.12598744878293133 0.9650719729995845]\n",
            "Iteration is 26   Error level is  7.854890947281423e-5\n",
            "VFI Start\n",
            "VFI End\n",
            "[0.14550613724116096 0.9610759772454315; 0.12606914621997492 0.9650502957384688]\n",
            "[0.14546132696161118 0.9610878895250818; 0.12599530367387862 0.9650698915354994]\n",
            "Iteration is 27   Error level is  7.38425460962977e-5\n",
            "VFI Start\n",
            "VFI End\n",
            "[0.14550701393351032 0.9610757227051921; 0.12607173794655727 0.9650495838025698]\n",
            "[0.14546580798956615 0.9610866982971168; 0.12600268792848826 0.9650679319557963]\n",
            "Iteration is 28   Error level is  6.905001806900568e-5\n",
            "VFI Start\n",
            "VFI End\n",
            "[0.14550749897707868 0.961075576612741; 0.1260737094741736 0.9650490402297238]\n",
            "[0.14546992858396057 0.9610856007379244; 0.12600959293029515 0.9650660971404736]\n",
            "Iteration is 29   Error level is  6.411654387844523e-5\n",
            "VFI Start\n",
            "VFI End\n",
            "[0.14550776827421952 0.9610754907196837; 0.1260752121418934 0.9650486252087429]\n",
            "[0.1454736856232724 0.961084598325406; 0.12601600458468298 0.9650643914493987]\n",
            "Iteration is 30   Error level is  5.920755721042226e-5\n",
            "VFI Start\n",
            "VFI End\n",
            "[0.1455078800012065 0.9610754489939203; 0.12607638237501792 0.9650483001722708]\n",
            "[0.1454770938883671 0.9610836875648339; 0.12602192534040402 0.9650628148253332]\n",
            "Iteration is 31   Error level is  5.445703461390283e-5\n",
            "VFI Start\n",
            "VFI End\n",
            "[0.14550785865578458 0.9610754442616697; 0.1260772526475882 0.9650480579983943]\n",
            "[0.14548017249965106 0.9610828637077425; 0.1260273710438654 0.965061363360027]\n",
            "Iteration is 32   Error level is  4.98816037227956e-5\n",
            "VFI Start\n",
            "VFI End\n",
            "[0.14550766606566032 0.9610754879976318; 0.12607783615992985 0.9650478939649265]\n",
            "[0.1454829411152644 0.9610821217631352; 0.1260323592042377 0.9650600328238638]\n",
            "Iteration is 33   Error level is  4.547695569215304e-5\n",
            "VFI Start\n",
            "VFI End\n",
            "[0.14550747121477092 0.9610755335214459; 0.1260783014991198 0.9650477626202852]\n",
            "[0.145485413610304 0.961081458386585; 0.1260369068998069 0.9650588189379701]\n",
            "Iteration is 34   Error level is  4.139459931290501e-5\n",
            "VFI Start\n",
            "VFI End\n",
            "[0.14550708014544197 0.9610756338547766; 0.12607850907504314 0.9650477027077418]\n",
            "[0.1454876193707507 0.9610808659000711; 0.1260410463597382 0.9650577133062017]\n",
            "Iteration is 35   Error level is  3.7462715304942273e-5\n",
            "VFI Start\n",
            "VFI End\n",
            "[0.14550678033375927 0.9610757092239313; 0.12607869292920207 0.9650476489161667]\n",
            "[0.1454895654482198 0.9610803426955417; 0.1260447926312687 0.9650567122463558]\n",
            "Iteration is 36   Error level is  3.390029793337579e-5\n",
            "VFI Start\n",
            "VFI End\n",
            "[0.14550646447077095 0.9610757909696483; 0.126078754647181 0.9650476295097875]\n",
            "[0.14549128693677377 0.9610798793483806; 0.12604818266106202 0.9650558059133368]\n",
            "Iteration is 37   Error level is  3.057198611897127e-5\n",
            "VFI Start\n",
            "VFI End\n",
            "[0.14550616004761174 0.9610758702520606; 0.12607875076270345 0.9650476273661899]\n",
            "[0.1454928046901735 0.9610794705105075; 0.12605123985967392 0.965054988272982]\n",
            "Iteration is 38   Error level is  2.751090302952064e-5\n",
            "VFI Start\n",
            "VFI End\n",
            "[0.14550581875532206 0.9610759594105852; 0.12607873724739935 0.9650476294569466]\n",
            "[0.14549414022591733 0.9610791104846628; 0.12605399094997688 0.9650542521823028]\n",
            "Iteration is 39   Error level is  2.47462974224677e-5\n",
            "VFI Start\n",
            "VFI End\n",
            "[0.14550548903399504 0.9610760458106061; 0.1260786322058796 0.9650476555835446]\n",
            "[0.14549530807885783 0.961078795377255; 0.12605646557971914 0.9650535899097672]\n",
            "Iteration is 40   Error level is  2.2166626160446956e-5\n",
            "VFI Start\n",
            "VFI End\n",
            "[0.145505240940044 0.961076111395321; 0.12607859488563936 0.9650476637082924]\n",
            "[0.14549632617437153 0.9610785204205902; 0.12605868224233518 0.965052996477145]\n",
            "Iteration is 41   Error level is  1.9912643304170752e-5\n",
            "VFI Start\n",
            "VFI End\n",
            "[0.14550499699446004 0.9610761757271864; 0.12607844662512943 0.9650477028534169]\n",
            "[0.1454972176509388 0.9610782795180633; 0.1260606735066656 0.9650524632002598]\n",
            "Iteration is 42   Error level is  1.7773118463820792e-5\n",
            "VFI Start\n",
            "VFI End\n",
            "[0.14550465778688032 0.9610762660610987; 0.12607827138504268 0.9650477490551667]\n",
            "[0.14549799558529092 0.9610780691389758; 0.126062450818512 0.9650519871655755]\n",
            "Iteration is 43   Error level is  1.58205665306832e-5\n",
            "VFI Start\n",
            "VFI End\n",
            "[0.14550443980360164 0.9610763236915979; 0.12607817653203235 0.9650477734474675]\n",
            "[0.14549866180544987 0.9610778888311882; 0.12606403287516507 0.9650515633545347]\n",
            "Iteration is 44   Error level is  1.4143656867277032e-5\n",
            "VFI Start\n",
            "VFI End\n",
            "[0.14550421704362207 0.9610763827100985; 0.12607809527600808 0.96504779548242]\n",
            "[0.14549923960526506 0.9610777323172291; 0.1260654472408518 0.965051184363828]\n",
            "Iteration is 45   Error level is  1.2648035156270776e-5\n",
            "VFI Start\n",
            "VFI End\n",
            "[0.1455040040353282 0.9610764404077569; 0.12607794339837536 0.9650478354649716]\n",
            "[0.14549973734910077 0.9610775973565161; 0.12606671204436742 0.9650508454756872]\n",
            "Iteration is 46   Error level is  1.1231354007934513e-5\n",
            "VFI Start\n",
            "VFI End\n",
            "[0.14550377884267757 0.9610765000198098; 0.12607786715873653 0.9650478554698857]\n",
            "[0.1455001640177235 0.9610774816616402; 0.12606783517976822 0.9650505444746157]\n",
            "Iteration is 47   Error level is  1.0031978968316757e-5\n",
            "VFI Start\n",
            "VFI End\n",
            "[0.14550367691340785 0.9610765271954325; 0.126077785322385 0.9650478775426578]\n",
            "[0.1455005255002189 0.9610773834974572; 0.12606883837766505 0.9650502755741427]\n",
            "Iteration is 48   Error level is  8.946944719950833e-6\n",
            "VFI Start\n",
            "VFI End\n",
            "[0.14550352568311925 0.961076567826559; 0.12607766110454494 0.9650479104976463]\n",
            "[0.1455008406415378 0.9610772978672547; 0.12606973307213704 0.9650500357709941]\n",
            "Iteration is 49   Error level is  7.928032407900076e-6\n",
            "VFI Start\n",
            "VFI End\n",
            "[0.14550341979702416 0.9610765961095359; 0.12607759846706978 0.9650479270043177]\n",
            "[0.14550110914569592 0.9610772248631851; 0.12607052587537781 0.9650498232436594]\n",
            "Iteration is 50   Error level is  7.072591691970054e-6\n",
            "VFI Start\n",
            "VFI End\n",
            "[0.14550324606573017 0.961076642347293; 0.12607752409893352 0.9650479473993765]\n",
            "[0.14550134021082875 0.9610771619878202; 0.12607123313454702 0.9650496336197253]\n",
            "Iteration is 51   Error level is  6.290964386507225e-6\n",
            "VFI Start\n",
            "VFI End\n",
            "[0.14550314638564987 0.9610766694489439; 0.1260774544274024 0.965047965839221]\n",
            "[0.1455015307963189 0.9610771100237675; 0.12607186223098565 0.9650494649976904]\n",
            "Iteration is 52   Error level is  5.59219641674269e-6\n",
            "VFI Start\n",
            "VFI End\n",
            "[0.14550304154903654 0.9610766976070204; 0.12607736855758633 0.9650479893398655]\n",
            "[0.14550169235525198 0.9610770659662852; 0.12607242145062733 0.9650493150818434]\n",
            "Iteration is 53   Error level is  4.947106959002356e-6\n",
            "VFI Start\n",
            "VFI End\n",
            "[0.1455029730716985 0.9610767156273778; 0.1260772864577636 0.965048010761807]\n",
            "[0.14550182727463046 0.9610770291303588; 0.12607291616132324 0.9650491825076457]\n",
            "Iteration is 54   Error level is  4.3702964403480316e-6\n",
            "VFI Start\n",
            "VFI End\n",
            "[0.14550295320041493 0.9610767212424527; 0.12607729208711835 0.9650480091438816]\n",
            "[0.1455019418543373 0.9610769977800607; 0.12607335319096727 0.9650490653330619]\n",
            "Iteration is 55   Error level is  3.938896151078897e-6\n",
            "VFI Start\n",
            "VFI End\n",
            "[0.14550289932808375 0.9610767355742472; 0.12607725709099205 0.9650480187536743]\n",
            "[0.14550204298894506 0.9610769701263; 0.1260737470805824 0.965048959714144]\n",
            "Iteration is 56   Error level is  3.5100104096574825e-6\n",
            "VFI Start\n",
            "VFI End\n",
            "[0.1455028047803559 0.961076761610172; 0.1260771494914881 0.9650480479476745]\n",
            "[0.14550212862285894 0.9610769466710947; 0.12607409808162334 0.965048865618097]\n",
            "Iteration is 57   Error level is  3.0514098647571597e-6\n",
            "VFI Start\n",
            "VFI End\n",
            "[0.14550280327698767 0.9610767619787124; 0.12607713545829374 0.9650480513702369]\n",
            "[0.14550219623860863 0.9610769281650025; 0.12607440322260982 0.9650487838510547]\n",
            "Iteration is 58   Error level is  2.732235683922113e-6\n",
            "VFI Start\n",
            "VFI End\n",
            "[0.14550271966791548 0.9610767840927826; 0.1260770960024841 0.9650480620438626]\n",
            "[0.14550225694244653 0.9610769115463735; 0.1260746764461782 0.965048710602973]\n",
            "Iteration is 59   Error level is  2.419556305893744e-6\n",
            "VFI Start\n",
            "VFI End\n",
            "[0.14550266848139665 0.9610767975741689; 0.12607704847942133 0.9650480746178871]\n",
            "[0.1455023032149934 0.9610768988010144; 0.1260749184018088 0.9650486457470621]\n",
            "Iteration is 60   Error level is  2.1300776125443566e-6\n",
            "VFI Start\n",
            "VFI End\n",
            "[0.145502683847256 0.9610767938062682; 0.12607702735666967 0.9650480810894388]\n",
            "[0.14550233974163376 0.9610768886783299; 0.12607513140957005 0.9650485886341446]\n",
            "Iteration is 61   Error level is  1.895947099622708e-6\n",
            "VFI Start\n",
            "VFI End\n",
            "[0.1455027253820187 0.9610767826350837; 0.1260770308453732 0.9650480793446364]\n",
            "[0.14550237415219597 0.9610768791911237; 0.12607532100428 0.965048537879674]\n",
            "Iteration is 62   Error level is  1.7098410931837282e-6\n",
            "VFI Start\n",
            "VFI End\n",
            "[0.14550256415145615 0.9610768260663671; 0.1260769637669682 0.965048098275103]\n",
            "[0.14550240927517824 0.9610768695355197; 0.12607549198838933 0.9650484920261704]\n",
            "Iteration is 63   Error level is  1.4717785788709303e-6\n",
            "VFI Start\n",
            "VFI End\n",
            "[0.1455025470809725 0.9610768300477329; 0.12607699937659742 0.9650480879912028]\n",
            "[0.14550242476280603 0.9610768651886045; 0.12607563916624723 0.9650484526510636]\n",
            "Iteration is 64   Error level is  1.3602103501875185e-6\n",
            "VFI Start\n",
            "VFI End\n",
            "[0.14550255063197287 0.9610768300867575; 0.12607692457651007 0.9650481082281742]\n",
            "[0.1455024369946227 0.9610768616745173; 0.12607577518728225 0.9650484161850775]\n",
            "Iteration is 65   Error level is  1.1493892278224838e-6\n",
            "VFI Start\n",
            "VFI End\n",
            "[0.14550255621366823 0.9610768284952331; 0.12607696842315833 0.9650480957515083]\n",
            "[0.14550244835835774 0.9610768585157414; 0.12607589012620504 0.9650483853893872]\n",
            "Iteration is 66   Error level is  1.0782969532829867e-6\n",
            "VFI Start\n",
            "VFI End\n",
            "[0.1455025050465421 0.9610768420721205; 0.12607695165192917 0.965048101307984]\n",
            "[0.1455024591438888 0.9610768555136906; 0.12607599795590038 0.9650483564255994]\n",
            "Iteration is 67   Error level is  9.536960287881424e-7\n",
            "VFI Start\n",
            "VFI End\n",
            "[0.14550250614674565 0.9610768415231686; 0.12607693653629665 0.9650481050477903]\n",
            "[0.14550246373415412 0.9610768541695336; 0.12607609332550326 0.9650483309138378]\n",
            "Iteration is 68   Error level is  8.432107933831201e-7\n",
            "VFI Start\n",
            "VFI End\n",
            "[0.1455025748980534 0.9610768228762606; 0.12607696773634708 0.9650480963121538]\n",
            "[0.1455024679754133 0.9610768529048971; 0.1260761776465826 0.965048308327233]\n",
            "Iteration is 69   Error level is  7.900897644741445e-7\n",
            "VFI Start\n",
            "VFI End\n",
            "[0.14550254225294157 0.961076832135607; 0.12607693636632902 0.9650481054183865]\n",
            "[0.14550247866767732 0.9610768499020335; 0.12607625665555905 0.9650482871257251]\n",
            "Iteration is 70   Error level is  6.797107699740845e-7\n",
            "VFI Start\n",
            "VFI End\n",
            "[0.14550252538009276 0.9610768362523627; 0.12607691789714476 0.9650481097105735]\n",
            "[0.14550248502620375 0.9610768481253908; 0.12607632462663604 0.9650482689549913]\n",
            "Iteration is 71   Error level is  5.932705087197121e-7\n",
            "VFI Start\n",
            "VFI End\n",
            "[0.14550250377652008 0.9610768421681429; 0.12607692246153265 0.9650481088086045]\n",
            "[0.14550248906159263 0.961076846938088; 0.12607638395368692 0.9650482530305495]\n",
            "Iteration is 72   Error level is  5.385078457320613e-7\n",
            "VFI Start\n",
            "VFI End\n",
            "[0.145502490475454 0.9610768458957049; 0.12607686054113976 0.9650481256543977]\n",
            "[0.1455024905330854 0.9610768464610935; 0.1260764378044715 0.9650482386083551]\n",
            "Iteration is 73   Error level is  4.2273666825409784e-7\n",
            "VFI Start\n",
            "VFI End\n",
            "[0.14550253975003652 0.9610768330977721; 0.12607690251167097 0.96504811405487]\n",
            "[0.14550249052732225 0.9610768464045547; 0.12607648007813832 0.9650482273129594]\n",
            "Iteration is 74   Error level is  4.2243353265414285e-7\n",
            "VFI Start\n",
            "VFI End\n",
            "[0.14550251334184577 0.9610768393076917; 0.12607691918939956 0.9650481091777194]\n",
            "[0.14550249544959368 0.9610768450738765; 0.12607652232149158 0.9650482159871505]\n",
            "Iteration is 75   Error level is  3.968679079813242e-7\n",
            "VFI Start\n",
            "VFI End\n",
            "[0.1455025471695489 0.9610768313061004; 0.1260769029046589 0.9650481136521106]\n",
            "[0.1455024972388189 0.961076844497258; 0.12607656200828238 0.9650482053062075]\n",
            "Iteration is 76   Error level is  3.4089637651613103e-7\n",
            "VFI Start\n",
            "VFI End\n",
            "[0.1455024454069518 0.9610768581855292; 0.1260768523787504 0.9650481271958151]\n",
            "[0.1455025022318919 0.9610768431781422; 0.12607659609792002 0.9650481961407978]\n",
            "Iteration is 77   Error level is  2.562808303907538e-7\n",
            "VFI Start\n",
            "VFI End\n",
            "[0.14550249929571166 0.9610768435817988; 0.12607694012879947 0.9650481039601505]\n",
            "[0.1455024965493979 0.9610768446788809; 0.12607662172600306 0.9650481892462996]\n",
            "Iteration is 78   Error level is  3.184027964064917e-7\n",
            "VFI Start\n",
            "VFI End\n",
            "[0.14550247754658258 0.9610768496945423; 0.12607687613376412 0.9650481218180292]\n",
            "[0.14550249682402927 0.9610768445691726; 0.1260766535662827 0.9650481807176847]\n",
            "Iteration is 79   Error level is  2.2256748141713523e-7\n",
            "VFI Start\n",
            "VFI End\n",
            "[0.14550247949369483 0.961076848865882; 0.12607688766706018 0.9650481177514009]\n",
            "[0.1455024948962846 0.9610768450817097; 0.12607667582303084 0.9650481748277192]\n",
            "Iteration is 80   Error level is  2.1184402934637525e-7\n",
            "VFI Start\n",
            "VFI End\n",
            "[0.1455024338819589 0.9610768609317347; 0.12607687285015537 0.9650481222271194]\n",
            "[0.14550249335602564 0.9610768454601268; 0.12607669700743376 0.9650481691200874]\n",
            "Iteration is 81   Error level is  1.7584272160586778e-7\n",
            "VFI Start\n",
            "VFI End\n",
            "[0.14550244694706577 0.9610768578854616; 0.12607688323645586 0.9650481193208686]\n",
            "[0.14550248740861896 0.9610768470072876; 0.12607671459170594 0.9650481644307907]\n",
            "Iteration is 82   Error level is  1.6864474991495904e-7\n",
            "VFI Start\n",
            "VFI End\n",
            "[0.14550243282125705 0.9610768613613471; 0.12607686659528447 0.9650481243079563]\n",
            "[0.14550248336246366 0.9610768480951051; 0.12607673145618092 0.9650481599197984]\n",
            "Iteration is 83   Error level is  1.3513910354645553e-7\n",
            "VFI Start\n",
            "VFI End\n",
            "[0.1455024405524482 0.9610768592924546; 0.1260768701469329 0.9650481231567327]\n",
            "[0.145502478308343 0.9610768494217293; 0.12607674497009128 0.9650481563586143]\n",
            "Iteration is 84   Error level is  1.251768416143939e-7\n",
            "VFI Start\n",
            "VFI End\n",
            "[0.14550241661871557 0.9610768658950756; 0.1260768788354899 0.9650481207162962]\n",
            "[0.14550247453275353 0.9610768504088019; 0.12607675748777544 0.9650481530384262]\n",
            "Iteration is 85   Error level is  1.2134771446015158e-7\n",
            "VFI Start\n",
            "VFI End\n",
            "[0.145502443078609 0.96107685884729; 0.12607684411528067 0.9650481297422606]\n",
            "[0.14550246874134973 0.9610768519574292; 0.12607676962254688 0.9650481498062132]\n",
            "Iteration is 86   Error level is  7.449273378701271e-8\n",
            "VFI Start\n",
            "VFI End\n",
            "[0.14550243220035344 0.9610768613058012; 0.12607689243396702 0.965048116862555]\n",
            "[0.14550246617507565 0.9610768526464153; 0.12607677707182025 0.965048147799818]\n",
            "Iteration is 87   Error level is  1.1536214677976275e-7\n",
            "VFI Start\n",
            "VFI End\n",
            "[0.14550248184596468 0.9610768480926527; 0.1260769093989649 0.9650481125493556]\n",
            "[0.14550246277760343 0.961076853512354; 0.12607678860803492 0.9650481447060917]\n",
            "Iteration is 88   Error level is  1.2079092998051877e-7\n",
            "VFI Start\n",
            "VFI End\n",
            "[0.14550249642711963 0.9610768436586676; 0.12607690549968886 0.9650481132184594]\n",
            "[0.14550246468443956 0.9610768529703838; 0.12607680068712793 0.9650481414904182]\n",
            "Iteration is 89   Error level is  1.0481256093597402e-7\n",
            "VFI Start\n",
            "VFI End\n",
            "[0.1455025066896858 0.9610768421881393; 0.12607688635851969 0.9650481189956782]\n",
            "[0.14550246785870757 0.9610768520392122; 0.126076811168384 0.9650481386632224]\n",
            "Iteration is 90   Error level is  7.519013567325317e-8\n",
            "VFI Start\n",
            "VFI End\n",
            "[0.14550241676840725 0.9610768658266728; 0.12607684424684346 0.9650481300550035]\n",
            "[0.14550247174180542 0.961076851054105; 0.1260768186873976 0.9650481366964679]\n",
            "Iteration is 91   Error level is  5.4973398166957566e-8\n",
            "VFI Start\n",
            "VFI End\n",
            "[0.14550245937075967 0.9610768537277112; 0.1260769263063235 0.9650481073402642]\n",
            "[0.14550246624446558 0.9610768525313619; 0.12607682124334219 0.9650481360323215]\n",
            "Iteration is 92   Error level is  1.0506298131485181e-7\n",
            "VFI Start\n",
            "VFI End\n",
            "[0.14550242961699947 0.9610768626317859; 0.1260768497993937 0.9650481289206697]\n",
            "[0.14550246555709498 0.9610768526509968; 0.12607683174964032 0.9650481331631158]\n",
            "Iteration is 93   Error level is  3.5940095510778036e-8\n",
            "VFI Start\n",
            "VFI End\n",
            "[0.14550254341912855 0.9610768311865965; 0.12607689792701574 0.9650481147845014]\n",
            "[0.14550246196308542 0.9610768536490757; 0.12607683355461566 0.9650481327388711]\n",
            "Iteration is 94   Error level is  8.145604313281041e-8\n",
            "VFI Start\n",
            "VFI End\n",
            "[0.14550246348366358 0.9610768532067913; 0.12607686398073073 0.9650481246864125]\n",
            "[0.14550247010868972 0.9610768514028278; 0.12607683999185568 0.9650481309434342]\n",
            "Iteration is 95   Error level is  2.3988875053060355e-8\n",
            "VFI Start\n",
            "VFI End\n",
            "[0.14550246519773335 0.9610768523850095; 0.12607687134248405 0.965048122238664]\n",
            "[0.1455024694461871 0.9610768515832242; 0.12607684239074318 0.9650481303177321]\n",
            "Iteration is 96   Error level is  2.8951740865812425e-8\n",
            "VFI Start\n",
            "VFI End\n",
            "[0.1455024635012299 0.9610768532537274; 0.12607690983221445 0.9650481129482048]\n",
            "[0.14550246902134173 0.9610768516634028; 0.12607684528591728 0.9650481295098253]\n",
            "Iteration is 97   Error level is  6.454629716823312e-8\n",
            "VFI Start\n",
            "VFI End\n",
            "[0.1455024907401311 0.9610768456732781; 0.12607693879107515 0.9650481048081341]\n",
            "[0.14550246846933057 0.9610768518224353; 0.126076851740547 0.9650481278536632]\n",
            "Iteration is 98   Error level is  8.705052814694803e-8\n",
            "VFI Start\n",
            "VFI End\n",
            "[0.1455024433133887 0.9610768585353275; 0.1260768405353535 0.9650481309198926]\n",
            "[0.14550247069641065 0.9610768512075196; 0.12607686044559982 0.9650481255491103]\n",
            "Iteration is 99   Error level is  2.738302193328046e-8\n",
            "VFI Start\n",
            "VFI End\n",
            "[0.1455024684969305 0.9610768515904976; 0.126076903499399 0.9650481136472612]\n",
            "[0.14550246795810845 0.9610768519403005; 0.1260768584545752 0.9650481260861885]\n",
            "Iteration is 100   Error level is  4.504482381539887e-8\n",
            "VFI Start\n",
            "VFI End\n",
            "[0.14550249653712813 0.9610768442540897; 0.12607686986153535 0.9650481229164859]\n",
            "[0.14550246801199065 0.9610768519053202; 0.12607686295905757 0.9650481248422957]\n",
            "Iteration is 101   Error level is  2.852513747431118e-8\n",
            "VFI Start\n",
            "VFI End\n",
            "[0.14550246229980912 0.9610768534171613; 0.12607687783649985 0.9650481207868248]\n",
            "[0.1455024708645044 0.9610768511401971; 0.12607686364930534 0.9650481246497147]\n",
            "Iteration is 102   Error level is  1.4187194502524036e-8\n",
            "VFI Start\n",
            "VFI End\n",
            "[0.14550247457666005 0.9610768503764416; 0.12607684444001227 0.9650481304792998]\n",
            "[0.14550247000803487 0.9610768513678936; 0.1260768650680248 0.9650481242634257]\n",
            "Iteration is 103   Error level is  2.0628012520340633e-8\n",
            "VFI Start\n",
            "VFI End\n",
            "[0.1455024231823865 0.9610768639552908; 0.12607687562984904 0.9650481215626907]\n",
            "[0.1455024704648974 0.9610768512687484; 0.12607686300522353 0.9650481248850131]\n",
            "Iteration is 104   Error level is  4.728251090657665e-8\n",
            "VFI Start\n",
            "VFI End\n",
            "[0.14550241828681856 0.9610768656575248; 0.12607686531140105 0.9650481243041813]\n",
            "[0.1455024657366463 0.9610768525374027; 0.12607686426768608 0.9650481245527809]\n",
            "Iteration is 105   Error level is  4.7449827733636596e-8\n",
            "VFI Start\n",
            "VFI End\n",
            "[0.14550247658406792 0.9610768497184464; 0.12607688491584174 0.9650481190996995]\n",
            "[0.14550246099166353 0.961076853849415; 0.1260768643720576 0.965048124527921]\n",
            "Iteration is 106   Error level is  2.054378414606539e-8\n",
            "VFI Start\n",
            "VFI End\n",
            "[0.14550254885975183 0.9610768297378927; 0.12607689476308748 0.9650481162250142]\n",
            "[0.14550246255090396 0.9610768534363181; 0.126076866426436 0.9650481239850989]\n",
            "Iteration is 107   Error level is  8.630884787419468e-8\n",
            "VFI Start\n",
            "VFI End\n",
            "[0.14550241918498877 0.9610768649975795; 0.12607686475954913 0.9650481235764783]\n",
            "[0.14550247118178877 0.9610768510664756; 0.12607686926010114 0.9650481232090905]\n",
            "Iteration is 108   Error level is  5.1996800004561194e-8\n",
            "VFI Start\n",
            "VFI End\n",
            "[0.1455024768610926 0.9610768499607868; 0.12607689848478756 0.9650481154113245]\n",
            "[0.14550246598210878 0.961076852459586; 0.12607686881004596 0.9650481232458293]\n",
            "Iteration is 109   Error level is  2.9674741608420874e-8\n",
            "VFI Start\n",
            "VFI End\n",
            "[0.14550252708873382 0.9610768360792311; 0.12607691532809698 0.9650481107900921]\n",
            "[0.14550246707000716 0.9610768522097061; 0.1260768717775201 0.9650481224623788]\n",
            "Iteration is 110   Error level is  6.001872665528651e-8\n",
            "VFI Start\n",
            "VFI End\n",
            "[0.14550248048064396 0.9610768484934056; 0.1260768752912457 0.9650481216227436]\n",
            "[0.14550247307187983 0.9610768505966586; 0.1260768761325778 0.9650481212951502]\n",
            "Iteration is 111   Error level is  7.4087641299680485e-9\n"
          ],
          "name": "stdout"
        }
      ]
    },
    {
      "cell_type": "code",
      "metadata": {
        "colab": {
          "base_uri": "https://localhost:8080/"
        },
        "id": "CscjRIisSdaB",
        "outputId": "5f22ea50-5812-4200-e98c-b3973fbab869"
      },
      "source": [
        "New_Coef = copy(Coef)"
      ],
      "execution_count": 35,
      "outputs": [
        {
          "output_type": "execute_result",
          "data": {
            "text/plain": [
              "2×2 Matrix{Float64}:\n",
              " 0.0  1.0\n",
              " 0.0  1.0"
            ]
          },
          "metadata": {
            "tags": []
          },
          "execution_count": 35
        }
      ]
    },
    {
      "cell_type": "code",
      "metadata": {
        "id": "obwk_igWl2IN"
      },
      "source": [
        "using Plots"
      ],
      "execution_count": 63,
      "outputs": []
    },
    {
      "cell_type": "code",
      "metadata": {
        "id": "fJJ_XFT9WBkI"
      },
      "source": [
        "plot(2:T, Kt[2:T], label = \"Actual Aggregate Capital\", \n",
        "    size = (1600,900), xlabel = \"Time Period\", ylabel = \"Capital\")\n",
        "plot!(2:T,KKt[1:T-1] , label = \"Predicted Aggregate Captital\")\n",
        "title!(\"Replication Figure of Maliar et al(2010)\")\n",
        "savefig(\"/content/drive/MyDrive/Figure_1.png\")"
      ],
      "execution_count": 69,
      "outputs": []
    },
    {
      "cell_type": "code",
      "metadata": {
        "colab": {
          "base_uri": "https://localhost:8080/"
        },
        "id": "z-FuoiWQWBs6",
        "outputId": "5ef78b9a-cb49-417e-8811-b79087edb4bb"
      },
      "source": [
        "GG"
      ],
      "execution_count": 68,
      "outputs": [
        {
          "output_type": "execute_result",
          "data": {
            "text/plain": [
              "100×6×2×2 Array{Float64, 4}:\n",
              "[:, :, 1, 1] =\n",
              "    0.0            0.0          …    0.0            0.0\n",
              "    4.4381e-14     1.4309e-13        5.40786e-14    3.3351e-14\n",
              "    5.8374e-14     3.51545e-14       7.36723e-14    5.61604e-14\n",
              "    5.45149e-14    5.41603e-14       5.31423e-14    4.43557e-14\n",
              "    8.23443e-15    8.42635e-14       8.31247e-14    5.84472e-14\n",
              "    2.56193e-14    5.90779e-14  …    2.5184e-14     1.72245e-13\n",
              "    1.33933e-14    4.97847e-14       1.46009e-13    8.75369e-14\n",
              "    3.94016e-14    6.28468e-14       7.70109e-14    1.01185e-13\n",
              "    3.25148e-14    3.80757e-14       9.44498e-14    1.98441e-14\n",
              "    3.33868e-14    4.21639e-14       9.05577e-14    3.27493e-14\n",
              "    1.51924e-14    8.1636e-15   …    3.22072e-14    6.70901e-14\n",
              "    8.40694e-14    4.71078e-15       6.87207e-14    3.48932e-14\n",
              "    3.10669e-14    9.12116e-14       2.21699e-14    5.71106e-14\n",
              "    ⋮                           ⋱                   ⋮\n",
              "  441.369        438.22            432.974        431.886\n",
              "  477.827        474.441           468.812        467.647\n",
              "  516.829        513.188        …  507.15         505.903\n",
              "  558.52         554.606           548.131        546.796\n",
              "  603.051        598.849           591.905        590.477\n",
              "  650.575        646.076           638.628        637.098\n",
              "  701.234        696.453           688.466        686.829\n",
              "  755.137        750.148        …  741.586        739.831\n",
              "  812.32         807.315           798.171        796.292\n",
              "  872.681        868.035           858.386        856.402\n",
              "  935.898        932.192           922.448        920.354\n",
              " 1000.0          999.411           990.579        988.36\n",
              "\n",
              "[:, :, 2, 1] =\n",
              "    0.0             0.0          …    0.0            0.0\n",
              "    6.51173e-15     3.38607e-14       2.85824e-14    5.95005e-15\n",
              "    2.6949e-14      2.56358e-14       1.2607e-14     3.47659e-14\n",
              "    4.66923e-15     4.23504e-14       8.68615e-14    8.78047e-14\n",
              "    2.00785e-14     1.42304e-14       3.09985e-14    1.83859e-14\n",
              "    2.56914e-14     1.99681e-14  …    2.45256e-14    2.67704e-14\n",
              "    1.91181e-14     5.04954e-14       4.11236e-14    9.01935e-14\n",
              "    5.76479e-15     1.49007e-14       3.41341e-14    7.74251e-15\n",
              "    6.69381e-14     3.81678e-14       3.57482e-14    2.35781e-14\n",
              "    3.34807e-14     3.32498e-14       5.31969e-14    2.02733e-14\n",
              "    3.22685e-14     1.28435e-14  …    1.58998e-14    9.9737e-15\n",
              "    1.04441e-14     3.2202e-14        8.2787e-14     2.39612e-14\n",
              "    1.3696e-14      1.91741e-14       7.42346e-14    3.06442e-14\n",
              "    ⋮                            ⋱                   ⋮\n",
              "  442.597         439.266           433.728        432.582\n",
              "  479.158         475.575           469.63         468.402\n",
              "  518.269         514.416        …  508.036        506.721\n",
              "  560.078         555.934           549.089        547.681\n",
              "  604.735         600.284           592.941        591.433\n",
              "  652.393         647.625           639.747        638.131\n",
              "  703.195         698.124           689.673        687.942\n",
              "  757.25          751.949        …  742.887        741.031\n",
              "  814.586         809.254           799.573        797.584\n",
              "  875.077         870.118           859.894        857.795\n",
              "  938.262         934.364           924.067        921.858\n",
              " 1000.0          1000.0             992.312        989.995\n",
              "\n",
              "[:, :, 1, 2] =\n",
              "    0.659851     0.684989    0.71322     0.741596    0.76914     0.796589\n",
              "    0.659851     0.684989    0.71322     0.741596    0.76914     0.796589\n",
              "    0.659851     0.684989    0.71322     0.741596    0.76914     0.796589\n",
              "    0.659851     0.684989    0.71322     0.741596    0.76914     0.796589\n",
              "    0.659852     0.684989    0.713221    0.741596    0.769141    0.796589\n",
              "    0.659852     0.68499     0.713221    0.741597    0.769141    0.79659\n",
              "    0.659854     0.684992    0.713223    0.741598    0.769143    0.796592\n",
              "    0.659859     0.684997    0.713228    0.741603    0.769148    0.796597\n",
              "    0.659871     0.685009    0.71324     0.741615    0.769159    0.796608\n",
              "    0.659896     0.685034    0.713264    0.741639    0.769183    0.796632\n",
              "    0.659946     0.685082    0.713312    0.741686    0.769229    0.796678\n",
              "    0.660035     0.68517     0.713398    0.741771    0.769314    0.796762\n",
              "    0.660189     0.685321    0.713547    0.741918    0.769459    0.796907\n",
              "    ⋮                                                            ⋮\n",
              "  443.237      440.262     438.183     436.632     435.422     434.445\n",
              "  479.695      476.483     474.239     472.566     471.26      470.207\n",
              "  518.697      515.23      512.81      511.006     509.598     508.463\n",
              "  560.388      556.648     554.04      552.095     550.579     549.356\n",
              "  604.919      600.891     598.079     595.985     594.353     593.036\n",
              "  652.442      648.118     645.085     642.831     641.076     639.658\n",
              "  703.097      698.495     695.222     692.796     690.914     689.388\n",
              "  756.99       752.19      748.664     746.052     744.034     742.39\n",
              "  814.15       809.353     805.591     802.775     800.618     798.852\n",
              "  874.469      870.056     866.218     863.172     860.833     858.963\n",
              "  937.599      934.168     930.659     927.478     924.896     922.915\n",
              " 1000.0       1000.0       998.915     995.85      993.029     990.924\n",
              "\n",
              "[:, :, 2, 2] =\n",
              "    0.629752     0.650576     0.67529     0.700728    0.725812    0.751139\n",
              "    0.629752     0.650576     0.67529     0.700728    0.725812    0.751139\n",
              "    0.629752     0.650576     0.67529     0.700728    0.725812    0.751139\n",
              "    0.629752     0.650576     0.67529     0.700728    0.725812    0.751139\n",
              "    0.629752     0.650576     0.67529     0.700728    0.725812    0.751139\n",
              "    0.629753     0.650577     0.675291    0.700729    0.725812    0.751139\n",
              "    0.629754     0.650579     0.675293    0.700731    0.725814    0.751141\n",
              "    0.62976      0.650584     0.675298    0.700736    0.725819    0.751146\n",
              "    0.629772     0.650595     0.67531     0.700747    0.72583     0.751157\n",
              "    0.629797     0.650621     0.675334    0.700772    0.725855    0.751181\n",
              "    0.629846     0.650669     0.675382    0.700819    0.725901    0.751228\n",
              "    0.629937     0.650757     0.675469    0.700904    0.725986    0.751312\n",
              "    0.630092     0.650909     0.675618    0.701052    0.726133    0.751458\n",
              "    ⋮                                                             ⋮\n",
              "  444.488      441.333      439.131     437.488     436.206     435.173\n",
              "  481.049      477.641      475.264     473.491     472.108     470.994\n",
              "  520.16       516.482      513.917     512.005     510.514     509.312\n",
              "  561.969      558.001      555.235     553.174     551.567     550.272\n",
              "  606.626      602.351      599.368     597.148     595.419     594.024\n",
              "  654.283      649.692      646.474     644.085     642.225     640.722\n",
              "  705.082      700.191      696.718     694.147     692.151     690.533\n",
              "  759.128      754.016      750.273     747.505     745.366     743.621\n",
              "  816.446      811.317      807.322     804.338     802.05      800.175\n",
              "  876.901      872.169      868.086     864.854     862.37      860.386\n",
              "  940.0        936.37       932.665     929.283     926.545     924.45\n",
              " 1000.0       1000.0       1000.0       997.79      994.791     992.592"
            ]
          },
          "metadata": {
            "tags": []
          },
          "execution_count": 68
        }
      ]
    },
    {
      "cell_type": "code",
      "metadata": {
        "id": "l9UnDji4SiWa"
      },
      "source": [
        "using JLD2"
      ],
      "execution_count": 70,
      "outputs": []
    },
    {
      "cell_type": "code",
      "metadata": {
        "colab": {
          "base_uri": "https://localhost:8080/"
        },
        "id": "H8PbFncBoQrA",
        "outputId": "6fea2371-2c3c-4646-9e1a-a13b864dd6af"
      },
      "source": [
        "zseq"
      ],
      "execution_count": 72,
      "outputs": [
        {
          "output_type": "execute_result",
          "data": {
            "text/plain": [
              "1100-element Vector{Int64}:\n",
              " 0\n",
              " 0\n",
              " 0\n",
              " 0\n",
              " 0\n",
              " 0\n",
              " 1\n",
              " 0\n",
              " 1\n",
              " 1\n",
              " 1\n",
              " 1\n",
              " 1\n",
              " ⋮\n",
              " 1\n",
              " 1\n",
              " 0\n",
              " 0\n",
              " 0\n",
              " 0\n",
              " 1\n",
              " 1\n",
              " 1\n",
              " 1\n",
              " 1\n",
              " 1"
            ]
          },
          "metadata": {
            "tags": []
          },
          "execution_count": 72
        }
      ]
    },
    {
      "cell_type": "code",
      "metadata": {
        "id": "XejEsxGZWL-U"
      },
      "source": [
        "jldsave(\"/content/drive/MyDrive/Krusell_Smith_Result.jld2\"; \n",
        "GG, A_Ind, Kt, KKt , Ind_shock, zseq, Zt, Coef) "
      ],
      "execution_count": 74,
      "outputs": []
    }
  ]
}