{
 "cells": [
  {
   "cell_type": "markdown",
   "metadata": {},
   "source": [
    "### Business Cycle Accounting Replication Code\n",
    "\n",
    "- Based on Brinca (2017), I convert MATLAB code into Julia Code"
   ]
  },
  {
   "cell_type": "code",
   "execution_count": 1,
   "metadata": {},
   "outputs": [],
   "source": [
    "using Plots\n",
    "using StatsFuns\n",
    "using Distributions, Interpolations\n",
    "using DataFrames, XLSX\n",
    "using Dierckx\n",
    "include(\"OLS.jl\")"
   ]
  },
  {
   "cell_type": "markdown",
   "metadata": {},
   "source": [
    "<h4>전처리과정<h4>\n",
    "\n",
    "- 분석에 이용되는 데이터를 만들어 내기 위해서 다음과 같은 데이터 조작을 진행하였다. \n",
    "    \n",
    "    1) Sales tax 및 생산가능인구가 "
   ]
  },
  {
   "cell_type": "code",
   "execution_count": 2,
   "metadata": {
    "scrolled": false
   },
   "outputs": [],
   "source": [
    "Cap_Data = DataFrame(XLSX.readtable(\"KOR_Cap.xlsx\",\"Sheet1\" ,infer_eltypes = true)...);\n",
    "KOR_Data = DataFrame(XLSX.readtable(\"KOR_Data.xlsx\",\"Sheet1\" ,infer_eltypes = true)...);\n",
    "Pop_Data = DataFrame(XLSX.readtable(\"KOR_Pop.xlsx\",\"Sheet1\" ,infer_eltypes = true)...);\n",
    "Emp_Data = DataFrame(XLSX.readtable(\"KOR_Emp.xlsx\",\"Sheet1\" ,infer_eltypes = true)...);\n",
    "Tax_Data = DataFrame(XLSX.readtable(\"KOR_Tax.xlsx\",\"Sheet2\",infer_eltypes = true,)...);"
   ]
  },
  {
   "cell_type": "code",
   "execution_count": 3,
   "metadata": {},
   "outputs": [],
   "source": [
    "Y = KOR_Data[:,2]*10^9 ; # 분기별 실질 GDP \n",
    "C = KOR_Data[:,3]*10^9;  # 분기별 민간 소비지출\n",
    "G = KOR_Data[:,4]*10^9 ; # 분기별 정부 소비지출\n",
    "I = KOR_Data[:,5]*10^9 ; # 분기별 총자본형성(투자)\n",
    "X = KOR_Data[:,6]*10^9 ; # 분기별 수출\n",
    "M = KOR_Data[:,7] *10^9; # 분기별 수입\n",
    "CD = KOR_Data[:,8] *10^9; # 분기별 가계의 내구재 소비  \n",
    "# Tax 계산\n",
    "Tax = Tax_Data[:,2]*0.01 ; \n",
    "sp1 = Spline1D(1:1:40, Tax, k = 3, bc = \"extrapolate\");\n",
    "Tax_Rate = sp1(1.25:0.25:160/4+1);\n",
    "Sales_Tax = Tax_Rate .* Y ; # Sales Tax 계산 \n",
    "## 인구데이터 계산하기 \n",
    "Pop = Pop_Data.Pop ;\n",
    "sp2 = Spline1D(1:size(Pop,1),Pop, k = 3, bc = \"extrapolate\" )\n",
    "Pop_QTR = sp2(1.25:0.25:size(Y,1)/4+1); \n",
    "Pop_QTR = 1000*Pop_QTR;\n",
    "## 고용데이터 \n",
    "T = Emp_Data.Time ;\n",
    "ET = Emp_Data.ET ;  \n",
    "HRS = Emp_Data.HRS /4 ;"
   ]
  },
  {
   "cell_type": "code",
   "execution_count": 4,
   "metadata": {},
   "outputs": [],
   "source": []
  },
  {
   "cell_type": "code",
   "execution_count": 5,
   "metadata": {},
   "outputs": [
    {
     "name": "stderr",
     "output_type": "stream",
     "text": [
      "WARNING: using LinearAlgebra.I in module Main conflicts with an existing identifier.\n"
     ]
    },
    {
     "data": {
      "text/plain": [
       "OLS (generic function with 1 method)"
      ]
     },
     "execution_count": 5,
     "metadata": {},
     "output_type": "execute_result"
    }
   ],
   "source": []
  },
  {
   "cell_type": "code",
   "execution_count": 6,
   "metadata": {},
   "outputs": [
    {
     "data": {
      "text/plain": [
       "([13799.862131802796; -6.5904872667689265], [338.43729496165577, 0.169300615875967])"
      ]
     },
     "execution_count": 6,
     "metadata": {},
     "output_type": "execute_result"
    }
   ],
   "source": [
    "# 2019년 데이터가 존재하지 않기 때문에 이에 대해서는 \n",
    "# Time Linear Model을 통해서 이를 이용해서 값을 추정. \n",
    "# 근로자당 노동시간이 연간이기 때문에 분기별로 만들기 위해서 1/4 로 조정 \n",
    "Beta, ~ = OLS(HRS[1:39],T[1:39] ; add_constant = 1) "
   ]
  },
  {
   "cell_type": "code",
   "execution_count": 7,
   "metadata": {},
   "outputs": [],
   "source": [
    "HRS[end] = Beta[1] + T[40]*Beta[2] ; "
   ]
  },
  {
   "cell_type": "code",
   "execution_count": 8,
   "metadata": {},
   "outputs": [],
   "source": [
    "sp3 = Spline1D(1:size(ET,1),ET, k=3, bc =\"extrapolate\")\n",
    "sp4 = Spline1D(1:size(HRS,1),HRS, k=3, bc =\"extrapolate\")\n",
    "ET_QTR = sp3(1.25:0.25:size(Y,1)/4+1); \n",
    "HRS_QTR = sp4(1.25:0.25:size(Y,1)/4+1); "
   ]
  },
  {
   "cell_type": "code",
   "execution_count": 11,
   "metadata": {},
   "outputs": [],
   "source": [
    "## 소비자의 내구재로부터 축적되는 자본 \n",
    "\n",
    "Delta_D = 1-(1-0.25)^(1/4); # Depreciation Rate of Durable Goods \n",
    "KCD = zeros(size(CD,1),1);\n",
    "KCD[1] = 16*CD[1];\n",
    "for i = 1:size(CD,1)-1\n",
    "    KCD[i+1] = (1-Delta_D)*KCD[i]+CD[i]\n",
    "end\n",
    "## 논문에 맞게 Adjust 시키기 \n",
    "ADJ_Y = Y - Sales_Tax + 0.01*KCD + Delta_D*KCD ;\n",
    "ADJ_C = C - CD - (C-CD).* Tax_Rate + 0.01*KCD + Delta_D*KCD ;\n",
    "ADJ_G = G + X -M ; \n",
    "H = HRS_QTR .* ET_QTR ;\n",
    "ADJ_X = CD + I - CD/C*Tax_Rate ; \n",
    "##\n",
    "\n",
    "ypc = ADJ_Y./Pop_QTR;\n",
    "hpc = H./Pop_QTR/1300;\n",
    "xpc = ADJ_X./Pop_QTR;\n",
    "gpc = ADJ_G./Pop_QTR;\n",
    "cpc = ADJ_C./Pop_QTR;\n",
    "iP = Pop_QTR ; \n",
    "# \n",
    "K = Cap_Data.Capital;\n",
    "sp5 = Spline1D(1:size(K,1),K, k = 3 , bc = \"extrapolate\")\n",
    "K_QTR =  sp5(1.25:0.25:size(ypc,1)/4+1);\n",
    "# Captial Stock interpolated \n",
    "# 한국은행 데이터는 10억 단위 \n",
    "kpc = K_QTR./iP * 10^9; # Per capita Capital Stock \n",
    "# end program"
   ]
  },
  {
   "cell_type": "code",
   "execution_count": 13,
   "metadata": {},
   "outputs": [],
   "source": []
  },
  {
   "cell_type": "markdown",
   "metadata": {},
   "source": [
    "- Steady State of $$\n",
    "\n",
    "\\begin{align*}\n",
    "\\dfrac{\\hat{k}}{l} &= (\\dfrac{ (1+\\tau_{x})(1-\\hat{\\beta}(1-\\delta))  }\n",
    "{ \\hat{\\beta}\\theta z^{1-\\theta} })^{1/(\\theta-1)} \\\\\n",
    "\\hat{c} &= [  (\\dfrac{\\hat{k}}{l})^{\\theta-1}z^{1-\\theta} - (1+g_{z})(1+g_{n}) + 1-\\delta)]\\hat{k} -\\hat{g}  \\\\\n",
    "\\hat{c} &= [ (1-\\tau_{l})(1-\\theta)(\\dfrac{\\hat{k}}{l})^{\\theta}z^{1-\\theta}/\\psi](1-1/(\\dfrac{\\hat{k}}{l})\\hat{k})\n",
    "\\end{align*}"
   ]
  },
  {
   "cell_type": "code",
   "execution_count": null,
   "metadata": {},
   "outputs": [],
   "source": []
  }
 ],
 "metadata": {
  "kernelspec": {
   "display_name": "Julia 1.4.1",
   "language": "julia",
   "name": "julia-1.4"
  },
  "language_info": {
   "file_extension": ".jl",
   "mimetype": "application/julia",
   "name": "julia",
   "version": "1.4.1"
  }
 },
 "nbformat": 4,
 "nbformat_minor": 2
}
